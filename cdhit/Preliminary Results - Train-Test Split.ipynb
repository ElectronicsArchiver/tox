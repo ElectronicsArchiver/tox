{
 "cells": [
  {
   "cell_type": "code",
   "execution_count": 1,
   "metadata": {},
   "outputs": [],
   "source": [
    "from collections import defaultdict"
   ]
  },
  {
   "cell_type": "code",
   "execution_count": 3,
   "metadata": {},
   "outputs": [],
   "source": [
    "lines = []\n",
    "with open(\"./posSeqsResult/1650843550.fas.1.clstr.sorted\", \"r\") as f:\n",
    "    lines = f.read().splitlines()\n",
    "\n",
    "currCluster = None\n",
    "clusterToProteins = defaultdict(set)\n",
    "numProteins = 0\n",
    "proteinIds = []\n",
    "# proteinToClusters = defaultdict(set)\n",
    "for line in lines:\n",
    "    if line.startswith('>Cluster'):\n",
    "        currCluster = int(line.split()[1])\n",
    "    else:\n",
    "        proteinId = int(line.split('\\t')[1].split('>')[1].split('...')[0])\n",
    "        clusterToProteins[currCluster].add(proteinId)\n",
    "        numProteins += 1\n",
    "        proteinIds.append(proteinId)\n",
    "        # proteinToClusters[proteinId].add(currCluster)\n",
    "\n",
    "proteinIds.sort()"
   ]
  },
  {
   "cell_type": "code",
   "execution_count": 4,
   "metadata": {},
   "outputs": [
    {
     "name": "stdout",
     "output_type": "stream",
     "text": [
      "[]\n",
      "number of proteins:  6942\n",
      "goal train:  6247.8\n",
      "goal test:  694.2\n"
     ]
    }
   ],
   "source": [
    "ids = [i for i in range(6942)]\n",
    "notThere = []\n",
    "for protid in ids:\n",
    "    if protid not in proteinIds:\n",
    "        notThere.append(protid)\n",
    "print(notThere)\n",
    "\n",
    "print(\"number of proteins: \", numProteins)\n",
    "print(\"goal train: \", numProteins * 0.9)\n",
    "print(\"goal test: \", numProteins * 0.1)\n",
    "\n",
    "# print(clusterToProteins[0])\n",
    "# print(proteinToClusters[680])"
   ]
  },
  {
   "cell_type": "code",
   "execution_count": null,
   "metadata": {},
   "outputs": [],
   "source": []
  }
 ],
 "metadata": {
  "kernelspec": {
   "display_name": "Python 3",
   "language": "python",
   "name": "python3"
  },
  "language_info": {
   "codemirror_mode": {
    "name": "ipython",
    "version": 3
   },
   "file_extension": ".py",
   "mimetype": "text/x-python",
   "name": "python",
   "nbconvert_exporter": "python",
   "pygments_lexer": "ipython3",
   "version": "3.7.1"
  }
 },
 "nbformat": 4,
 "nbformat_minor": 2
}
