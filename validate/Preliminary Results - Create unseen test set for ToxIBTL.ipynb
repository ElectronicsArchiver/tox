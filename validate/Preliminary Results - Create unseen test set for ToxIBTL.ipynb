{
 "cells": [
  {
   "cell_type": "code",
   "execution_count": 24,
   "metadata": {},
   "outputs": [],
   "source": [
    "from Bio import SeqIO\n",
    "from Bio.Seq import Seq\n",
    "from Bio.SeqRecord import SeqRecord\n",
    "import random"
   ]
  },
  {
   "cell_type": "code",
   "execution_count": 19,
   "metadata": {},
   "outputs": [
    {
     "name": "stdout",
     "output_type": "stream",
     "text": [
      "80000\n",
      "28315\n"
     ]
    }
   ],
   "source": [
    "posSeqsFA = SeqIO.parse(open('../data/combined/toxin-0.fasta'), 'fasta')\n",
    "negSeqsFA = SeqIO.parse(open('../data/combined/nontoxin-0.fasta'), 'fasta')\n",
    "\n",
    "posSeqs = set()\n",
    "negSeqs = set()\n",
    "\n",
    "for fasta in posSeqsFA:\n",
    "    seq = str(fasta.seq).upper()\n",
    "    posSeqs.add(seq)\n",
    "for fasta in negSeqsFA:\n",
    "    seq = str(fasta.seq).upper()\n",
    "    negSeqs.add(seq)\n",
    "\n",
    "print(len(posSeqs))\n",
    "print(len(negSeqs))\n",
    "\n"
   ]
  },
  {
   "cell_type": "code",
   "execution_count": 20,
   "metadata": {},
   "outputs": [],
   "source": [
    "toxibtlProteinTrainPosSeqs = set()\n",
    "toxibtlProteinTrainNegSeqs = set()\n",
    "\n",
    "toxibtlProteinTrainSeqs = SeqIO.parse(open('../data/toxibtl/protein/train.fa'), 'fasta')\n",
    "for fasta in toxibtlProteinTrainSeqs:\n",
    "    _, isPos = fasta.description.split('\\t')\n",
    "    seq = str(fasta.seq)\n",
    "    if isPos == '0':\n",
    "        toxibtlProteinTrainNegSeqs.add(seq)\n",
    "    else:\n",
    "        toxibtlProteinTrainPosSeqs.add(seq)\n",
    "\n",
    "toxibtlProteinTestPosSeqs = set()\n",
    "toxibtlProteinTestNegSeqs = set()\n",
    "\n",
    "toxibtlProteinTestSeqs = SeqIO.parse(open('../data/toxibtl/protein/test.fa'), 'fasta')\n",
    "for fasta in toxibtlProteinTestSeqs:\n",
    "    _, isPos = fasta.description.split('\\t')\n",
    "    seq = str(fasta.seq)\n",
    "    if isPos == '0':\n",
    "        toxibtlProteinTestNegSeqs.add(seq)\n",
    "    else:\n",
    "        toxibtlProteinTestPosSeqs.add(seq)\n",
    "            \n",
    "            \n",
    "toxibtlPeptidePosSeqs = set()\n",
    "toxibtlPeptideNegSeqs = set()\n",
    "\n",
    "toxibtlPeptideSeqs = SeqIO.parse(open('../data/toxibtl/peptide/peptide.fasta'), 'fasta')\n",
    "for fasta in toxibtlPeptideSeqs:\n",
    "    isPos, _ = fasta.description.split(' ')\n",
    "    seq = str(fasta.seq)\n",
    "    if isPos == '|non-toxin':\n",
    "        toxibtlPeptideNegSeqs.add(seq)\n",
    "    else:\n",
    "        toxibtlPeptidePosSeqs.add(seq)\n",
    "\n",
    "toxibtlPosSeqs = toxibtlProteinTrainPosSeqs.union(toxibtlProteinTestPosSeqs).union(toxibtlPeptidePosSeqs)\n",
    "toxibtlNegSeqs = toxibtlProteinTrainNegSeqs.union(toxibtlProteinTestNegSeqs).union(toxibtlPeptideNegSeqs)"
   ]
  },
  {
   "cell_type": "code",
   "execution_count": 25,
   "metadata": {},
   "outputs": [],
   "source": [
    "posNotInIBTL = []\n",
    "negNotInIBTL = []\n",
    "\n",
    "for seq in posSeqs:\n",
    "    if seq not in toxibtlPosSeqs and len(seq) < 50:\n",
    "        posNotInIBTL.append(seq)\n",
    "for seq in negSeqs:\n",
    "    if seq not in toxibtlNegSeqs and len(seq) < 50:\n",
    "        negNotInIBTL.append(seq)"
   ]
  },
  {
   "cell_type": "code",
   "execution_count": 26,
   "metadata": {},
   "outputs": [
    {
     "name": "stdout",
     "output_type": "stream",
     "text": [
      "1521\n",
      "18931\n"
     ]
    }
   ],
   "source": [
    "print(len(posNotInIBTL))\n",
    "print(len(negNotInIBTL))"
   ]
  },
  {
   "cell_type": "code",
   "execution_count": 29,
   "metadata": {},
   "outputs": [],
   "source": [
    "posToTest = random.sample(posNotInIBTL, 200)\n",
    "negToTest = random.sample(negNotInIBTL, 200)"
   ]
  },
  {
   "cell_type": "code",
   "execution_count": 33,
   "metadata": {},
   "outputs": [],
   "source": [
    "posToTestFA = [SeqRecord(Seq(seq), id=str(i), description='') for i, seq in enumerate(posToTest)]\n",
    "negToTestFA = [SeqRecord(Seq(seq), id=str(i), description='') for i, seq in enumerate(negToTest)]\n",
    "\n",
    "with open(\"./pos.fasta\", \"w\") as f:\n",
    "    SeqIO.write(posToTestFA, f, \"fasta\")\n",
    "with open(\"./neg.fasta\", \"w\") as f:\n",
    "    SeqIO.write(negToTestFA, f, \"fasta\")"
   ]
  },
  {
   "cell_type": "code",
   "execution_count": null,
   "metadata": {},
   "outputs": [],
   "source": []
  }
 ],
 "metadata": {
  "kernelspec": {
   "display_name": "tox",
   "language": "python",
   "name": "tox"
  },
  "language_info": {
   "codemirror_mode": {
    "name": "ipython",
    "version": 3
   },
   "file_extension": ".py",
   "mimetype": "text/x-python",
   "name": "python",
   "nbconvert_exporter": "python",
   "pygments_lexer": "ipython3",
   "version": "3.9.12"
  }
 },
 "nbformat": 4,
 "nbformat_minor": 2
}
