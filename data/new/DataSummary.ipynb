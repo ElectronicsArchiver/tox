{
 "cells": [
  {
   "cell_type": "markdown",
   "id": "59eef335-84b2-4f6a-81fc-74541b1b24ea",
   "metadata": {},
   "source": [
    "# Database Sources & Links"
   ]
  },
  {
   "cell_type": "markdown",
   "id": "8c553935-2f79-4e88-ac6c-e976f8d08aa9",
   "metadata": {
    "tags": []
   },
   "source": [
    "## UniProt - protein dataset\n",
    "- PUBMED LINK (https://pubmed.ncbi.nlm.nih.gov/33237286/)\n",
    "- DATABASE LINK (https://beta.uniprot.org/)\n",
    "- **Used.**\n",
    "\n",
    "## VenomKB - a centralized resource for discovering therapeutic uses for animal venoms and venom compounds\n",
    "- PUBMED LINK (https://www.biorxiv.org/content/10.1101/295204v1.full)\n",
    "- DATABASE LINK (http://venomkb.org/)\n",
    "- **Used.**\n",
    "\n",
    "## DPL - a comprehensive database on sequences, structures, sources, and functions of peptide ligands.\n",
    "- PUBMED LINK (https://pubmed.ncbi.nlm.nih.gov/33216893/)\n",
    "- DATABASE LINK (http://www.peptide-ligand.cn/index.php/category/home/)\n",
    "- **NOTE**: Note, data is duplicated from CAMP3R and APD3 datasets, collected already. Didn't use.\n",
    "\n",
    "## APD3 - the updated antimicrobial peptide database and its application in peptide design\n",
    "- PUBMED LINK (https://pubmed.ncbi.nlm.nih.gov/18957441/)\n",
    "- DATABASE LINK (https://aps.unmc.edu/downloads)\n",
    "- **Used.**\n",
    "\n",
    "## PepBank - a database of peptides based on sequence text mining and public peptide data sources\n",
    "- PUBMED LINK (https://pubmed.ncbi.nlm.nih.gov/17678535/)\n",
    "- DATABASE LINK (http://pepbank.mgh.harvard.edu/)\n",
    "- **NOTE**: Duplicate data from UniProtKB.\n",
    "\n",
    "## FermFooDb - a database of bioactive peptides derived from fermented foods\n",
    "- PUBMED LINK (https://pubmed.ncbi.nlm.nih.gov/33898816/)\n",
    "- DATABASE LINK (https://webs.iiitd.edu.in/raghava/fermfoodb/index.php)\n",
    "- **Used.** \n",
    "\n",
    "## PlantAFP - a curated database of plant-origin antifungal peptides\n",
    "- PUBMED LINK (https://pubmed.ncbi.nlm.nih.gov/31612325/)\n",
    "- DATABASE LINK (http://bioinformatics.cimap.res.in/sharma/PlantAFP/)\n",
    "- **NOTE**: Lots of sequence data is actually missing, can't be really used.\n",
    "\n",
    "## DBETH - a database of bacterial exotoxins for human\n",
    "- PUBMED LINK (https://pubmed.ncbi.nlm.nih.gov/22102573/)\n",
    "- DATABASE LINK (http://www.hpppi.iicb.res.in/btox/)\n",
    "- **Used.**\n",
    "\n",
    "## THPdb - database of FDA approved peptide and protein therapeutics\n",
    "- PUBMED LINK (https://pubmed.ncbi.nlm.nih.gov/28759605/)\n",
    "- DATABASE LINK (https://webs.iiitd.edu.in/raghava/thpdb/)\n",
    "- **Used.**\n",
    "\n",
    "## PepTherDia - database and structural composition analysis of approved peptide therapeutics and diagnostics\n",
    "- PUBMED LINK (https://pubmed.ncbi.nlm.nih.gov/33647438/)\n",
    "- DATABASE LINK (http://peptherdia.herokuapp.com)\n",
    "- **Used.**\n",
    "\n",
    "## PlantPepDB - a manually curated plant peptide database\n",
    "- PUBMED LINK (https://pubmed.ncbi.nlm.nih.gov/32042035/)\n",
    "- DATABASE LINK (http://www.nipgr.ac.in/PlantPepDB/)\n",
    "- **Used.**\n",
    "\n",
    "## ConoServer - a database for conopeptides\n",
    "- PUBMED LINK (https://pubmed.ncbi.nlm.nih.gov/18065428/)\n",
    "- DATABASE LINK (http://www.conoserver.org/)\n",
    "- **Used.**\n",
    "\n",
    "## ISOB - a database of indigenous snake species of Bangladesh with respective known venom composition\n",
    "- PUBMED LINK (https://pubmed.ncbi.nlm.nih.gov/25848172/)\n",
    "- DATABASE LINK (http://www.snakebd.com/)\n",
    "- **Used.**\n",
    " \n",
    " ## T3DB Database - a database of toxic proteins and compounds for humans\n",
    " - PUBMED LINK (https://pubmed.ncbi.nlm.nih.gov/25378312/)\n",
    " - DATABASE LINK (http://www.t3db.ca/)\n",
    " - **NOTE**: All duplicates of UniProt"
   ]
  },
  {
   "cell_type": "markdown",
   "id": "9597376e-8bad-4ea9-b965-9bb2fd83b2af",
   "metadata": {
    "tags": []
   },
   "source": [
    "# UniProt Database - All Toxins"
   ]
  },
  {
   "cell_type": "code",
   "execution_count": 39,
   "id": "67dcb0d5-784b-48ca-af62-a8c06195b8b6",
   "metadata": {},
   "outputs": [],
   "source": [
    "from bs4 import BeautifulSoup\n",
    "from io import StringIO\n",
    "import requests\n",
    "import pandas as pd\n",
    "import numpy as np\n",
    "import json"
   ]
  },
  {
   "cell_type": "code",
   "execution_count": 2,
   "id": "0775d603-ea32-4e40-9659-26d58f726e0b",
   "metadata": {},
   "outputs": [],
   "source": [
    "uniprot_toxin_kw = [\n",
    "    \"0008\",\n",
    "    \"0108\",\n",
    "    \"0123\",\n",
    "    \"0204\",\n",
    "    \"0260\",\n",
    "    \"0528\",\n",
    "    \"0629\",\n",
    "    \"0632\",\n",
    "    \"0638\",\n",
    "    \"0738\",\n",
    "    \"0766\",\n",
    "    \"0800\",\n",
    "    \"0843\",\n",
    "    \"0870\",\n",
    "    \"0872\",\n",
    "    \"0959\",\n",
    "    \"1052\",\n",
    "    \"1053\",\n",
    "    \"1061\",\n",
    "    \"1199\",\n",
    "    \"1200\",\n",
    "    \"1201\",\n",
    "    \"1202\",\n",
    "    \"1203\",\n",
    "    \"1204\",\n",
    "    \"1205\",\n",
    "    \"1206\",\n",
    "    \"1213\",\n",
    "    \"1214\",\n",
    "    \"1216\",\n",
    "    \"1217\",\n",
    "    \"1218\",\n",
    "    \"1219\",\n",
    "    \"1220\",\n",
    "    \"1221\",\n",
    "    \"1222\",\n",
    "    \"1255\",\n",
    "    \"1265\",\n",
    "    \"1266\",\n",
    "    \"1275\",\n",
    "    \"0878\",\n",
    "]\n",
    "uniprot_toxin_kw = [\"KW-\" + x for x in uniprot_toxin_kw]"
   ]
  },
  {
   "cell_type": "code",
   "execution_count": 71,
   "id": "88a2a42e-9be6-483a-866f-7dc2ffe27238",
   "metadata": {},
   "outputs": [],
   "source": [
    "# Reviewed Frames\n",
    "uniprot_reviewed_frames = []\n",
    "\n",
    "for toxin_kw in uniprot_toxin_kw:\n",
    "    init_kw_url = f'https://rest.uniprot.org/uniprotkb/search?query=keyword:{toxin_kw}+AND+reviewed:true&format=tsv&fields=id,protein_name,sequence&size=500'\n",
    "    kw_req = requests.get(init_kw_url)\n",
    "\n",
    "    while 'Link' in kw_req.headers:\n",
    "        kw_stringio = StringIO(kw_req.text)\n",
    "        df = pd.read_csv(kw_stringio, sep='\\t')\n",
    "        uniprot_reviewed_frames += [df]\n",
    "        kw_next_url = kw_req.headers['Link']\n",
    "        kw_next_url = kw_next_url[1:kw_next_url.rfind('>')]\n",
    "        kw_req = requests.get(kw_next_url)\n",
    "    \n",
    "    final_kw_stringio = StringIO(kw_req.text)\n",
    "    df = pd.read_csv(final_kw_stringio, sep='\\t')\n",
    "    uniprot_reviewed_frames += [df]\n",
    "    \n",
    "uniprot_all_rev = pd.concat(uniprot_reviewed_frames)"
   ]
  },
  {
   "cell_type": "code",
   "execution_count": 72,
   "id": "1136b8c5-e9a8-470c-8e5e-442db8451813",
   "metadata": {},
   "outputs": [],
   "source": [
    "# Unreviewed Frames\n",
    "uniprot_unreviewed_frames = []\n",
    "\n",
    "for toxin_kw in uniprot_toxin_kw:\n",
    "    init_kw_url = f'https://rest.uniprot.org/uniprotkb/search?query=keyword:{toxin_kw}+AND+reviewed:false&format=tsv&fields=id,protein_name,sequence&size=500'\n",
    "    kw_req = requests.get(init_kw_url)\n",
    "\n",
    "    while 'Link' in kw_req.headers:\n",
    "        kw_stringio = StringIO(kw_req.text)\n",
    "        df = pd.read_csv(kw_stringio, sep='\\t')\n",
    "        uniprot_unreviewed_frames += [df]\n",
    "        kw_next_url = kw_req.headers['Link']\n",
    "        kw_next_url = kw_next_url[1:kw_next_url.rfind('>')]\n",
    "        kw_req = requests.get(kw_next_url)\n",
    "    \n",
    "    final_kw_stringio = StringIO(kw_req.text)\n",
    "    df = pd.read_csv(final_kw_stringio, sep='\\t')\n",
    "    uniprot_unreviewed_frames += [df]\n",
    "    \n",
    "uniprot_all_unrev = pd.concat(uniprot_unreviewed_frames)"
   ]
  },
  {
   "cell_type": "code",
   "execution_count": 79,
   "id": "aac17348-d020-4925-a4b3-421b766f443b",
   "metadata": {},
   "outputs": [],
   "source": [
    "# Drop duplicates\n",
    "uniprot_all_rev = uniprot_all_rev.drop_duplicates(subset='Sequence')\n",
    "uniprot_all_unrev = uniprot_all_unrev.drop_duplicates(subset='Sequence')"
   ]
  },
  {
   "cell_type": "code",
   "execution_count": 86,
   "id": "27113db8-0f72-4052-bb02-4be07db99fa8",
   "metadata": {},
   "outputs": [],
   "source": [
    "# Write both out\n",
    "uniprot_all_rev.to_csv('uniprot_manually_annotated.csv.gz', index=False)\n",
    "uniprot_all_unrev.to_csv('uniprot_auto_annotated.csv.gz', index=False)"
   ]
  },
  {
   "cell_type": "markdown",
   "id": "50ec2d49-85a4-4227-b856-893fa9b459ee",
   "metadata": {},
   "source": [
    "# VenomKB"
   ]
  },
  {
   "cell_type": "code",
   "execution_count": 74,
   "id": "7885a120-4841-4e0d-a158-c0986bab40d1",
   "metadata": {},
   "outputs": [],
   "source": [
    "# assume that venomkb_proteins.json is already downloaded\n",
    "# from this page: http://venomkb.org/download\n",
    "import pandas as pd"
   ]
  },
  {
   "cell_type": "code",
   "execution_count": 83,
   "id": "7f729a72-b83e-405b-9227-8b5b3b0fa31a",
   "metadata": {},
   "outputs": [
    {
     "data": {
      "text/html": [
       "<div>\n",
       "<style scoped>\n",
       "    .dataframe tbody tr th:only-of-type {\n",
       "        vertical-align: middle;\n",
       "    }\n",
       "\n",
       "    .dataframe tbody tr th {\n",
       "        vertical-align: top;\n",
       "    }\n",
       "\n",
       "    .dataframe thead th {\n",
       "        text-align: right;\n",
       "    }\n",
       "</style>\n",
       "<table border=\"1\" class=\"dataframe\">\n",
       "  <thead>\n",
       "    <tr style=\"text-align: right;\">\n",
       "      <th></th>\n",
       "      <th>name</th>\n",
       "      <th>description</th>\n",
       "      <th>aa_sequence</th>\n",
       "    </tr>\n",
       "  </thead>\n",
       "  <tbody>\n",
       "    <tr>\n",
       "      <th>0</th>\n",
       "      <td>Thrombin-like enzyme asperase</td>\n",
       "      <td>Snake venom serine protease that clots human p...</td>\n",
       "      <td>MVLIRVLANLLILQLSYAQKSSELVIGGDECNINEHRSLVVLFNSS...</td>\n",
       "    </tr>\n",
       "    <tr>\n",
       "      <th>1</th>\n",
       "      <td>Snake venom serine protease</td>\n",
       "      <td>Snake venom serine protease that may act in th...</td>\n",
       "      <td>MVLIRVLANLLILQLSYAQKSSELVIGGDECNINEHRSLALVYITS...</td>\n",
       "    </tr>\n",
       "    <tr>\n",
       "      <th>2</th>\n",
       "      <td>Zinc metalloproteinase/disintegrin</td>\n",
       "      <td>Snake venom metalloproteinase: impairs hemosta...</td>\n",
       "      <td>MIEVLLVTICLAVSPYQGSSIILESGNVNDYEVVYPRKVTELPKGA...</td>\n",
       "    </tr>\n",
       "    <tr>\n",
       "      <th>3</th>\n",
       "      <td>Cysteine-rich venom protein VAR2</td>\n",
       "      <td>Blocks ryanodine receptors, and potassium chan...</td>\n",
       "      <td>MILLKLYLTLAAILCQSRGTTSLDLDDLMTTNPEIQNEIINKHNDL...</td>\n",
       "    </tr>\n",
       "    <tr>\n",
       "      <th>4</th>\n",
       "      <td>Toxin KTx8</td>\n",
       "      <td>This recombinant toxin inhibits the mammalian ...</td>\n",
       "      <td>MNKVCFVVVLVLFVALAAYVSPIEGVPTGGCPLSDSLCAKYCKSHK...</td>\n",
       "    </tr>\n",
       "    <tr>\n",
       "      <th>...</th>\n",
       "      <td>...</td>\n",
       "      <td>...</td>\n",
       "      <td>...</td>\n",
       "    </tr>\n",
       "    <tr>\n",
       "      <th>6231</th>\n",
       "      <td>Scolopendra 20566.01 Da toxin</td>\n",
       "      <td>None</td>\n",
       "      <td>XKMSEQGLNAQMKAQIVDLHNXARQGVANGQ</td>\n",
       "    </tr>\n",
       "    <tr>\n",
       "      <th>6232</th>\n",
       "      <td>Scolopendra 20528.11 Da toxin</td>\n",
       "      <td>None</td>\n",
       "      <td>XQVVERGLDAKAKAAMLDAHNKARQKVANG</td>\n",
       "    </tr>\n",
       "    <tr>\n",
       "      <th>6233</th>\n",
       "      <td>Phospholipase A1 verutoxin-1</td>\n",
       "      <td>Catalyzes the hydrolysis of emulsified phospha...</td>\n",
       "      <td>GLLPKVKLVPEQISFILSTRENR</td>\n",
       "    </tr>\n",
       "    <tr>\n",
       "      <th>6234</th>\n",
       "      <td>Conantokin-E</td>\n",
       "      <td>Conantokins inhibit N-methyl-D-aspartate (NMDA...</td>\n",
       "      <td>LLVPLVTFHLILGMGTLDHGGALTERRSADATALKPEPVLLQKSDA...</td>\n",
       "    </tr>\n",
       "    <tr>\n",
       "      <th>6235</th>\n",
       "      <td>Scolopendra 20466.84 Da toxin</td>\n",
       "      <td>None</td>\n",
       "      <td>XQVVERGLDAXA</td>\n",
       "    </tr>\n",
       "  </tbody>\n",
       "</table>\n",
       "<p>6083 rows × 3 columns</p>\n",
       "</div>"
      ],
      "text/plain": [
       "                                    name  \\\n",
       "0          Thrombin-like enzyme asperase   \n",
       "1            Snake venom serine protease   \n",
       "2     Zinc metalloproteinase/disintegrin   \n",
       "3       Cysteine-rich venom protein VAR2   \n",
       "4                             Toxin KTx8   \n",
       "...                                  ...   \n",
       "6231       Scolopendra 20566.01 Da toxin   \n",
       "6232       Scolopendra 20528.11 Da toxin   \n",
       "6233        Phospholipase A1 verutoxin-1   \n",
       "6234                        Conantokin-E   \n",
       "6235       Scolopendra 20466.84 Da toxin   \n",
       "\n",
       "                                            description  \\\n",
       "0     Snake venom serine protease that clots human p...   \n",
       "1     Snake venom serine protease that may act in th...   \n",
       "2     Snake venom metalloproteinase: impairs hemosta...   \n",
       "3     Blocks ryanodine receptors, and potassium chan...   \n",
       "4     This recombinant toxin inhibits the mammalian ...   \n",
       "...                                                 ...   \n",
       "6231                                               None   \n",
       "6232                                               None   \n",
       "6233  Catalyzes the hydrolysis of emulsified phospha...   \n",
       "6234  Conantokins inhibit N-methyl-D-aspartate (NMDA...   \n",
       "6235                                               None   \n",
       "\n",
       "                                            aa_sequence  \n",
       "0     MVLIRVLANLLILQLSYAQKSSELVIGGDECNINEHRSLVVLFNSS...  \n",
       "1     MVLIRVLANLLILQLSYAQKSSELVIGGDECNINEHRSLALVYITS...  \n",
       "2     MIEVLLVTICLAVSPYQGSSIILESGNVNDYEVVYPRKVTELPKGA...  \n",
       "3     MILLKLYLTLAAILCQSRGTTSLDLDDLMTTNPEIQNEIINKHNDL...  \n",
       "4     MNKVCFVVVLVLFVALAAYVSPIEGVPTGGCPLSDSLCAKYCKSHK...  \n",
       "...                                                 ...  \n",
       "6231                    XKMSEQGLNAQMKAQIVDLHNXARQGVANGQ  \n",
       "6232                     XQVVERGLDAKAKAAMLDAHNKARQKVANG  \n",
       "6233                            GLLPKVKLVPEQISFILSTRENR  \n",
       "6234  LLVPLVTFHLILGMGTLDHGGALTERRSADATALKPEPVLLQKSDA...  \n",
       "6235                                       XQVVERGLDAXA  \n",
       "\n",
       "[6083 rows x 3 columns]"
      ]
     },
     "execution_count": 83,
     "metadata": {},
     "output_type": "execute_result"
    }
   ],
   "source": [
    "venoms_df = pd.read_json('venomkb_proteins.json')\n",
    "venoms_df = venoms_df[['name', 'description', 'aa_sequence']]\n",
    "venoms_df = venoms_df.drop_duplicates(subset='aa_sequence')\n",
    "venoms_df"
   ]
  },
  {
   "cell_type": "code",
   "execution_count": 85,
   "id": "8442adf6-3dc5-4c0c-862d-c6db6f9ce82c",
   "metadata": {},
   "outputs": [],
   "source": [
    "venoms_df.to_csv('venom_proteins_venomkb.csv', index=False)"
   ]
  },
  {
   "cell_type": "markdown",
   "id": "c8b602f8-70cd-4d98-8918-773cd8846810",
   "metadata": {},
   "source": [
    "# Selenium WebDriver for PlantPeptide"
   ]
  },
  {
   "cell_type": "code",
   "execution_count": 187,
   "id": "a2cb1f33-305b-4b94-94a0-d824e53471b2",
   "metadata": {},
   "outputs": [],
   "source": [
    "import time\n",
    "from bs4 import BeautifulSoup\n",
    "from PIL import Image\n",
    "import io\n",
    "import requests\n",
    "from selenium import webdriver\n",
    "from selenium.webdriver.chrome.service import Service\n",
    "from selenium.webdriver.chrome.options import Options\n",
    "from selenium.webdriver.common.by import By"
   ]
  },
  {
   "cell_type": "code",
   "execution_count": 193,
   "id": "b44547a4-b65b-4989-aa8a-3283a47003ca",
   "metadata": {},
   "outputs": [],
   "source": [
    "driver.quit()"
   ]
  },
  {
   "cell_type": "code",
   "execution_count": 194,
   "id": "7381ae5d-587c-45f2-83b5-5a88e45a038a",
   "metadata": {},
   "outputs": [],
   "source": [
    "chrome_options = Options()\n",
    "chrome_options.add_argument('--headless')\n",
    "chrome_options.add_argument('--no-sandbox')\n",
    "chrome_service = Service('/home/apandit/chromedriver/stable/chromedriver')\n",
    "\n",
    "driver = webdriver.Chrome(service=chrome_service, options=chrome_options)"
   ]
  },
  {
   "cell_type": "code",
   "execution_count": 195,
   "id": "8ed56655-9be4-4929-b3d7-e7a3381e4791",
   "metadata": {},
   "outputs": [],
   "source": [
    "driver.get('http://14.139.61.8/PlantPepDB/pages/bro.php#11')\n",
    "driver.find_element(\"id\", \"11\").click()\n",
    "starting_page = driver.current_window_handle\n",
    "toxic_peptide_elems = driver.find_element(By.ID, \"11\").find_element(By.XPATH, './..').find_elements(By.TAG_NAME, 'li')\n",
    "toxic_peptide_elems = [x.find_element(By.TAG_NAME, 'a') for x in toxic_peptide_elems]\n",
    "toxic_peptide_seqs = []"
   ]
  },
  {
   "cell_type": "code",
   "execution_count": 191,
   "id": "322bf8fc-f119-400e-9f6a-c65159d36d1b",
   "metadata": {},
   "outputs": [
    {
     "data": {
      "text/plain": [
       "['CDwindow-26655B1B0E2F3DE03CDBB777120F916F']"
      ]
     },
     "execution_count": 191,
     "metadata": {},
     "output_type": "execute_result"
    }
   ],
   "source": [
    "driver.window_handles"
   ]
  },
  {
   "cell_type": "code",
   "execution_count": 168,
   "id": "f0e68a0c-ed5c-4845-89cf-766df55f270f",
   "metadata": {},
   "outputs": [
    {
     "data": {
      "image/png": "[encoded data removed]",
      "text/plain": [
       "<PIL.PngImagePlugin.PngImageFile image mode=RGBA size=800x600 at 0x7F0FCF4200A0>"
      ]
     },
     "execution_count": 168,
     "metadata": {},
     "output_type": "execute_result"
    }
   ],
   "source": [
    "Image.open(io.BytesIO(driver.get_screenshot_as_png()))"
   ]
  },
  {
   "cell_type": "code",
   "execution_count": 196,
   "id": "7e577e96-5143-4b98-b71e-c7b5b643a497",
   "metadata": {
    "collapsed": true,
    "jupyter": {
     "outputs_hidden": true
    },
    "tags": []
   },
   "outputs": [
    {
     "name": "stdout",
     "output_type": "stream",
     "text": [
      "KSCCRSTLGRNCYNLCRARGAQKLCAGVCRCKISSGLSCPKGFPK\n",
      "KSCCKSTLGRNCYNLCRARGAQKLCANVCRCKLTSGLSCPKDFPK\n",
      "KSCCRSTLGRNCYNLCRVRGAQKLCAGVCRCKLTSSGKCPTGFPK\n",
      "KSCCPTTAARNQYNICRLPGTPRPVCAALSGCKIISGTGCPPGYRH\n",
      "KSCCPTTTARNIYNTCRFGGGSRPVCAKLSGCKIISGTKCDSGWNH\n",
      "KSCCRNTLARNCYNACRFTGGSQPTCGILCDCIHVTTTTCPSSHPS\n",
      "KSCCPSTTARNIYNTCRLTGASRSVCASLSGCKIISGSTCDSGWNH\n",
      "GFYPF\n",
      "GGPFPGY\n",
      "GIGFYSP\n",
      "KRDPDWRREQQRREQQRRRREQQQQRRERQQRGERD\n",
      "KSCCKDTLGRDCYDLCRARGAPKLCSTLCRCKITSGLSCPKDFPK\n",
      "KSCCKSTLGRDCYDLCRGRGAEKLCAELCRCKITSGLSCPKDFPK\n",
      "KSCCPNTTGRNIYNACRLTGAPRPTCAKLSGCKIISGSTCPSWPDK\n",
      "KSCCPNTTGRNIYNTCRLGGGSRERCASLSGCKIISASTCPSYPDK\n",
      "KSCCPSTTARNIYNTCRLTGTSRPTCASLSGCKIISGSTCDSGWNH\n",
      "KSCCPSTTGRNIYNTCRLTGSSRETCAKLSGCKIISASTCPSNYPK\n",
      "KSCCPTTTARNIYNTCRFGGGSRPICAKLSGCKIISGTKCDSGWTH\n",
      "KSCCPTTTARNIYNTCRFGGGSRPVCAKLSGCKIISGTKCDSGWDH\n",
      "KSCCPTTTARNIYNYCRFGGGSRPICAKLSGCKIISGTKCDSNGDH\n",
      "KSCCRDTLGRDCYDLCRSRGAPKLCATLCRCKISSGLSCPKDFPK\n",
      "KSCCRNTLGRNCYAACRLTGLFSQEQCARLCDCITVTTPTPCPRTHPS\n",
      "KSCCRNTLGRNCYNGCRFTGGSQPTCGRLCDCIHVTTTTCPSSHPS\n",
      "MAGSKCGDSWSCEMNYNTECDSCSCGSDCSCGSNCNC\n",
      "MAGSNCGCGSGCKCGDSCSCEKNYNTECDNCSCGSNCSCGDSCSC\n",
      "RGD\n",
      "KSCCKNTTGRNCYNACRFAGGSRPVCATACGCKIISGPTCPRDYPK\n",
      "KSCCPNTTGRNIYNTCRFGGGSREVCASLSGCKIISASTCPSYPDK\n",
      "KSCCRTTLGRNCYNLCRSRGAQKLCSTVCRCKLTSGLSCPKGFPK\n",
      "RVCMGKSQHHSFPCISDRLCSNECVKEDGGWTAGYCHLRYCRCQKAC\n",
      "AGQQQPFPPQQPYPQPQPF\n",
      "AHGRSQVLQQST\n",
      "ALQTLPAMCNVY\n",
      "AMCNVYIPPYCT\n",
      "EEIRNLALQTLP\n",
      "ESQQSQQDEPQPF\n",
      "FPPQQPYPQPQP\n",
      "FPQHCNYQQQPQTFPQPF\n",
      "FPQPEDQQSQQSE\n",
      "FPQPQLPYSQPQ\n",
      "FPQTQQPQQLFPQSQ\n",
      "FPSQQPYLQLQP\n",
      "FQQPLQQYPLGQ\n",
      "GQQGYYPTSVQQSGQ\n",
      "GSFRPSQQNPQA\n",
      "GSVQPQQQLPQFEIR\n",
      "HNVVHAIILHQQ\n",
      "IAPFGIFGTN\n",
      "IFPQPQQTF\n",
      "IILHQQQKQQQQ\n",
      "IPPYCTIAPFGI\n",
      "IQPQQPFPQ\n",
      "LCCQHLWQIPEQ\n",
      "LGQGSFRPSQQN\n",
      "LGQQQAFPPQQPYPQPQPF\n",
      "LQQHNIAHGRSQ\n",
      "LQQPQQPQFQPQQQF\n",
      "LQQQLIPCMDVV\n",
      "LQQVQQGPQQQPFPQPQPF\n",
      "PCMDVVLQQHNI\n",
      "PFPQPQEPI\n",
      "PFPQPQLPF\n",
      "PFPQPQQPI\n",
      "PFPQPQQPN\n",
      "PFPQPQQPQ\n",
      "PFPQPQQPT\n",
      "PFPQPQQQF\n",
      "PFPQPQQQL\n",
      "PFPQPQQTF\n",
      "PFPQQPFPQ\n",
      "PFPQQPIPQ\n",
      "PFPQQPQPY\n",
      "PFPQQPQQI\n",
      "PFPQQPQQQ\n",
      "PFPQQPQQT\n",
      "PFPQQPYPQ\n",
      "LGQQQPFPPQQPYPQPQPFPSQQPY\n",
      "PFPQQQQPL\n",
      "PFPQTQQPQ\n",
      "PFRPQQPYPQPQ\n",
      "PHQQQQQQF\n",
      "PIPQQPQPY\n",
      "PIQQQPHQF\n",
      "PLLPQQPFPSQQEQPQF\n",
      "PLPQPQQPF\n",
      "PLPQPQQPQ\n",
      "PLPRPQQPF\n",
      "PLVQQQFLGQQQPFPPQ\n",
      "PQHQFPQPT\n",
      "PQPFPQQPI\n",
      "PQPFPQQPQ\n",
      "PQPFRPQQPYPQPQPQ\n",
      "PQPQEPIPQ\n",
      "PQPQLPFPQ\n",
      "PQPQPFPSQQPY\n",
      "PQPQQPFPW\n",
      "PQPQQPIPQ\n",
      "PQPQQPIPV\n",
      "PQPQQPNPQ\n",
      "PQPQQPQQQ\n",
      "PQPQQPTPI\n",
      "PQPQQPYPQ\n",
      "PQPQQQLPL\n",
      "PQPQQQLPQ\n",
      "PQPTQQFPQ\n",
      "PQPYPQQPF\n",
      "PQPYPQQPQ\n",
      "PQPYPQQPY\n",
      "PQQHQQFPQ\n",
      "PQQLPQQQF\n",
      "PQQPFPQPQQPFPQ\n",
      "PQQPFPQPQQPFRQ\n",
      "PQQPQQSFPQQPQR\n",
      "PQQPQQSFPQQQRPF\n",
      "PQQQFPQPQ\n",
      "PQQQFPQQM\n",
      "PQQQFPQTQ\n",
      "PQQQIPQPQ\n",
      "PQQQLPQPQ\n",
      "PQQQQPFPQ\n",
      "PQTQQPQQQ\n",
      "PQYSQPQQPISQ\n",
      "PRPQQPFPW\n",
      "PSQQQPQEQVPL\n",
      "PSSQVSFQQPLQ\n",
      "PWPQQPFPQ\n",
      "PYPQPQPQYSQP\n",
      "PYPQQPFPQ\n",
      "PYPQQPQPY\n",
      "PYPQQPQQQ\n",
      "PYPQQPYPS\n",
      "PYSQPQPFRPQQ\n",
      "QEPIPQQPQ\n",
      "QEQVPLVQQQQF\n",
      "QFPQPQQPF\n",
      "QFPQPQQPQ\n",
      "QFPQQPQQI\n",
      "QFPQQQIPV\n",
      "QFPQTQQPQ\n",
      "QGQQGYYPTSPQ\n",
      "QGSVQPQQLPQF\n",
      "QHQQFPQQQ\n",
      "QILQQILQQQLI\n",
      "QIPQTQQPQ\n",
      "QKQQQQPSSQVS\n",
      "QLPFPQQPF\n",
      "QLPFPQQPQ\n",
      "QLPQQQFPQ\n",
      "QLQPFPEPQLPY\n",
      "QLQPFPQPELPY\n",
      "QLQPFPQPQLPYPQ\n",
      "QLQPFPQQELPY\n",
      "QLQPFPQQQLPY\n",
      "QLQPQNPSQQQP\n",
      "QPFPQPQQPFPQSQ\n",
      "QPQPFPQQSEQSQQPFQPQPF\n",
      "QQFPQPQQPFPQQP\n",
      "QQHPQQPQ\n",
      "QQLPQFEEIRNL\n",
      "QQNPQAQGSVQP\n",
      "QQPFPPQQE\n",
      "QQPFPQQPF\n",
      "QQPFPQQPI\n",
      "QQPFPQQPQQPFPQ\n",
      "QQPFPQQPV\n",
      "QQPFPQQPY\n",
      "QQPFPQQTI\n",
      "QQPFPQRPQ\n",
      "QQPFVQQQQPFVQQ\n",
      "QQPIPQQPQ\n",
      "QQPIQPQQFPQQQFF\n",
      "QQPIQQQPH\n",
      "QQPISQQILQQI\n",
      "QQPLPQQPQ\n",
      "QQPNPQQPQ\n",
      "QQPPFSEEEEPVLPQ\n",
      "QQPPFSEQEQLVLPQ\n",
      "QQPPFSQQQQLVLPQ\n",
      "QQPPFSQQQQPVLPQ\n",
      "QQPPFSQQQQQPLPQ\n",
      "QQPQHQFPQ\n",
      "QQPQLPFPQ\n",
      "QQPQLPHGH\n",
      "QQPQQPFPL\n",
      "QQPQQPFPR\n",
      "QQPQQPLPQ\n",
      "QQPQQPLPR\n",
      "QQPQQQFPQ\n",
      "QQPQRPEQQ\n",
      "QQPYPQ\n",
      "QQPYPQQPF\n",
      "QQPYPQQPY\n",
      "QQQFPQQPQ\n",
      "QQQQFPQPQ\n",
      "QQQQLPQQH\n",
      "QQQQPFPSQQQQSPFSQQQQ\n",
      "QQQQQQFPQ\n",
      "QQTFPQQPQ\n",
      "QQTIPQQPQ\n",
      "QQTQQPFPL\n",
      "QQTYPQRPQ\n",
      "QQXSQPQXPQQQQXPQQPQQ\n",
      "QRPEQQFPQ\n",
      "QRPQQPFPQ\n",
      "QSGQYQQQPQMQTT\n",
      "QSNLPQPAQQPFQPQVPQQP\n",
      "QTQQPQQPF\n",
      "QVQWPQQQPFPQPQQPF\n",
      "QWPQQQQPF\n",
      "QYPLGQGSFRPS\n",
      "QYPQPQQPI\n",
      "QYQPYPEQQEPFVQ\n",
      "QYQPYPEQQQPFVQ\n",
      "SQCQAIHNVVHA\n",
      "SSQVSFQPSQLN\n",
      "VLQQSTYQLLQE\n",
      "VQGQGIIQPQQPAQL\n",
      "VQQQIPVVQPSIL\n",
      "VQQQQFPGQQQPFPPQQPYPQPQPFPSQQPY\n",
      "VQQQQPLGQQQP\n",
      "VRFPVPQLQPQN\n",
      "VRVPVPQLQPQNPSQQQPQEQVPLVQQQQF\n",
      "WFQPSQLNPQAQQDQPQ\n",
      "WQIPEQSQCQAI\n",
      "WQQQPPFSQEQPQF\n",
      "YLQLQPFPQPQL\n",
      "YPQPQ\n",
      "YPQPQPF\n",
      "YPQPQPFPSQQP\n",
      "YQLLQELCQQHL\n",
      "HEPCGESCVFIPCITTVVGCSCKNKVCYD\n",
      "HEPCGESCVFIPCITTVVGCSCKNKVCYN\n",
      "GSIPCAESCVYIPCFTGIAGCSCKNKVCYYN\n",
      "GSIPCAESCVYIPCITGIAGCSCKNKVCYYN\n",
      "GIPCAESCVWIPCTVTAIVGCSCSWGVCYN\n",
      "GIPCGESCVFIPCISSVVGCSCKSKVCYNN\n",
      "GVIPCGESCVFIPCITAAVGCSCKNKVCYRD\n",
      "GVPCGESCVYIPCITSVIGCSCSSKVCYIN\n",
      "QAFCGETCLLGKCYTPGCSCHTGICLK\n",
      "QAFCGETCVLGTCYTPGCSCNFGICLK\n",
      "QLPICGETCVLGRCYTPNCRCQYPICVR\n",
      "QLPICGETCVLGTCYTPGCSCAYPICAR\n",
      "QLPICGETCVLGTCYTPGCSCAYPICVR\n",
      "EYCGESCYLIPCFTPGCYCVSRQCVNKN\n",
      "GDLVTYF\n",
      "GFPCAESCVYIPCTVTALLGCSCRNRVCYRN\n",
      "GFPCGESCVYVPCLTAAIGCSCSNKVCYKN\n",
      "GIPCAESCVFIPCVTAILGCSCKDRVCYN\n",
      "GIPCAESCVWIPCTITALMGCSCKNNVCYNN\n",
      "GIPCAESCVYIPCTITALFGCSCKDKVCYNN\n",
      "GIPCAESCVYIPCTITALLGCSCKDKVCYKN\n",
      "GIPCGESCVFIPCISALLGCSCSNKVCYNN\n",
      "GIPCGESCVFIPCITGAIGCSCKSKVCYRD\n",
      "GIPCGESCVFIPCLTTVVGCSCKNKVCYNN\n",
      "GIPCGESCVFIPCVTTVIGCSCKDKVCYNN\n",
      "GIPCGESCVWIPCISSALGCSCKNKVCYRN\n",
      "GIPICGETCTIGTCNTPGCTCSWPVCTRD\n",
      "GIPTCGETCFKGKCYTPGCSCSYPICKKD\n",
      "GLHFAFP\n",
      "GLPCAESCVFIPCTITAILGCSCRDRVCYD\n",
      "GLPVCGETCAGGTCNTPGCSCTWPICTRN\n",
      "GLPVCGETCTIGTCYTAGCTCSWPICTRN\n",
      "GSAIACGESCFKFKCYTPGCSCSYPICKKD\n",
      "GSIPCGESCVYIPCISSLLGCSCKSKVCYKD\n",
      "GTFLYA\n",
      "GTFLYT\n",
      "GTFLYV\n",
      "GVGFYI\n",
      "GVIPCGESCVFIPCISSVIGCSCKNKVCYRN\n",
      "GVIPCGESCVFIPCISSVVGCSCKNKVCYRN\n",
      "GVIPCGESCVFIPCISSVVGCTCKNKVCYRD\n",
      "GVIPCGESCVFIPCISSVVGCTCKNKVCYRN\n",
      "GVPCAESCVYIPCTITALFGCSCKDKVCYNN\n",
      "GWVPLWP\n",
      "GYAFA\n",
      "ILGSIILG\n",
      "IPCGESCVYIPCISAVLGCSCQNKVCYR\n",
      "PALTTYGA\n",
      "PGFVF\n",
      "PGGVLSYY\n",
      "PGGVLSYYY\n",
      "PGIVYF\n",
      "PGVFSI\n",
      "PPIFGSL\n",
      "PPITGLMQ\n",
      "PPITGLMQ\n",
      "PQTGMLPI\n",
      "PQTGMLPI\n",
      "PTFYPLIA\n",
      "PTFYPLIV\n",
      "PVPGSFG\n",
      "PWLIAAGL\n",
      "QAFCGETCLLGTCYTPGCRCTAGICLK\n",
      "QDCGETCVLGTCYTPGCSCSAYPLCV\n",
      "QLPICGETCVLGTCYTPGCRCQYPICVR\n",
      "GASCGETCFTGICFTAGCSCNPWPTCTRN\n",
      "GDACGETCFTGICFTAGCSCNPWPTCTRN\n",
      "GEYCGESCYLIPCFTPGCYCVSRQCVNKN\n",
      "GIPCGESCVFIPCISTVIGCSCKNKVCYRN\n",
      "GIPCGESCVFIPCITGIAGCSCKSKVCYRN\n",
      "GSAFCGETCVLGTCYTPDCSCTALVCLKN\n",
      "GSVLNCGETCLLGTCYTTGCTCNKYRVCTKD\n",
      "GIPCAESCVWIPCTVTALLGCSCKDKVCYLD\n",
      "GIPCAESCVWIPCTVTALLGCSCKDKVCYLN\n",
      "GIPCGESCVFIPCISSVVGCSCKSKVCYLD\n",
      "GIPCGESCVWIPCLTSAVGCPCKSKVCYRN\n",
      "GIPCGESCVWIPCLTSTVGCSCKSKVCYRN\n",
      "GLPCGESCVFIPCITTVVGCSCKNKVCYND\n",
      "GLPVCGETCAFGSCYTPGCSCSWPVCTRN\n",
      "GLPVCGETCFGGTCNTPGCSCSYPICTRN\n",
      "GLPVCGETCFGGTCNTPGCTCSYPICTRN\n",
      "GTFPCGESCVWIPCISKVIGCACKSKVCYKN\n",
      "GTVPCGESCVFIPCITGIAGCSCKNKVCYID\n",
      "GTVPCGESCVFIPCITGIAGCSCKNKVCYIN\n",
      "GVIPCGESCVFIPCISTVIGCSCKNKVCYRN\n",
      "GVPCAESCVWIPCTVTALLGCSCKDKVCYLD\n",
      "GKPICGETCFKGKCYTPGCTCSYPICKKD\n",
      "GVIPCGESCVFIPCINKKKCSCKNKVCYRD\n",
      "GIPCGESCVFIPCTVTALLGCSCQNKVCYRD\n",
      "GIPCGETCVAFGCWIPGCSCKDKLCYYD\n",
      "GLPVCGETCAGGRCNTPGCSCSWPVCTRN\n",
      "GLPVCGETCFGGTCNTPGCSCDPWPVCTRN\n",
      "GYPICGESCVGGTCNTPGCSCSWPVCTTN\n",
      "PMTAIVGY\n",
      "GIPCGESCVFIPCLTSAIGCSCKSKVCYRN\n",
      "XCIGNGGRCNENVGPPYCCSGFCLRQPGQGYGYCKNR\n",
      "XKLCERPSGTWSGVCGNNNACKNQCINLEKARHGSCNYVFPAHKCICYFPC\n",
      "XWGRRCCGWGPGRRYCRRWC\n",
      "XYGRRCCNWGPGRRYCKRWC\n",
      "GLPTCGETCTLGTCYVPDCSCSWPICMKN\n",
      "GIPCGESCVFIPCITAAIGCSCKSKVCYRN\n",
      "GKPICGETCFKGKCYTPGCTCSYPICKKN\n",
      "GKPTCGETCFKGKCYTPGCTCSYPLCKKD\n",
      "GKYTCGETCFKGKCYTPGCTCSYPICKKD\n",
      "GLPTCGETCFKGKCYTPGCSCSYPICKKN\n",
      "GLPTCGETCTLGKCNTPKCTCNWPICYKD\n",
      "GLPTCGETCTLGKCNTPKCTCNWPICYKN\n",
      "GSIPCGESCVFIPCISAIIGCSCSNKVCYKN\n",
      "GEFLKCGESCVQGECYTPGCSCDWPICKKN\n",
      "AIPCGESCVWIPCISTVIGCSCSNKVCYR\n",
      "GIPCGESCVFIPCISSVIGCSCSSKVCYRN\n",
      "GLPVCGETCAGGTCNTPGCSCSWPICTRN\n",
      "GSIPCGESCVFIPCISAVIGCSCSNKVCYKN\n",
      "IPCGESCVWIPCISGMFGCSCKDKVCYS\n",
      "IPCGESCVWIPCITAIAGCSCKNKVCYT\n",
      "GIPCGESCVFIPCITGAIGCSCKSKVCYRN\n",
      "GLPVCGETCFGGTCNTPGCTCDPWPVCTRN\n",
      "GSIPCGESCVFIPCISAIIGCSCSSKVCYKN\n",
      "GSIPCGESCVFIPCISSVIGCACKSKVCYKN\n",
      "RLGDGCTR\n",
      "KLCGETCFKFKCYTPGCSCSYPFCK\n",
      "GLPCGESCVFIPCITTVVGCSCKNKVCYNN\n",
      "YQCGQGG\n",
      "GLPICGETCVGGTCNTPGCFCTWPVCTRN\n",
      "GLPVCGETCFTGSCYTPGCSCNWPVCNRN\n",
      "GLPVCGETCVGGTCNTPGCSCSWPVCFRN\n",
      "GTLPCGESCVWIPCISSVVGCACKSKVCYKD\n",
      "GIPCGESCVWIPCITSAIGCSCKSKVCYRN\n",
      "GVPCAESCVWIPCTVTALLGCSCKDKVCYLN\n",
      "GLPVCGETCVGGTCNTPGCACSWPVCTRN\n",
      "QNICPRVNRIVTPCVAYGLGRAPIAPCCRALNDLRFVNTRNLRRAACRCLVGVVNRNPGLRRNPRFQNIPRDCRNTFVRPFWWRPRIQCGRIN\n",
      "CIGNGGRCNENVGPPYCCSGFCLRQPNQGYGVCRNR\n",
      "QWGRRCCGWGPGRRYCRRWC\n",
      "GLPVCGETCVGGTCNTPGCTCSWPVCTRN\n",
      "GVIPCGESCVFIPCISTLLGCSCKNKVCYRN\n",
      "SIPCGESCVFIPCTVTALLGCSCKSKVCYKN\n",
      "GIPCGESCVWIPCISAALGCSCKNKVCYRN\n",
      "GIPCGESCVWIPCISSAIGCSCKSKVCYRN\n",
      "CAESCVWIPCTVTAIVGCSCSWGVCYNGIP\n",
      "CESCVWIPCITSAIGCSCKSKVCYRNGIPC\n",
      "CETCVGGTCNTPGCSCSWPVCTRNGLPIC\n",
      "CETCVGGTCNTPGCSCSWPVCTRNGLPVC\n",
      "CGESCVFIPCISAIIGCSCSNKVCYKNGSIP\n",
      "CGESCVFIPCISAIIGCSCSSKVCYKNGSIP\n",
      "CGESCVFIPCISAVIGCSCSNKVCYKNGSIP\n",
      "CGESCVFIPCISSVIGCACKSKVCYKNGSIP\n",
      "CGESCVFIPCISSVIGCSCSSKVCYRNGIP\n",
      "CGESCVFIPCLTSAIGCSCKSKVCYRNGIP\n",
      "CGESCVYIPCITSVIGCSCSSKVCYINGVP\n",
      "CGETCTIGTCYTAGCTCSWPICTRNGLPV\n",
      "CGETCVGGTCNTPGCACSWPVCTRNGLPV\n",
      "CGETCVGGTCNTPGCGCSWPVCTRNGLPV\n",
      "GVIPCGESCVFIPCITAAVGCSCKNKVCYKN\n",
      "PGFVPFTI\n",
      "GLPLCGETCVGGTCNTPGCSCGWPVCVRN\n",
      "GIACGESCVWIPCISSAIGCSCVKSKCYRN\n",
      "GIPCGESCVYIPCITAAIGCSCKSKVCYRN\n",
      "IVSMECKTIVSQYGEMIWDLLVSGVRPDQVCSQAGLCFVDGAQHVSSNIKTVVERETEGSSVGEAPLCTACEMAVVWMQNQLKQEGTKEKVIEYVNQLCEKIPSP\n",
      "KLCGETCFKFKCYTPGCSCSCSYPFCK\n",
      "PGAAWIP\n"
     ]
    }
   ],
   "source": [
    "for elem in toxic_peptide_elems:\n",
    "    elem.click()\n",
    "    time.sleep(1)\n",
    "    assert len(driver.window_handles) == 2\n",
    "    elem_window_code = (set(driver.window_handles) - set([starting_page])).pop()\n",
    "    \n",
    "    driver.switch_to.window(elem_window_code)\n",
    "        \n",
    "    while driver.find_elements(By.CSS_SELECTOR, \"ul.pagination a\")[-2].get_attribute('href'):\n",
    "        trs = driver.find_elements(By.CSS_SELECTOR, \"table > tbody > tr\")[1:]\n",
    "        for tr in trs:\n",
    "            td_link = tr.find_elements(By.CSS_SELECTOR, 'td')[0]\n",
    "            td_link.click()\n",
    "            time.sleep(1)\n",
    "                        \n",
    "            assert len(driver.window_handles) == 3\n",
    "            seq_window_code = (set(driver.window_handles) - set([starting_page, elem_window_code])).pop()\n",
    "            \n",
    "            driver.switch_to.window(seq_window_code)\n",
    "            seq = driver.find_element(By.CSS_SELECTOR, 'code').text.strip()\n",
    "            print(seq)\n",
    "            toxic_peptide_seqs += [seq]\n",
    "            driver.close()\n",
    "            driver.switch_to.window(elem_window_code)\n",
    "        \n",
    "        driver.switch_to.window(elem_window_code)\n",
    "        driver.find_elements(By.CSS_SELECTOR, \"ul.pagination a\")[-2].click()\n",
    "        time.sleep(1)\n",
    "        assert len(driver.window_handles) == 2\n",
    "        elem_window_code = (set(driver.window_handles) - set([starting_page])).pop()\n",
    "        \n",
    "    driver.close()\n",
    "    driver.switch_to.window(starting_page)"
   ]
  },
  {
   "cell_type": "code",
   "execution_count": 197,
   "id": "1df53413-2743-4c85-bbb9-1b9dbd4fc318",
   "metadata": {},
   "outputs": [
    {
     "data": {
      "text/plain": [
       "390"
      ]
     },
     "execution_count": 197,
     "metadata": {},
     "output_type": "execute_result"
    }
   ],
   "source": [
    "len(toxic_peptide_seqs)"
   ]
  },
  {
   "cell_type": "code",
   "execution_count": 198,
   "id": "c795252b-70bd-461e-a860-af251ad6ade2",
   "metadata": {},
   "outputs": [
    {
     "data": {
      "text/plain": [
       "11091"
      ]
     },
     "execution_count": 198,
     "metadata": {},
     "output_type": "execute_result"
    }
   ],
   "source": [
    "from pathlib import Path\n",
    "finseq = \"\"\n",
    "for i, x in enumerate(toxic_peptide_seqs):\n",
    "    finseq += f'>seq{i}\\n' + x + '\\n'\n",
    "of = Path('plantpepdb_seqs.txt')\n",
    "of.write_text(finseq)"
   ]
  },
  {
   "cell_type": "markdown",
   "id": "f1ec923e-802f-4502-996f-35547b76f593",
   "metadata": {},
   "source": [
    "# PepTherDia"
   ]
  },
  {
   "cell_type": "code",
   "execution_count": 199,
   "id": "9eb05b6a-01a9-4219-8078-00cbabe82601",
   "metadata": {},
   "outputs": [],
   "source": [
    "import requests\n",
    "from bs4 import BeautifulSoup"
   ]
  },
  {
   "cell_type": "code",
   "execution_count": 204,
   "id": "a4cd4977-f84e-43e7-b1c6-e2b42918363e",
   "metadata": {},
   "outputs": [
    {
     "data": {
      "text/plain": [
       "[<code id=\"id_10\">C1C[C@H]2C(=O)N[C@@H](CSSCCC(=O)N[C@H](C(=O)NCC(=O)N[C@H](C(=O)N[C@H](C(=O)N2C1)CC3=CNC4=CC=CC=C43)CC(=O)O)CCCCN=C(N)N)C(=O)N</code>,\n",
       " <code id=\"id_10\">XXGDWPC-NH2</code>]"
      ]
     },
     "execution_count": 204,
     "metadata": {},
     "output_type": "execute_result"
    }
   ],
   "source": [
    "start_drug = 1\n",
    "end_drug = 111\n",
    "base_url = 'http://peptherdia.herokuapp.com/drug/'\n",
    "x = BeautifulSoup(requests.get(base_url + str(start_drug)).text, 'html.parser')\n",
    "x.select('code')"
   ]
  },
  {
   "cell_type": "code",
   "execution_count": 205,
   "id": "06948dcb-e512-47d4-b4bc-3bffd7089cf6",
   "metadata": {
    "collapsed": true,
    "jupyter": {
     "outputs_hidden": true
    },
    "tags": []
   },
   "outputs": [
    {
     "name": "stdout",
     "output_type": "stream",
     "text": [
      "XXGDWPC-NH2\n",
      "CYIQNCPLG-NH2\n",
      "CYFQNCPRG-NH2\n",
      "XHWSYlLRP-NHEt\n",
      "Ac-XXXSXnLXPa-NH2\n",
      "Dec-WnDTGXDaDGsXX\n",
      "-\n",
      "Formyl-VGAlAvVVWlWlWlWX\n",
      "fPRPGGGGNGDFEEIPEEYL\n",
      "KLLLLKLLLLKLLLLKLLLLK\n",
      "SYSMEHFRWGKPVGKKRRPVKVYP\n",
      "HSDGTFTSELSRLREGARLQRLLQGLV-NH2\n",
      "Ac-SDAAVDTSSEITTKDLKEKKEVVEEAEN\n",
      "CSNLSTCVLGKLSQELHKLQTYPRTNTGSGTP-NH2\n",
      "SPKMVQGSGCFGRKMDRISSSSGLGCKVLRRH\n",
      "HAEGTFTSDVSSYLEGQAAK(EX)EFIAWLVRGRG\n",
      "HGDGSFSDEMNTILDNLAARDFINWLIQTKITD\n",
      "HSQGTFTSDYSKYLDSRRAQDFVQWLMNT\n",
      "KCNTATCATQRLANFLVHSSNNFGPILPPTNVGSNTY-NH2\n",
      "SVSEIQLMHNLGKHLNSMERVEWLRKKLQDVHNF\n",
      "HGEGTFTSDLSKQMEEEAVRLFIEWLKNGGPSSGAPPPS-NH2\n",
      "Ac-YTSLIHSLIEESQNQQEKNEQELLELDKWASLWNWF\n",
      "SYSMEHFRWGKPVGKKRRPVKVYPNGAEDESAEAFPLEF\n",
      "XYADAIFTNSYRKVLGQLSARKLLQDIMSRQQGESNQERGARARL-NH2\n",
      "XHWSYXLRP-NHEt\n",
      "CFFQNCPKG-NH2\n",
      "CYFQNCPXG-NH2\n",
      "XYFQNCPrG-NH2\n",
      "GGGCYFQNCPKG-NH2\n",
      "SNLSTXVLGKLSQELHKLQTYPRTDVGAGTP-NH2\n",
      "XAP\n",
      "XHWSYwLRPG-NH2\n",
      "CGNLSTCMLGTYTQDFNKFHTFPQTAIGVGAP-NH2\n",
      "XHWSYXLRP-NHNHCONH2\n",
      "XKP\n",
      "fCFwKTCX\n",
      "XHWSYGLRPG-NH2\n",
      "XHWSYXLRPG-NH2\n",
      "XHWSYXLRP-NHEt\n",
      "XCYwKVCT-NH2\n",
      "SLRRSSCFGGRMDRIGAQSGLGCNSFRY\n",
      "Ac-XXXSYXLRPa-NH2\n",
      "Ac-XXXSYXLXPa-NH2\n",
      "XXITNCPXG-NH2\n",
      "XHP\n",
      "HSDAVFTDNYTRLRKQMAVKKYLNSILN\n",
      "XXIQNCPLG-NH2\n",
      "C(1)KGKGAKC(2)SRLMYDC(3)C(1)TGSC(2)RSGKC(3)-NH2\n",
      "Ac-XXXSXXfXLXPa-NH2\n",
      "rRPXGXSXR\n",
      "XAXAX\n",
      "C(1)C(2)EYC(3)C(1)NPAC(2)TGC(3)Y\n",
      "XXXwKXF\n",
      "XXLFX\n",
      "HGEGTFTSDLSKQMEEEAVRLFIEWLKNGGPSSGAPPSKKKKKK-NH2\n",
      "Ac-SYSXEHfRWGKPV-NH2\n",
      "Ac-c(C)-arrrar-NH2\n",
      "AVSEHQLLHDKGKSIQDLRRRELLEKLLXKLHTA-NH2\n",
      "NDEC(1)ELC(2)VNVAC(1)TGC(2)L\n",
      "-\n",
      "SQEPPISLDLTFHLLREVLEMTKADQLAQQAHSNRKLLDIA-NH2\n",
      "DXMGWMDF-NH2\n",
      "H-XEGTFTSDVSSYLEGQAAK-(XXEX)-EFIAWLVRGRG\n",
      "Ac-XDHfRWK\n",
      "XHP-NH2\n",
      "gGlu-CG\n",
      "XLeIKXIfHdN\n",
      "XXTXXTX\n",
      "-\n",
      "XAXXXX . XSXXXX\n",
      "XXTXXXX\n",
      "XXT-XX(1)XlLXXT(1)\n",
      "XXXXVXAaXXX\n",
      "vPXXTXTXXPv\n",
      "XXTXXXX\n",
      "XfCFwKTCX\n",
      "XXTXX(1)XfLXXT(1)\n",
      "vcXVXX\n",
      "HSDGTFTSELSRLRDSARLQRLLQGLV-NH2\n",
      "-\n",
      "DRVYIHPF\n",
      "XwX\n",
      "XFCYWKTCT\n",
      "-\n",
      "-\n",
      "-\n",
      "-\n",
      "XXSSXX\n",
      "XXGGG\n",
      "XYIQNCPLG-NH2\n",
      "aXAWfK-NH2\n",
      "XXSSXX\n",
      "XFCYWKTCX\n",
      "XFCYWKTCT\n",
      "XVPXPVX\n",
      "-\n",
      "-\n",
      "Ac-DE\n",
      "XAX\n",
      "XAX\n",
      "XAX\n",
      "XAX\n",
      "-\n",
      "XRX\n",
      "XFCYWKTCT\n",
      "fflkX\n",
      "XXXXVXAaXXX\n",
      "Ac-RCaHfRWC-NH2\n",
      "HSQGTFTSDYSKYLDXARAEEFVKWLEST\n",
      "-\n",
      "PGQEHPNARKYKGANKKGLSKGCFGLKLDRIGSMSGLGC\n"
     ]
    }
   ],
   "source": [
    "approved_peptide_drugs = []\n",
    "for i in range(start_drug, end_drug + 1):\n",
    "    curr_url = base_url + str(i)\n",
    "    curr_soup = BeautifulSoup(requests.get(curr_url).text, 'html.parser')\n",
    "    seq = curr_soup.select('code')[-1].get_text().strip()\n",
    "    print(seq)\n",
    "    approved_peptide_drugs += [seq]"
   ]
  },
  {
   "cell_type": "code",
   "execution_count": 206,
   "id": "006c8c3d-1009-46c3-955d-e2ec01d25bf7",
   "metadata": {},
   "outputs": [
    {
     "data": {
      "text/plain": [
       "3665"
      ]
     },
     "execution_count": 206,
     "metadata": {},
     "output_type": "execute_result"
    }
   ],
   "source": [
    "finlist = \"\"\n",
    "for i, drug in enumerate(approved_peptide_drugs):\n",
    "    finlist += f\">approved_seq{i}\\n{drug}\\n\"\n",
    "of = Path('peptherdia_approved.txt')\n",
    "of.write_text(finlist)"
   ]
  },
  {
   "cell_type": "markdown",
   "id": "17398e44-c1aa-4943-9f54-86c8a70fe668",
   "metadata": {
    "tags": []
   },
   "source": [
    "# Labeling all the Toxic Proteins & Peptides Across Databases"
   ]
  },
  {
   "cell_type": "markdown",
   "id": "36cd7c1c-9bb8-47d1-b58a-b1dc88ae90de",
   "metadata": {
    "tags": []
   },
   "source": [
    "## Load them all\n",
    "- UniProt (uniprot_auto_annotated.csv.gz and uniprot_manually_annotated.csv.gz)\n",
    "- VenomKB (venom_proteins_venomkb.csv)\n",
    "- DBETH (dbeth_bacterial_exotoxins.fa)\n",
    "- isob_snake_venoms (isob_fasta_{1 - 15}.txt)\n",
    "- ConoServer (conoserver_protein.fa)\n",
    "- PlantPepDB (plantpepdb_seqs.txt)"
   ]
  },
  {
   "cell_type": "code",
   "execution_count": 9,
   "id": "f4b488e0-6197-4d88-8346-f53035c12e2f",
   "metadata": {},
   "outputs": [],
   "source": [
    "import requests\n",
    "from bs4 import BeautifulSoup\n",
    "import pandas as pd\n",
    "import numpy as np\n",
    "from Bio import SeqIO\n",
    "from pathlib import Path"
   ]
  },
  {
   "cell_type": "code",
   "execution_count": 12,
   "id": "f3681cde-9674-4860-ad7c-2104dad3bfa9",
   "metadata": {},
   "outputs": [],
   "source": [
    "# uniprot\n",
    "uniprot_manual_df = pd.read_csv('uniprot_manually_annotated.csv.gz')\n",
    "uniprot_auto_df = pd.read_csv('uniprot_auto_annotated.csv.gz')\n",
    "uniprot_seqs = uniprot_auto_df['Sequence'].tolist() + uniprot_manual_df['Sequence'].tolist()\n",
    "\n",
    "# venomkb\n",
    "venomkb_df = pd.read_csv('venom_proteins_venomkb.csv')\n",
    "venomkb_seqs = venomkb_df['aa_sequence'].tolist()\n",
    "\n",
    "# DBETH\n",
    "dbeth_seq_records = list(SeqIO.parse('dbeth_bacterial_exotoxins.fa', 'fasta'))\n",
    "dbeth_seqs = [x.seq for x in dbeth_seq_records]\n",
    "\n",
    "# ConoServer\n",
    "conoserver_seq_records = list(SeqIO.parse('conoserver_protein.fa', 'fasta'))\n",
    "conoserver_seqs = [x.seq for x in conoserver_seq_records]\n",
    "\n",
    "# PlantPepDb\n",
    "plantpepdb_records = list(SeqIO.parse('plantpepdb_seqs.txt', 'fasta'))\n",
    "plantpepdb_seqs = [x.seq for x in plantpepdb_records]\n",
    "\n",
    "# ISOB Snake Venom\n",
    "isob_snake_seqs = []\n",
    "for x in Path('isob_snake_venoms').iterdir():\n",
    "    if x.is_file() and x.suffix == '.txt':\n",
    "        x_records = list(SeqIO.parse(x, 'fasta'))\n",
    "        isob_snake_seqs += [y.seq for y in x_records]"
   ]
  },
  {
   "cell_type": "markdown",
   "id": "81241179-f74d-493f-90d7-31789e574a41",
   "metadata": {},
   "source": [
    "### Note - Acceptable Amino Acids Table\n",
    "\n",
    "| Letter | Amino Acid |\n",
    "| :----- | :-------- |\n",
    "| A | Alanine |\n",
    "| C | Cysteine |\n",
    "| D | Aspartic Acid |\n",
    "| E | Glutamic Acid |\n",
    "| F | Phenylalanine |\n",
    "| G | Glycine |\n",
    "| H | Histidine |\n",
    "| I | Isoleucine |\n",
    "| K | Lysine |\n",
    "| L | Leucine |\n",
    "| M | Methionine |\n",
    "| N | Asparagine |\n",
    "| O | Pyrrolysine |\n",
    "| P | Proline |\n",
    "| Q | Glutamine |\n",
    "| R | Arginine |\n",
    "| S | Serine |\n",
    "| T | Threonine |\n",
    "| U | Selenocysteine |\n",
    "| V | Valine |\n",
    "| W | Tryptophan |\n",
    "| Y | Tyrosine |\n",
    "| * | Translation Stop |"
   ]
  },
  {
   "cell_type": "code",
   "execution_count": 13,
   "id": "d25e60d3-4ed6-465e-810b-249c087aff82",
   "metadata": {},
   "outputs": [],
   "source": [
    "canonical_set = {'a', 'c', 'd', 'e', 'f', 'g', 'h', 'i', 'k', 'l', 'm', 'n', 'o', 'p', 'q', 'r', 's', 't', 'u', 'v', 'w', 'y', '*'}"
   ]
  },
  {
   "cell_type": "code",
   "execution_count": 17,
   "id": "5de3c84f-9b3e-4958-81a6-260a8772d6a2",
   "metadata": {},
   "outputs": [
    {
     "name": "stdout",
     "output_type": "stream",
     "text": [
      "All Toxins Initial Length: 212855\n",
      "All Toxins Final Length: 204724\n"
     ]
    }
   ],
   "source": [
    "all_toxins_set = set(uniprot_seqs + venomkb_seqs + dbeth_seqs + conoserver_seqs + plantpepdb_seqs + isob_snake_seqs)\n",
    "print(f\"All Toxins Initial Length: {len(all_toxins_set)}\")\n",
    "all_toxins_set = {str(x).lower() for x in all_toxins_set if len(x) > 0}\n",
    "all_toxins_set = {x for x in all_toxins_set if set(x).issubset(canonical_set)}\n",
    "print(f\"All Toxins Final Length: {len(all_toxins_set)}\")"
   ]
  },
  {
   "cell_type": "code",
   "execution_count": 21,
   "id": "e04269c4-fff2-4d04-b6c9-4cad1cbd80da",
   "metadata": {},
   "outputs": [
    {
     "data": {
      "text/plain": [
       "52189337"
      ]
     },
     "execution_count": 21,
     "metadata": {},
     "output_type": "execute_result"
    }
   ],
   "source": [
    "all_new_toxins_str_a = \"\"\n",
    "all_new_toxins_str_b = \"\"\n",
    "for i, x in enumerate(all_toxins_set):\n",
    "    if i < 100000:\n",
    "        all_new_toxins_str_a += f\">seq{i}\\n{x}\\n\"\n",
    "    else:\n",
    "        all_new_toxins_str_b += f\">seq{i}\\n{x}\\n\"\n",
    "Path('all_new_toxins_1.fa').write_text(all_new_toxins_str_a)\n",
    "Path('all_new_toxins_2.fa').write_text(all_new_toxins_str_b)"
   ]
  },
  {
   "cell_type": "markdown",
   "id": "906d26b6-3988-4753-8ce7-702cc7f3cf05",
   "metadata": {},
   "source": [
    "# Combined Data with Previous Papers"
   ]
  },
  {
   "cell_type": "markdown",
   "id": "7f7237e5-71b4-43fe-b98b-67c05ede649e",
   "metadata": {},
   "source": [
    "## Load in ToxDL"
   ]
  },
  {
   "cell_type": "code",
   "execution_count": 24,
   "id": "a4900495-6d37-474e-926e-48a04a90836e",
   "metadata": {},
   "outputs": [],
   "source": [
    "from Bio import SeqIO\n",
    "from pathlib import Path\n",
    "import os"
   ]
  },
  {
   "cell_type": "code",
   "execution_count": 34,
   "id": "1016e2ea-d23e-4f0c-9a75-9b20442204c5",
   "metadata": {},
   "outputs": [],
   "source": [
    "toxdl_all = list(SeqIO.parse('../toxdl/bacteria1.fa', 'fasta'))\n",
    "toxdl_all += list(SeqIO.parse('../toxdl/test.fa', 'fasta'))\n",
    "toxdl_all += list(SeqIO.parse('../toxdl/train.fa', 'fasta'))\n",
    "toxdl_all += list(SeqIO.parse('../toxdl/valid.fa', 'fasta'))"
   ]
  },
  {
   "cell_type": "code",
   "execution_count": 35,
   "id": "61b8c7db-644e-49b6-b195-21e444c7236a",
   "metadata": {},
   "outputs": [
    {
     "data": {
      "text/plain": [
       "4677"
      ]
     },
     "execution_count": 35,
     "metadata": {},
     "output_type": "execute_result"
    }
   ],
   "source": [
    "toxdl_toxin_seqs = [x.seq for x in toxdl_all if x.description.split()[-1] == '1']\n",
    "len(toxdl_toxin_seqs)"
   ]
  },
  {
   "cell_type": "code",
   "execution_count": 64,
   "id": "e3be62e8-9728-4f02-83f6-acf526ffa6e3",
   "metadata": {},
   "outputs": [
    {
     "data": {
      "text/plain": [
       "7000"
      ]
     },
     "execution_count": 64,
     "metadata": {},
     "output_type": "execute_result"
    }
   ],
   "source": [
    "toxdl_neg_seqs = [x.seq for x in toxdl_all if x.description.split()[-1] == '0']\n",
    "len(toxdl_neg_seqs)"
   ]
  },
  {
   "cell_type": "markdown",
   "id": "b20bbcb4-d478-48a0-ad1e-bbfa36917ce2",
   "metadata": {},
   "source": [
    "## Load in ToxIBTL"
   ]
  },
  {
   "cell_type": "code",
   "execution_count": 66,
   "id": "0509c41a-4cb1-49c8-a2b3-c2123bbc84f0",
   "metadata": {},
   "outputs": [
    {
     "name": "stdout",
     "output_type": "stream",
     "text": [
      "1932\n",
      "1932\n"
     ]
    }
   ],
   "source": [
    "toxibtl_peptides = list(SeqIO.parse('../toxibtl/peptide/peptide.fasta', 'fasta'))\n",
    "toxibtl_test = list(SeqIO.parse('../toxibtl/protein/test.fa', 'fasta'))\n",
    "toxibtl_train = list(SeqIO.parse('../toxibtl/protein/train.fa', 'fasta'))\n",
    "toxibtl_toxin_seqs = [x.seq for x in toxibtl_peptides if not 'non-toxin' in x.description]\n",
    "toxibtl_neg_seqs = [x.seq for x in toxibtl_peptides if 'non-toxin' in x.description]\n",
    "print(len(toxibtl_toxin_seqs))\n",
    "print(len(toxibtl_neg_seqs))\n",
    "toxibtl_toxin_seqs += [x.seq for x in toxibtl_test if x.description.split()[-1] == '1']\n",
    "toxibtl_toxin_seqs += [x.seq for x in toxibtl_train if x.description.split()[-1] == '1']\n",
    "toxibtl_neg_seqs += [x.seq for x in toxibtl_test if x.description.split()[-1] == '0']\n",
    "toxibtl_neg_seqs += [x.seq for x in toxibtl_train if x.description.split()[-1] == '0']"
   ]
  },
  {
   "cell_type": "code",
   "execution_count": 67,
   "id": "c2bc192d-bc28-4d72-854f-b2500ef9fae6",
   "metadata": {},
   "outputs": [
    {
     "name": "stdout",
     "output_type": "stream",
     "text": [
      "ToxIBTL Neg Size: 8273\n",
      "ToxIBTL Toxin Size: 6404\n"
     ]
    }
   ],
   "source": [
    "print(f\"ToxIBTL Neg Size: {len(toxibtl_neg_seqs)}\")\n",
    "print(f\"ToxIBTL Toxin Size: {len(toxibtl_toxin_seqs)}\")"
   ]
  },
  {
   "cell_type": "markdown",
   "id": "fe9af285-ba2a-4ae2-8de8-6c5d731039aa",
   "metadata": {},
   "source": [
    "## Load in ToxinPred"
   ]
  },
  {
   "cell_type": "code",
   "execution_count": 44,
   "id": "eb4acd3d-8d08-4816-ab57-1bdcd00699df",
   "metadata": {},
   "outputs": [],
   "source": [
    "toxinpred_neg_files = [\n",
    "    'toxinpred-ind-neg-1.txt',\n",
    "    'toxinpred-ind-neg-2.txt',\n",
    "    'toxinpred-main-neg-1.txt',\n",
    "    'toxinpred-main-neg-2.txt',\n",
    "]\n",
    "toxinpred_pos_files = [\n",
    "    'toxinpred-ind-pos-1.txt',\n",
    "    'toxinpred-ind-pos-2.txt',\n",
    "    'toxinpred-main-pos-1.txt',\n",
    "    'toxinpred-main-pos-2.txt',\n",
    "]"
   ]
  },
  {
   "cell_type": "code",
   "execution_count": 45,
   "id": "f99ebd37-8241-4374-aa63-f9daa343477c",
   "metadata": {},
   "outputs": [],
   "source": [
    "def load_seqs(path):\n",
    "    seqs_text = Path(path).read_text()\n",
    "    seqs = seqs_text.splitlines()\n",
    "    return seqs"
   ]
  },
  {
   "cell_type": "code",
   "execution_count": 47,
   "id": "785e2c7b-b8d8-4861-8158-30656d99ee25",
   "metadata": {},
   "outputs": [
    {
     "name": "stdout",
     "output_type": "stream",
     "text": [
      "Length ToxinPred Pos: 4216\n",
      "Length ToxinPred Neg: 17434\n"
     ]
    }
   ],
   "source": [
    "toxinpred_neg_seqs = []\n",
    "for x in toxinpred_neg_files:\n",
    "    toxinpred_neg_seqs += load_seqs(f\"../toxinpred/{x}\")\n",
    "toxinpred_pos_seqs = []\n",
    "for x in toxinpred_pos_files:\n",
    "    toxinpred_pos_seqs += load_seqs(f\"../toxinpred/{x}\")\n",
    "print(f\"Length ToxinPred Pos: {len(toxinpred_pos_seqs)}\")\n",
    "print(f\"Length ToxinPred Neg: {len(toxinpred_neg_seqs)}\")"
   ]
  },
  {
   "cell_type": "markdown",
   "id": "719a0d09-321d-4adc-a089-ea41a832a824",
   "metadata": {},
   "source": [
    "## Combine All Positive (Toxin) Samples"
   ]
  },
  {
   "cell_type": "code",
   "execution_count": 55,
   "id": "30c66543-4ba5-4d9a-b287-ecc257bfe9ff",
   "metadata": {},
   "outputs": [],
   "source": [
    "canonical_set = {'a', 'c', 'd', 'e', 'f', 'g', 'h', 'i', 'k', 'l', 'm', 'n', 'o', 'p', 'q', 'r', 's', 't', 'u', 'v', 'w', 'y', '*'}"
   ]
  },
  {
   "cell_type": "code",
   "execution_count": 60,
   "id": "091cbe3e-ce51-4d33-877f-17ceb76c891c",
   "metadata": {},
   "outputs": [
    {
     "name": "stdout",
     "output_type": "stream",
     "text": [
      "Combined Toxin Samples Final Length: 205384\n"
     ]
    }
   ],
   "source": [
    "combined_toxin_samples = list(all_toxins_set) + toxdl_toxin_seqs + toxibtl_toxin_seqs + toxinpred_pos_seqs\n",
    "combined_toxin_samples = set(combined_toxin_samples)\n",
    "combined_toxin_samples = {str(x).lower() for x in combined_toxin_samples if len(x) > 0}\n",
    "combined_toxin_samples = {x for x in combined_toxin_samples if set(x).issubset(canonical_set)}\n",
    "print(f\"Combined Toxin Samples Final Length: {len(combined_toxin_samples)}\")"
   ]
  },
  {
   "cell_type": "code",
   "execution_count": 61,
   "id": "bcfaa52c-84f1-47a6-8a18-d02ab48af1c7",
   "metadata": {},
   "outputs": [],
   "source": [
    "def write_aa_to_fastas(aa_set, outdir, filename='toxin'):\n",
    "    outstr = \"\"\n",
    "    batch = 0\n",
    "    for i, aa in enumerate(aa_set):\n",
    "        if i % 80000 == 0 and i > 0:\n",
    "            outdir_path = Path(f\"{outdir}/toxin-{batch}.fasta\")\n",
    "            outdir_path.write_text(outstr)\n",
    "            outstr = \"\"\n",
    "            batch += 1\n",
    "        outstr += f\">toxin {i}\\n{aa}\\n\"\n",
    "    if outstr != \"\":\n",
    "        outdir_path = Path(f\"{outdir}/toxin-{batch}.fasta\")\n",
    "        outdir_path.write_text(outstr)\n",
    "        outstr = \"\"\n",
    "        batch += 1"
   ]
  },
  {
   "cell_type": "code",
   "execution_count": 62,
   "id": "8a5d42ba-ddd9-4e3e-a73a-6b56f602d132",
   "metadata": {},
   "outputs": [],
   "source": [
    "write_aa_to_fastas(combined_toxin_samples, '../combined')"
   ]
  },
  {
   "cell_type": "markdown",
   "id": "81e5c838-d9f5-4572-a396-9eae71677dee",
   "metadata": {},
   "source": [
    "## Combine All Negative (Non-Toxin) Samples"
   ]
  },
  {
   "cell_type": "markdown",
   "id": "9af0fca3-9be5-423a-b56a-5ebeac3697b8",
   "metadata": {},
   "source": [
    "### Loading in Non-Toxic Datasets Too"
   ]
  },
  {
   "cell_type": "code",
   "execution_count": 75,
   "id": "f4a8796c-d484-45ff-9cc9-8e2c218ea19f",
   "metadata": {},
   "outputs": [],
   "source": [
    "from Bio import SeqIO\n",
    "import pandas as pd\n",
    "import os"
   ]
  },
  {
   "cell_type": "code",
   "execution_count": 76,
   "id": "ddf3ec13-e7c4-4dd4-9055-84965838a4fd",
   "metadata": {},
   "outputs": [
    {
     "data": {
      "text/plain": [
       "'/home/apandit/tox/data/new'"
      ]
     },
     "execution_count": 76,
     "metadata": {},
     "output_type": "execute_result"
    }
   ],
   "source": [
    "os.getcwd()"
   ]
  },
  {
   "cell_type": "code",
   "execution_count": 126,
   "id": "6625369c-960f-443e-b47c-7a0f346e60d3",
   "metadata": {},
   "outputs": [],
   "source": [
    "anti_microbe_peptides = list(SeqIO.parse('anti_microbial_peptides.fasta', 'fasta'))\n",
    "bactibase_peptides = list(SeqIO.parse('BACTIBASE.fasta', 'fasta'))\n",
    "peptherdia_peptides = list(SeqIO.parse('peptherdia_approved.txt', 'fasta'))\n",
    "thpdb_peptides = list(SeqIO.parse('thpdb_therapeutic_peptides_sequences.fasta', 'fasta'))"
   ]
  },
  {
   "cell_type": "code",
   "execution_count": 127,
   "id": "831830ed-6473-4a81-b458-d090b6c3c677",
   "metadata": {},
   "outputs": [],
   "source": [
    "anti_microbe_peptides = [str(x.seq).lower() for x in anti_microbe_peptides]\n",
    "bactibase_peptides = [str(x.seq).lower() for x in bactibase_peptides]\n",
    "peptherdia_peptides = [str(x.seq).lower() for x in peptherdia_peptides]\n",
    "thpdb_peptides = [str(x.seq).lower() for x in thpdb_peptides]"
   ]
  },
  {
   "cell_type": "code",
   "execution_count": 128,
   "id": "b70c4dec-a353-4ffe-89fa-53e9b4c79a8a",
   "metadata": {},
   "outputs": [],
   "source": [
    "fermfood_peptides = []\n",
    "for x in Path('fermfoodb').iterdir():\n",
    "    if x.is_file() and x.suffix == '.csv.':\n",
    "        df = pd.read_csv(x)\n",
    "        fermfood_peptides += df['Peptide_Sequence'].str.lower().tolist()\n",
    "\n",
    "campr3_peptides = []\n",
    "for x in Path('campr3').iterdir():\n",
    "    if x.is_file() and x.suffix == '.txt':\n",
    "        df = pd.read_csv(x, sep='\\t')\n",
    "        campr3_peptides += df['Seqence'].str.lower().tolist()"
   ]
  },
  {
   "cell_type": "code",
   "execution_count": 131,
   "id": "556a2099-51b3-4c6b-845c-64a9a121d169",
   "metadata": {},
   "outputs": [
    {
     "name": "stdout",
     "output_type": "stream",
     "text": [
      "28315\n"
     ]
    }
   ],
   "source": [
    "canonical_set = {'a', 'c', 'd', 'e', 'f', 'g', 'h', 'i', 'k', 'l', 'm', 'n', 'o', 'p', 'q', 'r', 's', 't', 'u', 'v', 'w', 'y', '*'}\n",
    "combined_neg_samples = toxdl_neg_seqs + toxibtl_neg_seqs + toxinpred_neg_seqs\n",
    "combined_neg_samples += anti_microbe_peptides + bactibase_peptides + peptherdia_peptides + thpdb_peptides\n",
    "combined_neg_samples += fermfood_peptides + campr3_peptides\n",
    "combined_neg_samples = [str(x).lower() for x in combined_neg_samples]\n",
    "combined_neg_samples = [x for x in combined_neg_samples if set(x).issubset(canonical_set)]\n",
    "combined_neg_samples = set(combined_neg_samples)\n",
    "print(len(combined_neg_samples))"
   ]
  },
  {
   "cell_type": "code",
   "execution_count": 132,
   "id": "c284832e-ecf7-4af8-a55c-0ed87b4fd79b",
   "metadata": {},
   "outputs": [
    {
     "data": {
      "text/plain": [
       "3867922"
      ]
     },
     "execution_count": 132,
     "metadata": {},
     "output_type": "execute_result"
    }
   ],
   "source": [
    "outstr = \"\"\n",
    "for i, x in enumerate(combined_neg_samples):\n",
    "    outstr += f\">nontoxin {i}\\n{x}\\n\"\n",
    "Path('../combined/nontoxin-0.fasta').write_text(outstr)"
   ]
  },
  {
   "cell_type": "code",
   "execution_count": null,
   "id": "a472d6bd-e9f7-4466-80e6-193b7d2d824a",
   "metadata": {},
   "outputs": [],
   "source": []
  }
 ],
 "metadata": {
  "kernelspec": {
   "display_name": "Python 3 (ipykernel)",
   "language": "python",
   "name": "python3"
  },
  "language_info": {
   "codemirror_mode": {
    "name": "ipython",
    "version": 3
   },
   "file_extension": ".py",
   "mimetype": "text/x-python",
   "name": "python",
   "nbconvert_exporter": "python",
   "pygments_lexer": "ipython3",
   "version": "3.9.12"
  }
 },
 "nbformat": 4,
 "nbformat_minor": 5
}
