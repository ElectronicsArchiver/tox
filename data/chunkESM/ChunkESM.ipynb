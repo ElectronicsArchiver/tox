{
 "cells": [
  {
   "cell_type": "markdown",
   "id": "79b79eb3-b8f5-4b5b-851f-5cde2c52b4c7",
   "metadata": {},
   "source": [
    "# Chunk up train and test sequences for facebook ESM scripts."
   ]
  },
  {
   "cell_type": "code",
   "execution_count": 1,
   "id": "b5dab908-4aa3-47c0-aee1-fce10ffcdcee",
   "metadata": {},
   "outputs": [],
   "source": [
    "from Bio import SeqIO\n",
    "from pathlib import Path"
   ]
  },
  {
   "cell_type": "code",
   "execution_count": 2,
   "id": "22d8e2f0-03c0-4af7-bdc8-2d266283a047",
   "metadata": {},
   "outputs": [],
   "source": [
    "test_toxins = list(SeqIO.parse('../final-splits/test-toxins.fasta', 'fasta'))\n",
    "test_nontoxins = list(SeqIO.parse('../final-splits/test-nontoxins.fasta', 'fasta'))\n",
    "train_toxins = list(SeqIO.parse('../final-splits/train-toxins.fasta', 'fasta'))\n",
    "train_nontoxins = list(SeqIO.parse('../final-splits/train-nontoxins.fasta', 'fasta'))"
   ]
  },
  {
   "cell_type": "code",
   "execution_count": 3,
   "id": "a4a7405e-cb1b-4dad-8110-69c4c91a6961",
   "metadata": {},
   "outputs": [],
   "source": [
    "test_all = test_toxins + test_nontoxins\n",
    "batch_size = 1000\n",
    "write_num = 0\n",
    "\n",
    "for i in range(0, len(test_all), batch_size):\n",
    "    SeqIO.write(test_all[i:i + batch_size], f\"test-chunks/{write_num}.fasta\", 'fasta')\n",
    "    write_num += 1"
   ]
  },
  {
   "cell_type": "code",
   "execution_count": 4,
   "id": "421c4510-5eae-45e8-a52d-e6a58ddbe9fc",
   "metadata": {},
   "outputs": [],
   "source": [
    "train_all = train_toxins + train_nontoxins\n",
    "batch_size = 1000\n",
    "write_num = 0\n",
    "\n",
    "for i in range(0, len(train_all), batch_size):\n",
    "    SeqIO.write(train_all[i:i + batch_size], f\"train-chunks/{write_num}.fasta\", 'fasta')\n",
    "    write_num += 1"
   ]
  },
  {
   "cell_type": "code",
   "execution_count": null,
   "id": "bece4abc-9014-4790-ac74-d0ae431ea2ae",
   "metadata": {},
   "outputs": [],
   "source": []
  }
 ],
 "metadata": {
  "kernelspec": {
   "display_name": "Python 3 (ipykernel)",
   "language": "python",
   "name": "python3"
  },
  "language_info": {
   "codemirror_mode": {
    "name": "ipython",
    "version": 3
   },
   "file_extension": ".py",
   "mimetype": "text/x-python",
   "name": "python",
   "nbconvert_exporter": "python",
   "pygments_lexer": "ipython3",
   "version": "3.9.12"
  }
 },
 "nbformat": 4,
 "nbformat_minor": 5
}
