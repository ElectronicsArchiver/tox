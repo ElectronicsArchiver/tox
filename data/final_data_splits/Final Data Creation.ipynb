{
 "cells": [
  {
   "cell_type": "code",
   "execution_count": 12,
   "metadata": {},
   "outputs": [],
   "source": [
    "from Bio import SeqIO\n",
    "from Bio.Seq import Seq\n",
    "from Bio.SeqRecord import SeqRecord"
   ]
  },
  {
   "cell_type": "code",
   "execution_count": 24,
   "metadata": {},
   "outputs": [],
   "source": [
    "from matplotlib import pyplot as plt"
   ]
  },
  {
   "cell_type": "code",
   "execution_count": 31,
   "metadata": {},
   "outputs": [],
   "source": [
    "# create one fasta file for train\n",
    "train_seqs = []\n",
    "train_seqs1002 = []\n",
    "train_lens = []\n",
    "i = 1\n",
    "seqs = SeqIO.parse(open('./train-nontoxins.fasta'), 'fasta')\n",
    "for fasta in seqs:\n",
    "    seq = Seq(str(fasta.seq).upper())\n",
    "    seq1002 = Seq(str(fasta.seq)[:1002].upper())\n",
    "    train_lens.append(len(fasta.seq))\n",
    "    train_seqs.append(SeqRecord(seq, id=str(i), description='nontoxin'))\n",
    "    train_seqs1002.append(SeqRecord(seq1002, id=str(i), description='nontoxin'))\n",
    "    i += 1\n",
    "seqs = SeqIO.parse(open('./train-toxins.fasta'), 'fasta')\n",
    "for fasta in seqs:\n",
    "    seq = Seq(str(fasta.seq)[:1002].upper())\n",
    "    seq1002 = Seq(str(fasta.seq)[:1002].upper())\n",
    "    train_lens.append(len(fasta.seq))\n",
    "    train_seqs.append(SeqRecord(seq, id=str(i), description='toxin'))\n",
    "    train_seqs1002.append(SeqRecord(seq1002, id=str(i), description='toxin'))\n",
    "    i += 1\n",
    "# with open(\"train.fasta\", \"w\") as output_handle:\n",
    "#     SeqIO.write(train_seqs, output_handle, \"fasta\")\n",
    "# with open(\"train1002.fasta\", \"w\") as output_handle:\n",
    "#     SeqIO.write(train_seqs1002, output_handle, \"fasta\")"
   ]
  },
  {
   "cell_type": "code",
   "execution_count": 32,
   "metadata": {},
   "outputs": [],
   "source": [
    "# create one fasta file for test\n",
    "test_seqs = []\n",
    "test_seqs1002 = []\n",
    "test_lens = []\n",
    "i = 1\n",
    "seqs = SeqIO.parse(open('./test-nontoxins.fasta'), 'fasta')\n",
    "for fasta in seqs:\n",
    "    seq = Seq(str(fasta.seq).upper())\n",
    "    seq1002 = Seq(str(fasta.seq)[:1002].upper())\n",
    "    test_lens.append(len(fasta.seq))\n",
    "    test_seqs.append(SeqRecord(seq, id=str(i), description='nontoxin'))\n",
    "    test_seqs1002.append(SeqRecord(seq1002, id=str(i), description='nontoxin'))\n",
    "    i += 1\n",
    "seqs = SeqIO.parse(open('./test-toxins.fasta'), 'fasta')\n",
    "for fasta in seqs:\n",
    "    seq = Seq(str(fasta.seq).upper())\n",
    "    seq1002 = Seq(str(fasta.seq)[:1002].upper())\n",
    "    test_lens.append(len(fasta.seq))\n",
    "    test_seqs.append(SeqRecord(seq, id=str(i), description='toxin'))\n",
    "    test_seqs1002.append(SeqRecord(seq1002, id=str(i), description='toxin'))\n",
    "    i += 1\n",
    "# with open(\"test.fasta\", \"w\") as output_handle:\n",
    "#     SeqIO.write(test_seqs, output_handle, \"fasta\")\n",
    "# with open(\"test1002.fasta\", \"w\") as output_handle:\n",
    "#     SeqIO.write(test_seqs1002, output_handle, \"fasta\")"
   ]
  },
  {
   "cell_type": "code",
   "execution_count": 33,
   "metadata": {},
   "outputs": [
    {
     "data": {
      "image/png": "[encoded data removed]",
      "text/plain": [
       "<Figure size 432x288 with 1 Axes>"
      ]
     },
     "metadata": {
      "needs_background": "light"
     },
     "output_type": "display_data"
    }
   ],
   "source": [
    "plt.hist(train_lens)\n",
    "plt.show()"
   ]
  },
  {
   "cell_type": "code",
   "execution_count": 34,
   "metadata": {},
   "outputs": [
    {
     "data": {
      "image/png": "[encoded data removed]",
      "text/plain": [
       "<Figure size 432x288 with 1 Axes>"
      ]
     },
     "metadata": {
      "needs_background": "light"
     },
     "output_type": "display_data"
    }
   ],
   "source": [
    "plt.hist(test_lens)\n",
    "plt.show()"
   ]
  },
  {
   "cell_type": "code",
   "execution_count": 35,
   "metadata": {},
   "outputs": [],
   "source": [
    "seqs = SeqIO.parse(open('../../model/ToxIBTL/originalData/protein_train.fa'), 'fasta')\n",
    "lens = []\n",
    "for fasta in seqs:\n",
    "    lens.append(len(fasta.seq))"
   ]
  },
  {
   "cell_type": "code",
   "execution_count": 39,
   "metadata": {},
   "outputs": [
    {
     "data": {
      "image/png": "[encoded data removed]",
      "text/plain": [
       "<Figure size 432x288 with 1 Axes>"
      ]
     },
     "metadata": {
      "needs_background": "light"
     },
     "output_type": "display_data"
    }
   ],
   "source": [
    "plt.hist(lens)\n",
    "plt.show()"
   ]
  },
  {
   "cell_type": "code",
   "execution_count": null,
   "metadata": {},
   "outputs": [],
   "source": []
  }
 ],
 "metadata": {
  "kernelspec": {
   "display_name": "tox",
   "language": "python",
   "name": "tox"
  },
  "language_info": {
   "codemirror_mode": {
    "name": "ipython",
    "version": 3
   },
   "file_extension": ".py",
   "mimetype": "text/x-python",
   "name": "python",
   "nbconvert_exporter": "python",
   "pygments_lexer": "ipython3",
   "version": "3.9.12"
  }
 },
 "nbformat": 4,
 "nbformat_minor": 2
}
