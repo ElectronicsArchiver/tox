{
 "cells": [
  {
   "cell_type": "code",
   "execution_count": 56,
   "id": "3e07edc5-5db7-4dba-8e86-51184c8355f3",
   "metadata": {},
   "outputs": [],
   "source": [
    "import pandas as pd\n",
    "from Bio import SeqIO\n",
    "from pathlib import Path\n",
    "import numpy as np\n",
    "import matplotlib.pyplot as plt"
   ]
  },
  {
   "cell_type": "code",
   "execution_count": 57,
   "id": "9670186e-7b89-47ff-8792-2a1e0f326d23",
   "metadata": {},
   "outputs": [],
   "source": [
    "allseqs = list(SeqIO.parse('allseqs.fasta', 'fasta'))"
   ]
  },
  {
   "cell_type": "code",
   "execution_count": 58,
   "id": "5f03270c-9fda-48e4-88c4-d5a817126885",
   "metadata": {},
   "outputs": [
    {
     "data": {
      "text/plain": [
       "410768"
      ]
     },
     "execution_count": 58,
     "metadata": {},
     "output_type": "execute_result"
    }
   ],
   "source": [
    "len(allseqs)"
   ]
  },
  {
   "cell_type": "code",
   "execution_count": 59,
   "id": "120f0a6c-1a64-4e74-bc21-f5fb4b7aa827",
   "metadata": {},
   "outputs": [
    {
     "data": {
      "text/plain": [
       "410768"
      ]
     },
     "execution_count": 59,
     "metadata": {},
     "output_type": "execute_result"
    }
   ],
   "source": [
    "allseqs_mapped = {x.id: x for x in allseqs}\n",
    "len(allseqs_mapped)"
   ]
  },
  {
   "cell_type": "code",
   "execution_count": 60,
   "id": "22c537a1-dc04-40b1-a512-3b772d4e0df8",
   "metadata": {},
   "outputs": [
    {
     "data": {
      "text/html": [
       "<div>\n",
       "<style scoped>\n",
       "    .dataframe tbody tr th:only-of-type {\n",
       "        vertical-align: middle;\n",
       "    }\n",
       "\n",
       "    .dataframe tbody tr th {\n",
       "        vertical-align: top;\n",
       "    }\n",
       "\n",
       "    .dataframe thead th {\n",
       "        text-align: right;\n",
       "    }\n",
       "</style>\n",
       "<table border=\"1\" class=\"dataframe\">\n",
       "  <thead>\n",
       "    <tr style=\"text-align: right;\">\n",
       "      <th></th>\n",
       "      <th>Cluster</th>\n",
       "      <th>SequenceId</th>\n",
       "    </tr>\n",
       "  </thead>\n",
       "  <tbody>\n",
       "    <tr>\n",
       "      <th>0</th>\n",
       "      <td>nontox-omWr3L</td>\n",
       "      <td>nontox-omWr3L</td>\n",
       "    </tr>\n",
       "    <tr>\n",
       "      <th>1</th>\n",
       "      <td>nontox-omWr3L</td>\n",
       "      <td>nontox-U42kPM</td>\n",
       "    </tr>\n",
       "    <tr>\n",
       "      <th>2</th>\n",
       "      <td>nontox-omWr3L</td>\n",
       "      <td>nontox-rzBfU4</td>\n",
       "    </tr>\n",
       "    <tr>\n",
       "      <th>3</th>\n",
       "      <td>nontox-omWr3L</td>\n",
       "      <td>nontox-nnHGIb</td>\n",
       "    </tr>\n",
       "    <tr>\n",
       "      <th>4</th>\n",
       "      <td>nontox-omWr3L</td>\n",
       "      <td>nontox-PmUwlh</td>\n",
       "    </tr>\n",
       "    <tr>\n",
       "      <th>...</th>\n",
       "      <td>...</td>\n",
       "      <td>...</td>\n",
       "    </tr>\n",
       "    <tr>\n",
       "      <th>410763</th>\n",
       "      <td>nontox-euVuBJ</td>\n",
       "      <td>nontox-ofFbKS</td>\n",
       "    </tr>\n",
       "    <tr>\n",
       "      <th>410764</th>\n",
       "      <td>nontox-euVuBJ</td>\n",
       "      <td>nontox-UML8dE</td>\n",
       "    </tr>\n",
       "    <tr>\n",
       "      <th>410765</th>\n",
       "      <td>nontox-k9rFgy</td>\n",
       "      <td>nontox-k9rFgy</td>\n",
       "    </tr>\n",
       "    <tr>\n",
       "      <th>410766</th>\n",
       "      <td>nontox-34o3qH</td>\n",
       "      <td>nontox-34o3qH</td>\n",
       "    </tr>\n",
       "    <tr>\n",
       "      <th>410767</th>\n",
       "      <td>nontox-bYmsaL</td>\n",
       "      <td>nontox-bYmsaL</td>\n",
       "    </tr>\n",
       "  </tbody>\n",
       "</table>\n",
       "<p>410768 rows × 2 columns</p>\n",
       "</div>"
      ],
      "text/plain": [
       "              Cluster     SequenceId\n",
       "0       nontox-omWr3L  nontox-omWr3L\n",
       "1       nontox-omWr3L  nontox-U42kPM\n",
       "2       nontox-omWr3L  nontox-rzBfU4\n",
       "3       nontox-omWr3L  nontox-nnHGIb\n",
       "4       nontox-omWr3L  nontox-PmUwlh\n",
       "...               ...            ...\n",
       "410763  nontox-euVuBJ  nontox-ofFbKS\n",
       "410764  nontox-euVuBJ  nontox-UML8dE\n",
       "410765  nontox-k9rFgy  nontox-k9rFgy\n",
       "410766  nontox-34o3qH  nontox-34o3qH\n",
       "410767  nontox-bYmsaL  nontox-bYmsaL\n",
       "\n",
       "[410768 rows x 2 columns]"
      ]
     },
     "execution_count": 60,
     "metadata": {},
     "output_type": "execute_result"
    }
   ],
   "source": [
    "seqMasterKey = pd.read_csv('ClustDBTSV.tsv', sep='\\t', header=None, names=['Cluster', 'SequenceId'])\n",
    "seqMasterKey"
   ]
  },
  {
   "cell_type": "code",
   "execution_count": 61,
   "id": "885e6df7-29e2-45de-8361-d3585d5cc7b2",
   "metadata": {},
   "outputs": [
    {
     "name": "stdout",
     "output_type": "stream",
     "text": [
      "88031\n"
     ]
    }
   ],
   "source": [
    "clustered_seqs = {}\n",
    "for index, row in seqMasterKey.iterrows():\n",
    "    curr_clust = row['Cluster']\n",
    "    if curr_clust in clustered_seqs:\n",
    "        clustered_seqs[curr_clust] += [allseqs_mapped[row['SequenceId']]]\n",
    "    else:\n",
    "        clustered_seqs[curr_clust] = [allseqs_mapped[row['SequenceId']]]\n",
    "print(len(clustered_seqs))"
   ]
  },
  {
   "cell_type": "code",
   "execution_count": 62,
   "id": "7c809ef5-770e-4866-acf9-4cd3c1084e49",
   "metadata": {},
   "outputs": [
    {
     "data": {
      "text/plain": [
       "88031"
      ]
     },
     "execution_count": 62,
     "metadata": {},
     "output_type": "execute_result"
    }
   ],
   "source": [
    "len(seqMasterKey['Cluster'].unique())"
   ]
  },
  {
   "cell_type": "code",
   "execution_count": 63,
   "id": "d66ac902-830f-4bbe-80ff-c0ff1d121e6f",
   "metadata": {},
   "outputs": [
    {
     "name": "stdout",
     "output_type": "stream",
     "text": [
      "4.6661744158307865\n",
      "1.0\n"
     ]
    }
   ],
   "source": [
    "cluster_sizes = [len(clustered_seqs[x]) for x in clustered_seqs]\n",
    "avg_len = np.mean(cluster_sizes)\n",
    "median_len = np.median(cluster_sizes)\n",
    "print(avg_len)\n",
    "print(median_len)\n"
   ]
  },
  {
   "cell_type": "code",
   "execution_count": 64,
   "id": "316b69b6-480e-4a88-bb65-eb3daa0b608b",
   "metadata": {},
   "outputs": [
    {
     "name": "stdout",
     "output_type": "stream",
     "text": [
      "Total Clusters: 88031\n"
     ]
    }
   ],
   "source": [
    "print(f'Total Clusters: {len(clustered_seqs)}')\n"
   ]
  },
  {
   "cell_type": "code",
   "execution_count": 17,
   "id": "c784ef2c-f5ed-43ac-afb4-687a5bb38c00",
   "metadata": {},
   "outputs": [
    {
     "data": {
      "image/png": "[encoded data removed]",
      "text/plain": [
       "<Figure size 432x288 with 1 Axes>"
      ]
     },
     "metadata": {
      "needs_background": "light"
     },
     "output_type": "display_data"
    }
   ],
   "source": [
    "plt.figure()\n",
    "plt.hist(cluster_sizes, bins=100)\n",
    "plt.show()"
   ]
  },
  {
   "cell_type": "code",
   "execution_count": 19,
   "id": "9c9af50f-4d16-4cc0-bcc7-d309b6ae79ff",
   "metadata": {},
   "outputs": [
    {
     "data": {
      "image/png": "[encoded data removed]",
      "text/plain": [
       "<Figure size 432x288 with 1 Axes>"
      ]
     },
     "metadata": {
      "needs_background": "light"
     },
     "output_type": "display_data"
    }
   ],
   "source": [
    "plt.figure()\n",
    "plt.hist(cluster_sizes, bins=100, range=(0, 100))\n",
    "plt.show()"
   ]
  },
  {
   "cell_type": "code",
   "execution_count": 65,
   "id": "8f2da68c-58ee-4e19-9191-2c6368d1d37b",
   "metadata": {},
   "outputs": [],
   "source": [
    "clustersizes_np = np.array(cluster_sizes)"
   ]
  },
  {
   "cell_type": "code",
   "execution_count": 66,
   "id": "6e57c4f3-ff07-4021-b530-ffda585e5ec2",
   "metadata": {},
   "outputs": [
    {
     "data": {
      "text/plain": [
       "0.05100475968692847"
      ]
     },
     "execution_count": 66,
     "metadata": {},
     "output_type": "execute_result"
    }
   ],
   "source": [
    "sum((clustersizes_np > 10) * 1.0)/len(clustersizes_np)"
   ]
  },
  {
   "cell_type": "markdown",
   "id": "aeed9f7d-e2d3-4e7c-b90a-5a754fa08d1e",
   "metadata": {},
   "source": [
    "# Train Test Split Creation Algorithm\n",
    "\n",
    "So, here's our goal: we want to make sure that clusters are segregated to either the train set or the test set. We also want to make sure that the proportion of toxin and nontoxins is the same too."
   ]
  },
  {
   "cell_type": "code",
   "execution_count": 67,
   "id": "71e0aca1-c59a-437a-94e2-13200b7552f4",
   "metadata": {},
   "outputs": [],
   "source": [
    "clustered_seqs_pos = {\n",
    "    k: sum([1 for s in v if s.id[:3] == 'tox']) for k, v in clustered_seqs.items()\n",
    "}\n",
    "clustered_seqs_neg = {\n",
    "    k: sum([1 for s in v if s.id[:3] == 'non']) for k, v in clustered_seqs.items()\n",
    "}\n",
    "clustered_seqs_total = {\n",
    "    k: len(v) for k, v in clustered_seqs.items()\n",
    "}"
   ]
  },
  {
   "cell_type": "code",
   "execution_count": 68,
   "id": "faba145d-7d34-4dea-9c87-1da4f8dac17a",
   "metadata": {},
   "outputs": [
    {
     "name": "stdout",
     "output_type": "stream",
     "text": [
      "['tox-bSbnW4', 'tox-gHiywl', 'tox-Oew6tZ', 'tox-rQqgdE', 'tox-xi0RE2', 'tox-kWWac6', 'tox-cDRLkx', 'tox-TR42cT', 'tox-JZb8Qu', 'tox-0wTQ70']\n"
     ]
    }
   ],
   "source": [
    "clustered_seqs_keys = list(clustered_seqs_total.keys())\n",
    "clustered_seqs_counts = np.array(list(clustered_seqs_total.values()))\n",
    "clustered_sort_indx = np.argsort(clustered_seqs_counts)[::-1]\n",
    "clustered_seqs_keys_sorted = [clustered_seqs_keys[i] for i in clustered_sort_indx]\n",
    "print(clustered_seqs_keys_sorted[:10])"
   ]
  },
  {
   "cell_type": "code",
   "execution_count": 69,
   "id": "b935946d-3db6-4110-a453-8c0870fb8b48",
   "metadata": {},
   "outputs": [
    {
     "data": {
      "text/plain": [
       "17955"
      ]
     },
     "execution_count": 69,
     "metadata": {},
     "output_type": "execute_result"
    }
   ],
   "source": [
    "clustered_seqs_total['tox-bSbnW4']"
   ]
  },
  {
   "cell_type": "code",
   "execution_count": 70,
   "id": "95c5a2d3-9a25-48ce-8200-67d8284e2271",
   "metadata": {},
   "outputs": [
    {
     "name": "stdout",
     "output_type": "stream",
     "text": [
      "Train Set Size: 369691\n",
      "Train Positives: 184336\n",
      "Train Negatives: 184336\n",
      "\n",
      "\n",
      "Test Set Size: 41077\n",
      "Test Positives: 21048\n",
      "Test Negatives: 21048\n",
      "\n",
      "\n",
      "Train / Test Proportion: 0.8999995131071554\n",
      "Train Percent Pos: 0.5\n",
      "Test Percent Pos: 0.5\n"
     ]
    }
   ],
   "source": [
    "train_set = []\n",
    "train_set_pos = 0\n",
    "train_set_neg = 0\n",
    "\n",
    "test_set = []\n",
    "test_set_pos = 0\n",
    "test_set_neg = 0\n",
    "\n",
    "target_train_test_prcnt = 0.9\n",
    "target_train_pos = 0.5\n",
    "target_test_pos = 0.5\n",
    "\n",
    "for k in clustered_seqs_keys_sorted:\n",
    "    seq_set = clustered_seqs[k]\n",
    "    seq_total_cnt = clustered_seqs_total[k]\n",
    "    seq_pos_cnt = clustered_seqs_pos[k]\n",
    "    seq_neg_cnt = clustered_seqs_pos[k]\n",
    "        \n",
    "    train_prcnt_w_seq = (len(train_set) + seq_total_cnt) / (len(train_set) + seq_total_cnt + len(test_set))\n",
    "    train_prcnt_pos_w_seq = (train_set_pos + seq_pos_cnt) / (train_set_pos + seq_pos_cnt + train_set_neg + seq_neg_cnt)\n",
    "    if_train_loss = (train_prcnt_w_seq - target_train_test_prcnt) ** 2 + (train_prcnt_pos_w_seq - target_train_pos) ** 2\n",
    "    \n",
    "    test_prcnt_w_seq = (len(test_set) + seq_total_cnt) / (len(test_set) + seq_total_cnt + len(train_set))\n",
    "    test_prcnt_pos_w_seq = (test_set_pos + seq_pos_cnt) / (test_set_pos + seq_pos_cnt + test_set_neg + seq_neg_cnt)\n",
    "    if_test_loss = (test_prcnt_w_seq - (1 - target_train_test_prcnt)) ** 2 + (test_prcnt_pos_w_seq - target_test_pos) ** 2\n",
    "    \n",
    "    if if_train_loss > if_test_loss:\n",
    "        test_set += seq_set\n",
    "        test_set_pos += seq_pos_cnt\n",
    "        test_set_neg += seq_neg_cnt\n",
    "    else:\n",
    "        train_set += seq_set\n",
    "        train_set_pos += seq_pos_cnt\n",
    "        train_set_neg += seq_neg_cnt\n",
    "\n",
    "print(f\"Train Set Size: {len(train_set)}\\nTrain Positives: {train_set_pos}\\nTrain Negatives: {train_set_neg}\\n\\n\")\n",
    "print(f\"Test Set Size: {len(test_set)}\\nTest Positives: {test_set_pos}\\nTest Negatives: {test_set_neg}\\n\\n\")\n",
    "print(f\"Train / Test Proportion: {len(train_set)/(len(train_set) + len(test_set))}\")\n",
    "print(f\"Train Percent Pos: {train_set_pos / (train_set_pos + train_set_neg)}\")\n",
    "print(f\"Test Percent Pos: {test_set_pos / (test_set_pos + test_set_neg)}\")"
   ]
  },
  {
   "cell_type": "code",
   "execution_count": 71,
   "id": "f0585f44-285b-40e6-9e37-20d9685602c9",
   "metadata": {},
   "outputs": [],
   "source": [
    "train_set_toxins = [x for x in train_set if x.id[:3] == 'tox']\n",
    "train_set_nontoxins = [x for x in train_set if x.id[:3] == 'non']\n",
    "test_set_toxins = [x for x in test_set if x.id[:3] == 'tox']\n",
    "test_set_nontoxins = [x for x in test_set if x.id[:3] == 'non']"
   ]
  },
  {
   "cell_type": "code",
   "execution_count": 72,
   "id": "0430a6ee-6c4d-497b-851c-43230c795bc5",
   "metadata": {},
   "outputs": [
    {
     "name": "stdout",
     "output_type": "stream",
     "text": [
      "184336\n",
      "185355\n",
      "21048\n",
      "20029\n"
     ]
    }
   ],
   "source": [
    "print(len(train_set_toxins))\n",
    "print(len(train_set_nontoxins))\n",
    "print(len(test_set_toxins))\n",
    "print(len(test_set_nontoxins))"
   ]
  },
  {
   "cell_type": "code",
   "execution_count": 73,
   "id": "6e8501b4-e3b3-4143-ad43-208e0cc9df4a",
   "metadata": {},
   "outputs": [
    {
     "data": {
      "text/plain": [
       "20029"
      ]
     },
     "execution_count": 73,
     "metadata": {},
     "output_type": "execute_result"
    }
   ],
   "source": [
    "SeqIO.write(train_set_toxins, 'train-toxins.fasta', 'fasta')\n",
    "SeqIO.write(train_set_nontoxins, 'train-nontoxins.fasta', 'fasta')\n",
    "SeqIO.write(test_set_toxins, 'test-toxins.fasta', 'fasta')\n",
    "SeqIO.write(test_set_nontoxins, 'test-nontoxins.fasta', 'fasta')"
   ]
  },
  {
   "cell_type": "code",
   "execution_count": null,
   "id": "958c51d0-8dce-4a18-b17f-b8fc46d1e4fa",
   "metadata": {},
   "outputs": [],
   "source": []
  }
 ],
 "metadata": {
  "kernelspec": {
   "display_name": "Python 3 (ipykernel)",
   "language": "python",
   "name": "python3"
  },
  "language_info": {
   "codemirror_mode": {
    "name": "ipython",
    "version": 3
   },
   "file_extension": ".py",
   "mimetype": "text/x-python",
   "name": "python",
   "nbconvert_exporter": "python",
   "pygments_lexer": "ipython3",
   "version": "3.9.12"
  }
 },
 "nbformat": 4,
 "nbformat_minor": 5
}
