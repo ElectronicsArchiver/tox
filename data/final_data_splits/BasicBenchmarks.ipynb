{
 "cells": [
  {
   "cell_type": "code",
   "execution_count": 6,
   "id": "c364adf7-7e04-4e89-8b7d-5d9f9055514c",
   "metadata": {},
   "outputs": [],
   "source": [
    "from Bio import SeqIO\n",
    "import pandas as pd\n",
    "import numpy as np\n",
    "import random"
   ]
  },
  {
   "cell_type": "code",
   "execution_count": 2,
   "id": "178072a8-bfa5-4da2-ab37-dcc91dbb1875",
   "metadata": {},
   "outputs": [
    {
     "name": "stdout",
     "output_type": "stream",
     "text": [
      "20029\n"
     ]
    }
   ],
   "source": [
    "seqs = list(SeqIO.parse('test-nontoxins.fasta', 'fasta'))\n",
    "print(len(seqs))"
   ]
  },
  {
   "cell_type": "code",
   "execution_count": 3,
   "id": "57a346f7-07bc-47cd-bfff-ce8b8d96cd92",
   "metadata": {},
   "outputs": [
    {
     "name": "stdout",
     "output_type": "stream",
     "text": [
      "21048\n"
     ]
    }
   ],
   "source": [
    "txseqs = list(SeqIO.parse('test-toxins.fasta', 'fasta'))\n",
    "print(len(txseqs))"
   ]
  },
  {
   "cell_type": "code",
   "execution_count": 11,
   "id": "d09f965a-771b-4ff9-ac2c-f87448d35e56",
   "metadata": {},
   "outputs": [
    {
     "data": {
      "text/plain": [
       "100"
      ]
     },
     "execution_count": 11,
     "metadata": {},
     "output_type": "execute_result"
    }
   ],
   "source": [
    "allseq = list(SeqIO.parse('allseqs.fasta', 'fasta'))\n",
    "benchset = random.sample(allseq, 100)\n",
    "SeqIO.write(benchset, 'benchmark-seqs.fasta', 'fasta')"
   ]
  },
  {
   "cell_type": "code",
   "execution_count": 15,
   "id": "f1f78fa1-14cb-46dc-8b21-01f6b3f7f889",
   "metadata": {},
   "outputs": [
    {
     "name": "stdout",
     "output_type": "stream",
     "text": [
      "Minutes to Run:  16225.336000000001\n",
      "Hours to Run:  270.4222666666667\n",
      "Days to Run:  11.267594444444446\n"
     ]
    }
   ],
   "source": [
    "curr_rate = 237\n",
    "print('Minutes to Run: ', (len(allseq) / len(benchset)) * curr_rate / 60)\n",
    "print('Hours to Run: ', (len(allseq) / len(benchset)) * curr_rate / 60 / 60)\n",
    "print('Days to Run: ', (len(allseq) / len(benchset)) * curr_rate / 60 / 60 / 24)"
   ]
  },
  {
   "cell_type": "code",
   "execution_count": 17,
   "id": "156cc416-2ae3-49f6-ae08-bcafacbef529",
   "metadata": {},
   "outputs": [
    {
     "name": "stdout",
     "output_type": "stream",
     "text": [
      "Minutes to Run:  11980.733333333334\n",
      "Hours to Run:  199.6788888888889\n",
      "Days to Run:  8.319953703703705\n"
     ]
    }
   ],
   "source": [
    "curr_rate = 175\n",
    "print('Minutes to Run: ', (len(allseq) / len(benchset)) * curr_rate / 60)\n",
    "print('Hours to Run: ', (len(allseq) / len(benchset)) * curr_rate / 60 / 60)\n",
    "print('Days to Run: ', (len(allseq) / len(benchset)) * curr_rate / 60 / 60 / 24)"
   ]
  },
  {
   "cell_type": "code",
   "execution_count": 18,
   "id": "f36fa5d4-8bd6-4ccb-ad7e-e5312c848a57",
   "metadata": {},
   "outputs": [
    {
     "name": "stdout",
     "output_type": "stream",
     "text": [
      "Minutes to Run:  9995.354666666668\n",
      "Hours to Run:  166.58924444444446\n",
      "Days to Run:  6.941218518518519\n"
     ]
    }
   ],
   "source": [
    "curr_rate = 146\n",
    "print('Minutes to Run: ', (len(allseq) / len(benchset)) * curr_rate / 60)\n",
    "print('Hours to Run: ', (len(allseq) / len(benchset)) * curr_rate / 60 / 60)\n",
    "print('Days to Run: ', (len(allseq) / len(benchset)) * curr_rate / 60 / 60 / 24)"
   ]
  },
  {
   "cell_type": "code",
   "execution_count": null,
   "id": "8833ca98-8bd8-4889-8c78-38f285d129b4",
   "metadata": {},
   "outputs": [],
   "source": []
  }
 ],
 "metadata": {
  "kernelspec": {
   "display_name": "Python 3 (ipykernel)",
   "language": "python",
   "name": "python3"
  },
  "language_info": {
   "codemirror_mode": {
    "name": "ipython",
    "version": 3
   },
   "file_extension": ".py",
   "mimetype": "text/x-python",
   "name": "python",
   "nbconvert_exporter": "python",
   "pygments_lexer": "ipython3",
   "version": "3.9.12"
  }
 },
 "nbformat": 4,
 "nbformat_minor": 5
}
