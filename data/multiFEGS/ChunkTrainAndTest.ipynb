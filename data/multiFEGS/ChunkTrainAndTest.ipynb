{
 "cells": [
  {
   "cell_type": "markdown",
   "id": "7b58287b-4e9d-42f6-9c8e-f192656dbbc4",
   "metadata": {},
   "source": [
    "# File to Chunk Up Train & Test Sequences for matlab scripts to parallelize.\n",
    "\n",
    "As the title suggests."
   ]
  },
  {
   "cell_type": "code",
   "execution_count": 8,
   "id": "9487973f-7d0c-4c16-b469-af7f5d63d8e7",
   "metadata": {},
   "outputs": [],
   "source": [
    "from Bio import SeqIO\n",
    "from pathlib import Path"
   ]
  },
  {
   "cell_type": "code",
   "execution_count": 2,
   "id": "d5fd83ab-3f04-4180-8757-b4ec8b5e6adb",
   "metadata": {},
   "outputs": [],
   "source": [
    "test_toxins = list(SeqIO.parse('../final-splits/test-toxins.fasta', 'fasta'))\n",
    "test_nontoxins = list(SeqIO.parse('../final-splits/test-nontoxins.fasta', 'fasta'))\n",
    "train_toxins = list(SeqIO.parse('../final-splits/train-toxins.fasta', 'fasta'))\n",
    "train_nontoxins = list(SeqIO.parse('../final-splits/train-nontoxins.fasta', 'fasta'))"
   ]
  },
  {
   "cell_type": "code",
   "execution_count": 7,
   "id": "2a7e853c-875a-4283-b797-229e312da8a6",
   "metadata": {},
   "outputs": [
    {
     "name": "stdout",
     "output_type": "stream",
     "text": [
      "total seqs raw:  349462\n"
     ]
    }
   ],
   "source": [
    "print('total seqs raw: ', len(test_toxins) + len(test_nontoxins) + len(train_toxins) + len(train_nontoxins))"
   ]
  },
  {
   "cell_type": "code",
   "execution_count": 4,
   "id": "8b5a90db-b8f4-472b-bdab-22ce107a197a",
   "metadata": {},
   "outputs": [],
   "source": [
    "test_all = test_toxins + test_nontoxins\n",
    "batch_size = 100\n",
    "write_num = 0\n",
    "\n",
    "for i in range(0, len(test_all), batch_size):\n",
    "    SeqIO.write(test_all[i:i + batch_size], f\"test-chunks/{write_num}.fasta\", 'fasta')\n",
    "    write_num += 1"
   ]
  },
  {
   "cell_type": "code",
   "execution_count": 5,
   "id": "842fa14b-4853-4908-b898-f05928b7a6d8",
   "metadata": {},
   "outputs": [],
   "source": [
    "train_all = train_toxins + train_nontoxins\n",
    "batch_size = 100\n",
    "write_num = 0\n",
    "\n",
    "for i in range(0, len(train_all), batch_size):\n",
    "    SeqIO.write(train_all[i:i + batch_size], f\"train-chunks/{write_num}.fasta\", 'fasta')\n",
    "    write_num += 1"
   ]
  },
  {
   "cell_type": "markdown",
   "id": "9e8176db-3a14-4c1d-8ec5-6bfe8eae7a9a",
   "metadata": {},
   "source": [
    "After chunking these files out so each file is numbered 1 to n, with each file containing 100 sequences, until the last file, we now want to know what the max number was."
   ]
  },
  {
   "cell_type": "code",
   "execution_count": 9,
   "id": "a3e03a13-49da-42dd-9e05-14b851f0be0a",
   "metadata": {},
   "outputs": [
    {
     "data": {
      "text/plain": [
       "3145.16"
      ]
     },
     "execution_count": 9,
     "metadata": {},
     "output_type": "execute_result"
    }
   ],
   "source": [
    "len(train_all) / batch_size"
   ]
  },
  {
   "cell_type": "code",
   "execution_count": 10,
   "id": "9868f99f-d1a0-4d8d-beba-8d1e0bd49a5d",
   "metadata": {},
   "outputs": [
    {
     "data": {
      "text/plain": [
       "349.46"
      ]
     },
     "execution_count": 10,
     "metadata": {},
     "output_type": "execute_result"
    }
   ],
   "source": [
    "len(test_all) / batch_size"
   ]
  },
  {
   "cell_type": "code",
   "execution_count": null,
   "id": "a3525e09-05ef-4fbb-ba60-8376236ea569",
   "metadata": {},
   "outputs": [],
   "source": []
  }
 ],
 "metadata": {
  "kernelspec": {
   "display_name": "Python 3 (ipykernel)",
   "language": "python",
   "name": "python3"
  },
  "language_info": {
   "codemirror_mode": {
    "name": "ipython",
    "version": 3
   },
   "file_extension": ".py",
   "mimetype": "text/x-python",
   "name": "python",
   "nbconvert_exporter": "python",
   "pygments_lexer": "ipython3",
   "version": "3.9.12"
  }
 },
 "nbformat": 4,
 "nbformat_minor": 5
}
