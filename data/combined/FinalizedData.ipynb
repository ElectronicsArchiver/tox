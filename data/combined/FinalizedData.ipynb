{
 "cells": [
  {
   "cell_type": "markdown",
   "id": "0712cade-bbc7-41fc-81fa-188931007b7f",
   "metadata": {},
   "source": [
    "# Give Data Unique SeqIDs"
   ]
  },
  {
   "cell_type": "markdown",
   "id": "30c2c1ce-9c94-4e6d-b723-ec2a8fe47267",
   "metadata": {},
   "source": [
    "Turns out some programs like to use SeqIDs (mmseqs2 cough cough) for important things. Redefining seq IDs now to be unique."
   ]
  },
  {
   "cell_type": "code",
   "execution_count": 39,
   "id": "623d7aa4-dbd7-43c2-a517-42b50594229d",
   "metadata": {},
   "outputs": [],
   "source": [
    "import random\n",
    "import string\n",
    "from Bio import SeqIO\n",
    "import pandas as pd\n",
    "from pathlib import Path\n",
    "import pickle"
   ]
  },
  {
   "cell_type": "code",
   "execution_count": 18,
   "id": "faeecc51-b83a-4368-a099-6d3f8bc5bb1d",
   "metadata": {},
   "outputs": [],
   "source": [
    "class RandSeqID():\n",
    "    def __init__(self, used_seqs = None):\n",
    "        if not used_seqs:\n",
    "            used_seqs = set()\n",
    "        self.used_seqs = used_seqs\n",
    "        self.alphabet = string.ascii_letters + string.digits\n",
    "    \n",
    "    def write_used_seqs(self, filename):\n",
    "        with open(filename, 'wb') as file:\n",
    "            pickle.dump(self.used_seqs, file)\n",
    "    \n",
    "    def read_used_seqs(self, filename):\n",
    "        with open(filename, 'rb') as file:\n",
    "            self.used_seqs = pickle.load(filename)\n",
    "    \n",
    "    def get_new_seq_id(self):\n",
    "        seq_id = None\n",
    "        new_id = False\n",
    "        while not new_id:\n",
    "            seq_id = random.choices(self.alphabet, k=6)\n",
    "            seq_id = \"\".join(seq_id)\n",
    "            if seq_id not in self.used_seqs:\n",
    "                self.used_seqs.add(seq_id)\n",
    "                new_id = True\n",
    "        return seq_id\n",
    "\n",
    "seqGen = RandSeqID()"
   ]
  },
  {
   "cell_type": "markdown",
   "id": "b4ddb091-e081-41b1-8ff2-aae675566aeb",
   "metadata": {
    "tags": []
   },
   "source": [
    "# Go through each file, and rename the sequences with IDs."
   ]
  },
  {
   "cell_type": "markdown",
   "id": "e1d99ff8-e269-4596-a9da-77be28a88cba",
   "metadata": {},
   "source": [
    "## Nontoxin Work"
   ]
  },
  {
   "cell_type": "code",
   "execution_count": 37,
   "id": "18c1b0e8-f6f7-4996-b7ab-9363638780b9",
   "metadata": {},
   "outputs": [
    {
     "name": "stdout",
     "output_type": "stream",
     "text": [
      "Processing nontoxin-0.fasta...\n",
      "Processing nontoxin-1.fasta...\n",
      "Processing nontoxin-2.fasta...\n",
      "Processing nontoxin-3.fasta...\n"
     ]
    }
   ],
   "source": [
    "nontoxin_fasta_files = [\n",
    "    'nontoxin-0.fasta',\n",
    "    'nontoxin-1.fasta',\n",
    "    'nontoxin-2.fasta',\n",
    "    'nontoxin-3.fasta',\n",
    "]\n",
    "\n",
    "for nontoxin_file in nontoxin_fasta_files:\n",
    "    print(f\"Processing {nontoxin_file}...\")\n",
    "    seqs = list(SeqIO.parse(nontoxin_file, 'fasta'))\n",
    "    for seq in seqs:\n",
    "        seq.description = ''\n",
    "        seq.name = ''\n",
    "        seq.id = 'nontox-' + seqGen.get_new_seq_id()\n",
    "    SeqIO.write(seqs, nontoxin_file, 'fasta')"
   ]
  },
  {
   "cell_type": "markdown",
   "id": "d0b6e700-051a-4f98-8aa3-0e8091f5e27f",
   "metadata": {},
   "source": [
    "## Toxin Work"
   ]
  },
  {
   "cell_type": "code",
   "execution_count": 38,
   "id": "0123124e-66a5-487d-bfbb-56cbe01d200e",
   "metadata": {},
   "outputs": [
    {
     "name": "stdout",
     "output_type": "stream",
     "text": [
      "Processing toxin-0.fasta...\n",
      "Processing toxin-1.fasta...\n",
      "Processing toxin-2.fasta...\n"
     ]
    }
   ],
   "source": [
    "toxin_fasta_files = [\n",
    "    'toxin-0.fasta',\n",
    "    'toxin-1.fasta',\n",
    "    'toxin-2.fasta',\n",
    "]\n",
    "\n",
    "for toxin_file in toxin_fasta_files:\n",
    "    print(f\"Processing {toxin_file}...\")\n",
    "    seqs = list(SeqIO.parse(toxin_file, 'fasta'))\n",
    "    for seq in seqs:\n",
    "        seq.description = ''\n",
    "        seq.name = ''\n",
    "        seq.id = 'tox-' + seqGen.get_new_seq_id()\n",
    "    SeqIO.write(seqs, toxin_file, 'fasta')"
   ]
  },
  {
   "cell_type": "markdown",
   "id": "a0dfe4bc-5dc0-4576-8de2-1456a5f01002",
   "metadata": {},
   "source": [
    "## Write the Set of Names"
   ]
  },
  {
   "cell_type": "code",
   "execution_count": 46,
   "id": "230def53-f662-4fbb-ab8b-02ada6680c65",
   "metadata": {},
   "outputs": [],
   "source": [
    "with open('usedSeqs.pickle', 'wb') as file:\n",
    "    pickle.dump(seqGen.used_seqs, file)"
   ]
  }
 ],
 "metadata": {
  "kernelspec": {
   "display_name": "Python 3 (ipykernel)",
   "language": "python",
   "name": "python3"
  },
  "language_info": {
   "codemirror_mode": {
    "name": "ipython",
    "version": 3
   },
   "file_extension": ".py",
   "mimetype": "text/x-python",
   "name": "python",
   "nbconvert_exporter": "python",
   "pygments_lexer": "ipython3",
   "version": "3.9.12"
  }
 },
 "nbformat": 4,
 "nbformat_minor": 5
}
