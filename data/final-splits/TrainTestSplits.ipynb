{
 "cells": [
  {
   "cell_type": "code",
   "execution_count": 64,
   "id": "3e07edc5-5db7-4dba-8e86-51184c8355f3",
   "metadata": {},
   "outputs": [],
   "source": [
    "import pandas as pd\n",
    "from Bio import SeqIO\n",
    "from pathlib import Path\n",
    "import numpy as np\n",
    "import matplotlib.pyplot as plt\n",
    "import random"
   ]
  },
  {
   "cell_type": "code",
   "execution_count": 27,
   "id": "9670186e-7b89-47ff-8792-2a1e0f326d23",
   "metadata": {},
   "outputs": [
    {
     "name": "stdout",
     "output_type": "stream",
     "text": [
      "410768\n"
     ]
    }
   ],
   "source": [
    "allseqs = list(SeqIO.parse('allseqs.fasta', 'fasta'))\n",
    "print(len(allseqs))"
   ]
  },
  {
   "cell_type": "markdown",
   "id": "05acde7e-def6-45cb-8395-dc57236ab111",
   "metadata": {},
   "source": [
    "**Note: we're filtering out sequences that are too big now.**"
   ]
  },
  {
   "cell_type": "code",
   "execution_count": 28,
   "id": "6e7e1e2a-b3f1-4a9e-a558-15040065cffb",
   "metadata": {},
   "outputs": [
    {
     "name": "stdout",
     "output_type": "stream",
     "text": [
      "379307\n"
     ]
    }
   ],
   "source": [
    "allseqs = [s for s in allseqs if len(s) <= 1000]\n",
    "allseqs_mapped = {s.id: s for s in allseqs}\n",
    "print(len(allseqs))"
   ]
  },
  {
   "cell_type": "code",
   "execution_count": 29,
   "id": "477aa7cd-0cbe-432f-84ff-82dd3334a0bc",
   "metadata": {},
   "outputs": [
    {
     "name": "stdout",
     "output_type": "stream",
     "text": [
      "Total Pos: 181080\n",
      "Total Neg: 198227\n"
     ]
    }
   ],
   "source": [
    "print(f\"Total Pos: {sum([1 for s in allseqs if s.id[:3] == 'tox'])}\")\n",
    "print(f\"Total Neg: {sum([1 for s in allseqs if s.id[:3] == 'non'])}\")"
   ]
  },
  {
   "cell_type": "markdown",
   "id": "25a53ed6-47c0-4302-a645-cecc6bd0ba15",
   "metadata": {},
   "source": [
    "There is now a slight imbalance: we have fewer positive samples than we have negative samples.\n",
    "We will address this through sampling reductions, meaning our max number of sequences is now 362,160. Otherwise, we proceed by creating an all sequence mapping."
   ]
  },
  {
   "cell_type": "code",
   "execution_count": 30,
   "id": "22c537a1-dc04-40b1-a512-3b772d4e0df8",
   "metadata": {},
   "outputs": [
    {
     "data": {
      "text/html": [
       "<div>\n",
       "<style scoped>\n",
       "    .dataframe tbody tr th:only-of-type {\n",
       "        vertical-align: middle;\n",
       "    }\n",
       "\n",
       "    .dataframe tbody tr th {\n",
       "        vertical-align: top;\n",
       "    }\n",
       "\n",
       "    .dataframe thead th {\n",
       "        text-align: right;\n",
       "    }\n",
       "</style>\n",
       "<table border=\"1\" class=\"dataframe\">\n",
       "  <thead>\n",
       "    <tr style=\"text-align: right;\">\n",
       "      <th></th>\n",
       "      <th>Cluster</th>\n",
       "      <th>SequenceId</th>\n",
       "    </tr>\n",
       "  </thead>\n",
       "  <tbody>\n",
       "    <tr>\n",
       "      <th>0</th>\n",
       "      <td>nontox-omWr3L</td>\n",
       "      <td>nontox-omWr3L</td>\n",
       "    </tr>\n",
       "    <tr>\n",
       "      <th>1</th>\n",
       "      <td>nontox-omWr3L</td>\n",
       "      <td>nontox-U42kPM</td>\n",
       "    </tr>\n",
       "    <tr>\n",
       "      <th>2</th>\n",
       "      <td>nontox-omWr3L</td>\n",
       "      <td>nontox-rzBfU4</td>\n",
       "    </tr>\n",
       "    <tr>\n",
       "      <th>3</th>\n",
       "      <td>nontox-omWr3L</td>\n",
       "      <td>nontox-nnHGIb</td>\n",
       "    </tr>\n",
       "    <tr>\n",
       "      <th>4</th>\n",
       "      <td>nontox-omWr3L</td>\n",
       "      <td>nontox-PmUwlh</td>\n",
       "    </tr>\n",
       "    <tr>\n",
       "      <th>...</th>\n",
       "      <td>...</td>\n",
       "      <td>...</td>\n",
       "    </tr>\n",
       "    <tr>\n",
       "      <th>410763</th>\n",
       "      <td>nontox-euVuBJ</td>\n",
       "      <td>nontox-ofFbKS</td>\n",
       "    </tr>\n",
       "    <tr>\n",
       "      <th>410764</th>\n",
       "      <td>nontox-euVuBJ</td>\n",
       "      <td>nontox-UML8dE</td>\n",
       "    </tr>\n",
       "    <tr>\n",
       "      <th>410765</th>\n",
       "      <td>nontox-k9rFgy</td>\n",
       "      <td>nontox-k9rFgy</td>\n",
       "    </tr>\n",
       "    <tr>\n",
       "      <th>410766</th>\n",
       "      <td>nontox-34o3qH</td>\n",
       "      <td>nontox-34o3qH</td>\n",
       "    </tr>\n",
       "    <tr>\n",
       "      <th>410767</th>\n",
       "      <td>nontox-bYmsaL</td>\n",
       "      <td>nontox-bYmsaL</td>\n",
       "    </tr>\n",
       "  </tbody>\n",
       "</table>\n",
       "<p>410768 rows × 2 columns</p>\n",
       "</div>"
      ],
      "text/plain": [
       "              Cluster     SequenceId\n",
       "0       nontox-omWr3L  nontox-omWr3L\n",
       "1       nontox-omWr3L  nontox-U42kPM\n",
       "2       nontox-omWr3L  nontox-rzBfU4\n",
       "3       nontox-omWr3L  nontox-nnHGIb\n",
       "4       nontox-omWr3L  nontox-PmUwlh\n",
       "...               ...            ...\n",
       "410763  nontox-euVuBJ  nontox-ofFbKS\n",
       "410764  nontox-euVuBJ  nontox-UML8dE\n",
       "410765  nontox-k9rFgy  nontox-k9rFgy\n",
       "410766  nontox-34o3qH  nontox-34o3qH\n",
       "410767  nontox-bYmsaL  nontox-bYmsaL\n",
       "\n",
       "[410768 rows x 2 columns]"
      ]
     },
     "execution_count": 30,
     "metadata": {},
     "output_type": "execute_result"
    }
   ],
   "source": [
    "seqMasterKey = pd.read_csv('ClustDBTSV.tsv', sep='\\t', header=None, names=['Cluster', 'SequenceId'])\n",
    "seqMasterKey"
   ]
  },
  {
   "cell_type": "code",
   "execution_count": 31,
   "id": "885e6df7-29e2-45de-8361-d3585d5cc7b2",
   "metadata": {},
   "outputs": [
    {
     "name": "stdout",
     "output_type": "stream",
     "text": [
      "80157\n"
     ]
    }
   ],
   "source": [
    "clustered_seqs = {}\n",
    "for index, row in seqMasterKey.iterrows():\n",
    "    curr_clust = row['Cluster']\n",
    "    if row['SequenceId'] not in allseqs_mapped:\n",
    "        continue\n",
    "    elif curr_clust in clustered_seqs:\n",
    "        clustered_seqs[curr_clust] += [allseqs_mapped[row['SequenceId']]]\n",
    "    else:\n",
    "        clustered_seqs[curr_clust] = [allseqs_mapped[row['SequenceId']]]\n",
    "print(len(clustered_seqs))"
   ]
  },
  {
   "cell_type": "code",
   "execution_count": 32,
   "id": "7c809ef5-770e-4866-acf9-4cd3c1084e49",
   "metadata": {},
   "outputs": [
    {
     "data": {
      "text/plain": [
       "88031"
      ]
     },
     "execution_count": 32,
     "metadata": {},
     "output_type": "execute_result"
    }
   ],
   "source": [
    "len(seqMasterKey['Cluster'].unique())"
   ]
  },
  {
   "cell_type": "markdown",
   "id": "428fdfec-7bfd-4a9b-846f-a2afdc6e92a2",
   "metadata": {},
   "source": [
    "**Note: by excluding sequences greater than 1000 AA in length, we also eliminate about 8000 clusters. Most of these clusters however were very small clusters, and therefore there hasn't been too much change to the sets yet.**"
   ]
  },
  {
   "cell_type": "code",
   "execution_count": 33,
   "id": "d66ac902-830f-4bbe-80ff-c0ff1d121e6f",
   "metadata": {},
   "outputs": [
    {
     "name": "stdout",
     "output_type": "stream",
     "text": [
      "4.73205085020647\n",
      "1.0\n"
     ]
    }
   ],
   "source": [
    "cluster_sizes = [len(clustered_seqs[x]) for x in clustered_seqs]\n",
    "avg_len = np.mean(cluster_sizes)\n",
    "median_len = np.median(cluster_sizes)\n",
    "print(avg_len)\n",
    "print(median_len)"
   ]
  },
  {
   "cell_type": "code",
   "execution_count": 34,
   "id": "316b69b6-480e-4a88-bb65-eb3daa0b608b",
   "metadata": {},
   "outputs": [
    {
     "name": "stdout",
     "output_type": "stream",
     "text": [
      "Total Clusters: 80157\n"
     ]
    }
   ],
   "source": [
    "print(f'Total Clusters: {len(clustered_seqs)}')"
   ]
  },
  {
   "cell_type": "code",
   "execution_count": 35,
   "id": "c784ef2c-f5ed-43ac-afb4-687a5bb38c00",
   "metadata": {},
   "outputs": [
    {
     "data": {
      "image/png": "[encoded data removed]",
      "text/plain": [
       "<Figure size 432x288 with 1 Axes>"
      ]
     },
     "metadata": {
      "needs_background": "light"
     },
     "output_type": "display_data"
    }
   ],
   "source": [
    "plt.figure()\n",
    "plt.hist(cluster_sizes, bins=100)\n",
    "plt.show()"
   ]
  },
  {
   "cell_type": "code",
   "execution_count": 36,
   "id": "9c9af50f-4d16-4cc0-bcc7-d309b6ae79ff",
   "metadata": {},
   "outputs": [
    {
     "data": {
      "image/png": "[encoded data removed]",
      "text/plain": [
       "<Figure size 432x288 with 1 Axes>"
      ]
     },
     "metadata": {
      "needs_background": "light"
     },
     "output_type": "display_data"
    }
   ],
   "source": [
    "plt.figure()\n",
    "plt.hist(cluster_sizes, bins=100, range=(0, 100))\n",
    "plt.show()"
   ]
  },
  {
   "cell_type": "code",
   "execution_count": 37,
   "id": "8f2da68c-58ee-4e19-9191-2c6368d1d37b",
   "metadata": {},
   "outputs": [],
   "source": [
    "clustersizes_np = np.array(cluster_sizes)"
   ]
  },
  {
   "cell_type": "code",
   "execution_count": 38,
   "id": "6e57c4f3-ff07-4021-b530-ffda585e5ec2",
   "metadata": {},
   "outputs": [
    {
     "data": {
      "text/plain": [
       "0.052434597103185"
      ]
     },
     "execution_count": 38,
     "metadata": {},
     "output_type": "execute_result"
    }
   ],
   "source": [
    "sum((clustersizes_np > 10) * 1.0)/len(clustersizes_np)"
   ]
  },
  {
   "cell_type": "markdown",
   "id": "aeed9f7d-e2d3-4e7c-b90a-5a754fa08d1e",
   "metadata": {},
   "source": [
    "# Train Test Split Creation Algorithm\n",
    "\n",
    "So, here's our goal: we want to make sure that clusters are segregated to either the train set or the test set. We also want to make sure that the proportion of toxin and nontoxins is the same too."
   ]
  },
  {
   "cell_type": "code",
   "execution_count": 39,
   "id": "71e0aca1-c59a-437a-94e2-13200b7552f4",
   "metadata": {},
   "outputs": [],
   "source": [
    "clustered_seqs_pos = {\n",
    "    k: sum([1 for s in v if s.id[:3] == 'tox']) for k, v in clustered_seqs.items()\n",
    "}\n",
    "clustered_seqs_neg = {\n",
    "    k: sum([1 for s in v if s.id[:3] == 'non']) for k, v in clustered_seqs.items()\n",
    "}\n",
    "clustered_seqs_total = {\n",
    "    k: len(v) for k, v in clustered_seqs.items()\n",
    "}"
   ]
  },
  {
   "cell_type": "code",
   "execution_count": 40,
   "id": "faba145d-7d34-4dea-9c87-1da4f8dac17a",
   "metadata": {},
   "outputs": [
    {
     "name": "stdout",
     "output_type": "stream",
     "text": [
      "['tox-bSbnW4', 'tox-gHiywl', 'tox-Oew6tZ', 'tox-rQqgdE', 'tox-kWWac6', 'tox-cDRLkx', 'tox-TR42cT', 'tox-JZb8Qu', 'tox-0wTQ70', 'tox-1p622z']\n"
     ]
    }
   ],
   "source": [
    "clustered_seqs_keys = list(clustered_seqs_total.keys())\n",
    "clustered_seqs_counts = np.array(list(clustered_seqs_total.values()))\n",
    "clustered_sort_indx = np.argsort(clustered_seqs_counts)[::-1]\n",
    "clustered_seqs_keys_sorted = [clustered_seqs_keys[i] for i in clustered_sort_indx]\n",
    "print(clustered_seqs_keys_sorted[:10])"
   ]
  },
  {
   "cell_type": "markdown",
   "id": "8ba81b1d-1182-43ef-ba8e-1360ab06f0bb",
   "metadata": {},
   "source": [
    "We also want to see how many \"mismatches\" there are. That is, we want to see the cases whether there are clusters that include both toxins and nontoxins together."
   ]
  },
  {
   "cell_type": "code",
   "execution_count": 42,
   "id": "39c61293-c8df-4ce3-83f2-d97804231ae0",
   "metadata": {},
   "outputs": [
    {
     "name": "stdout",
     "output_type": "stream",
     "text": [
      "Total clusters:  80157\n",
      "Total clusters with mismatches:  1335\n",
      "Total sequences in cluster w/ mismatches:  29374\n",
      "Total pos sequences in cluster w/ mismatches:  21940\n",
      "Total neg sequences in cluster w/ mismatches:  7434\n"
     ]
    }
   ],
   "source": [
    "x = 0\n",
    "mismatch_total = 0\n",
    "mismatch_pos = 0\n",
    "mismatch_neg = 0\n",
    "for k in clustered_seqs_total:\n",
    "    if clustered_seqs_pos[k] < clustered_seqs_total[k] and clustered_seqs_neg[k] < clustered_seqs_total[k]:\n",
    "        x += 1\n",
    "        mismatch_total += clustered_seqs_total[k]\n",
    "        mismatch_pos += clustered_seqs_pos[k]\n",
    "        mismatch_neg += clustered_seqs_neg[k]\n",
    "print('Total clusters: ', len(clustered_seqs_total))\n",
    "print('Total clusters with mismatches: ', x)\n",
    "print('Total sequences in cluster w/ mismatches: ', mismatch_total)\n",
    "print('Total pos sequences in cluster w/ mismatches: ', mismatch_pos)\n",
    "print('Total neg sequences in cluster w/ mismatches: ', mismatch_neg)"
   ]
  },
  {
   "cell_type": "markdown",
   "id": "f70e4585-18ad-42d1-9316-54e38d6d7a96",
   "metadata": {},
   "source": [
    "# New split method.\n",
    "#### So this is the updated attempt to get a better true split.\n",
    "\n",
    "1. We begin by assigning all the all negative and all positive clusters, with the only goal of maintaining a 90%/10% train/test split. \n",
    "1. Next, we will look at the mismatch clusters.\n",
    "    1. We will favor solutions that maintain a 50/50 split within the train set and within the test set.\n",
    "    1. We will then downsample the train and test sets to be exactly 50/50 splits.\n",
    "    1. We will then downsample the train and test sets to maintain the exact 90% to 10% ratio.\n",
    "1. We will finally verify that we have both 90% train and 10% test, and 50% positive and 50% negative results inside each of these sets, writing out the results."
   ]
  },
  {
   "cell_type": "markdown",
   "id": "8ae100bb-6cc4-4d57-8b37-df1f27a518eb",
   "metadata": {},
   "source": [
    "**First, negatives and positives split up.**"
   ]
  },
  {
   "cell_type": "code",
   "execution_count": 68,
   "id": "01cbf819-0659-4101-91c5-6c40968fefe7",
   "metadata": {},
   "outputs": [
    {
     "name": "stdout",
     "output_type": "stream",
     "text": [
      "Total All Pos Clusters: 19639\n",
      "Total Seqs All Pos Clusters: 159140\n",
      "Total All Neg Clusters: 59183\n",
      "Total Seqs All Neg Clusters: 190793\n"
     ]
    }
   ],
   "source": [
    "train_set = []\n",
    "train_set_pos = 0\n",
    "train_set_neg = 0\n",
    "\n",
    "test_set = []\n",
    "test_set_pos = 0\n",
    "test_set_neg = 0\n",
    "\n",
    "tr_ts_ratio = 0.9\n",
    "pos_neg_ratio = 0.5\n",
    "\n",
    "used_cluster_keys = set()\n",
    "\n",
    "all_pos_cluster_keys = {k: clustered_seqs_total[k] for k in clustered_seqs_keys_sorted if clustered_seqs_total[k] == clustered_seqs_pos[k]}\n",
    "print(f\"Total All Pos Clusters: {len(all_pos_cluster_keys)}\")\n",
    "print(f\"Total Seqs All Pos Clusters: {sum(all_pos_cluster_keys.values())}\")\n",
    "\n",
    "all_neg_cluster_keys = {k: clustered_seqs_total[k] for k in clustered_seqs_keys_sorted if clustered_seqs_total[k] == clustered_seqs_neg[k]}\n",
    "print(f\"Total All Neg Clusters: {len(all_neg_cluster_keys)}\")\n",
    "print(f\"Total Seqs All Neg Clusters: {sum(all_neg_cluster_keys.values())}\")"
   ]
  },
  {
   "cell_type": "code",
   "execution_count": 69,
   "id": "975ec24e-32ce-487e-a3c2-edd0181037f9",
   "metadata": {},
   "outputs": [
    {
     "name": "stdout",
     "output_type": "stream",
     "text": [
      "Train Set Size: 314939\n",
      "Train Positives: 143226\n",
      "Train Negatives: 171713\n",
      "\n",
      "\n",
      "Test Set Size: 34994\n",
      "Test Positives: 15914\n",
      "Test Negatives: 19080\n",
      "\n",
      "\n",
      "Train / Test Proportion: 0.8999979996170695\n",
      "Train Percent Pos: 0.45477378158945064\n",
      "Test Percent Pos: 0.45476367377264676\n"
     ]
    }
   ],
   "source": [
    "# Pos Cluster Keys\n",
    "for k, v in all_pos_cluster_keys.items():\n",
    "    curr_tr_ts_ratio = len(train_set)/(len(train_set) + len(test_set)) if len(train_set) != 0 else 0\n",
    "    \n",
    "    if curr_tr_ts_ratio < tr_ts_ratio:\n",
    "        train_set += clustered_seqs[k]\n",
    "        train_set_pos += v\n",
    "    else:\n",
    "        test_set += clustered_seqs[k]\n",
    "        test_set_pos += v\n",
    "    \n",
    "    used_cluster_keys.add(k)\n",
    "\n",
    "    \n",
    "# Neg Cluster Keys\n",
    "for k, v in all_neg_cluster_keys.items():\n",
    "    curr_tr_ts_ratio = len(train_set)/(len(train_set) + len(test_set))\n",
    "    \n",
    "    if curr_tr_ts_ratio < tr_ts_ratio:\n",
    "        train_set += clustered_seqs[k]\n",
    "        train_set_neg += v\n",
    "    else:\n",
    "        test_set += clustered_seqs[k]\n",
    "        test_set_neg += v\n",
    "    \n",
    "    used_cluster_keys.add(k)\n",
    "\n",
    "print(f\"Train Set Size: {len(train_set)}\\nTrain Positives: {train_set_pos}\\nTrain Negatives: {train_set_neg}\\n\\n\")\n",
    "print(f\"Test Set Size: {len(test_set)}\\nTest Positives: {test_set_pos}\\nTest Negatives: {test_set_neg}\\n\\n\")\n",
    "print(f\"Train / Test Proportion: {len(train_set)/(len(train_set) + len(test_set))}\")\n",
    "print(f\"Train Percent Pos: {train_set_pos / len(train_set)}\")\n",
    "print(f\"Test Percent Pos: {test_set_pos / len(test_set)}\")"
   ]
  },
  {
   "cell_type": "markdown",
   "id": "555eab38-4466-4353-ac72-3213367a16d4",
   "metadata": {},
   "source": [
    "**Now, only the mismatched sets.**"
   ]
  },
  {
   "cell_type": "code",
   "execution_count": 70,
   "id": "d4d66c02-7b10-4690-823e-d66227e7c85e",
   "metadata": {},
   "outputs": [
    {
     "name": "stdout",
     "output_type": "stream",
     "text": [
      "Total Mismatch Keys: 1335\n",
      "Total Pos Mismatch Seqs: 21940\n",
      "Total Neg Mismatch Seqs: 7434\n"
     ]
    }
   ],
   "source": [
    "all_mismatch_keys = {k: (clustered_seqs_pos[k], clustered_seqs_neg[k]) for k in clustered_seqs_keys_sorted if k not in used_cluster_keys}\n",
    "print(f\"Total Mismatch Keys: {len(all_mismatch_keys)}\")\n",
    "print(f\"Total Pos Mismatch Seqs: {sum([x[0] for x in all_mismatch_keys.values()])}\")\n",
    "print(f\"Total Neg Mismatch Seqs: {sum([x[1] for x in all_mismatch_keys.values()])}\")"
   ]
  },
  {
   "cell_type": "code",
   "execution_count": 71,
   "id": "9859c80d-36fb-44a3-bead-7170282137e2",
   "metadata": {},
   "outputs": [
    {
     "name": "stdout",
     "output_type": "stream",
     "text": [
      "Train Set Size: 334747\n",
      "Train Positives: 157258\n",
      "Train Negatives: 177489\n",
      "\n",
      "\n",
      "Test Set Size: 44560\n",
      "Test Positives: 23822\n",
      "Test Negatives: 20738\n",
      "\n",
      "\n",
      "Train / Test Proportion: 0.8825226004265674\n",
      "Train Percent Pos: 0.46978165599691707\n",
      "Test Percent Pos: 0.534605026929982\n"
     ]
    }
   ],
   "source": [
    "for k, v in all_mismatch_keys.items():\n",
    "    new_tr_rt = (train_set_pos + v[0]) / (len(train_set) + sum(v))\n",
    "    new_ts_rt = (test_set_pos +v[0]) / (len(test_set) + sum(v))\n",
    "        \n",
    "    if abs(new_tr_rt - pos_neg_ratio) < abs(new_ts_rt - pos_neg_ratio):\n",
    "        train_set += clustered_seqs[k]\n",
    "        train_set_pos += v[0]\n",
    "        train_set_neg += v[1]\n",
    "    else:\n",
    "        test_set += clustered_seqs[k]\n",
    "        test_set_pos += v[0]\n",
    "        test_set_neg += v[1]\n",
    "\n",
    "print(f\"Train Set Size: {len(train_set)}\\nTrain Positives: {train_set_pos}\\nTrain Negatives: {train_set_neg}\\n\\n\")\n",
    "print(f\"Test Set Size: {len(test_set)}\\nTest Positives: {test_set_pos}\\nTest Negatives: {test_set_neg}\\n\\n\")\n",
    "print(f\"Train / Test Proportion: {len(train_set)/(len(train_set) + len(test_set))}\")\n",
    "print(f\"Train Percent Pos: {train_set_pos / len(train_set)}\")\n",
    "print(f\"Test Percent Pos: {test_set_pos / len(test_set)}\")"
   ]
  },
  {
   "cell_type": "markdown",
   "id": "780d0a38-6981-4cc1-9e70-faae86b7bae6",
   "metadata": {},
   "source": [
    "**Downsample so both train and test separately have 50/50 split.**"
   ]
  },
  {
   "cell_type": "code",
   "execution_count": 73,
   "id": "5fb75ee9-8cd9-4b88-a6c5-11bb5d17f7ff",
   "metadata": {},
   "outputs": [
    {
     "name": "stdout",
     "output_type": "stream",
     "text": [
      "Train: 314516, ratio: 0.5\n",
      "Test: 41476, ratio: 0.5\n"
     ]
    }
   ],
   "source": [
    "train_set_neg = [x for x in train_set if x.id[:3] == 'non']\n",
    "train_set_pos = [x for x in train_set if x.id[:3] == 'tox']\n",
    "max_seq_num = min((len(train_set_pos), len(train_set_neg)))\n",
    "balanced_train_set = random.sample(train_set_pos, max_seq_num) + random.sample(train_set_neg, max_seq_num)\n",
    "\n",
    "test_set_neg = [x for x in test_set if x.id[:3] == 'non']\n",
    "test_set_pos = [x for x in test_set if x.id[:3] == 'tox']\n",
    "max_seq_num = min((len(test_set_pos), len(test_set_neg)))\n",
    "balanced_test_set = random.sample(test_set_pos, max_seq_num) + random.sample(test_set_neg, max_seq_num)\n",
    "\n",
    "print(f\"Train: {len(balanced_train_set)}, ratio: {sum([1 for x in balanced_train_set if x.id[:3] == 'non'])/len(balanced_train_set)}\")\n",
    "print(f\"Test: {len(balanced_test_set)}, ratio: {sum([1 for x in balanced_test_set if x.id[:3] == 'non'])/len(balanced_test_set)}\")"
   ]
  },
  {
   "cell_type": "markdown",
   "id": "473fb538-bb98-46b1-a5a2-02bd15625402",
   "metadata": {},
   "source": [
    "**Now downsample so train and test have 90/10 split.**"
   ]
  },
  {
   "cell_type": "code",
   "execution_count": 76,
   "id": "8b8e5098-6057-4ffa-91e3-f4a5d9b92ab4",
   "metadata": {},
   "outputs": [
    {
     "name": "stdout",
     "output_type": "stream",
     "text": [
      "Current train / test ratio: 0.8834917638598621\n",
      "Given test set size 41476, ideal train size would be 373284\n",
      "Given train set size 314516, ideal test size would be 34946\n"
     ]
    }
   ],
   "source": [
    "tr_ideal = len(balanced_test_set) * 9 # for 90/10 split\n",
    "ts_ideal = len(balanced_train_set) // 9\n",
    "print(f\"Current train / test ratio: {len(balanced_train_set)/(len(balanced_test_set + balanced_train_set))}\")\n",
    "print(f\"Given test set size {len(balanced_test_set)}, ideal train size would be {tr_ideal}\")\n",
    "print(f\"Given train set size {len(balanced_train_set)}, ideal test size would be {ts_ideal}\")"
   ]
  },
  {
   "cell_type": "markdown",
   "id": "621cab0a-e2e7-4b84-9cb0-27afb3ff8c04",
   "metadata": {},
   "source": [
    "With these above numbers, we will downsample the test set size. We will get the difference between current and ideal, and get half of those from positive samples, and half from negative samples. This new resample should give us our final sets."
   ]
  },
  {
   "cell_type": "code",
   "execution_count": 84,
   "id": "0c65f323-8254-4270-aa8f-f6f600ca39ca",
   "metadata": {},
   "outputs": [
    {
     "name": "stdout",
     "output_type": "stream",
     "text": [
      "Sample size  17473\n",
      "Final train / test ratio: 0.900000572308291\n"
     ]
    }
   ],
   "source": [
    "balanced_test_neg = [x for x in balanced_test_set if x.id[:3] == 'non']\n",
    "balanced_test_pos = [x for x in balanced_test_set if x.id[:3] == 'tox']\n",
    "\n",
    "sample_size =  ts_ideal // 2\n",
    "print('Sample size ', sample_size)\n",
    "\n",
    "final_test_set = random.sample(balanced_test_neg, sample_size) + random.sample(balanced_test_pos, sample_size)\n",
    "final_train_set = balanced_train_set\n",
    "\n",
    "print(f\"Final train / test ratio: {len(final_train_set)/(len(final_test_set + final_train_set))}\")"
   ]
  },
  {
   "cell_type": "markdown",
   "id": "b565dd41-a9a8-4a07-953c-cebad6badde3",
   "metadata": {},
   "source": [
    "**And now we write it all out.**"
   ]
  },
  {
   "cell_type": "code",
   "execution_count": 85,
   "id": "29af3b2e-ba3b-41d9-8617-5fca10097e5f",
   "metadata": {},
   "outputs": [],
   "source": [
    "final_train_set_toxins = [x for x in final_train_set if x.id[:3] == 'tox']\n",
    "final_train_set_nontoxins = [x for x in final_train_set if x.id[:3] == 'non']\n",
    "final_test_set_toxins = [x for x in final_test_set if x.id[:3] == 'tox']\n",
    "final_test_set_nontoxins = [x for x in final_test_set if x.id[:3] == 'non']"
   ]
  },
  {
   "cell_type": "code",
   "execution_count": 86,
   "id": "0e2f4bfd-ba83-45c5-97c3-85f6a968138d",
   "metadata": {},
   "outputs": [
    {
     "data": {
      "text/plain": [
       "17473"
      ]
     },
     "execution_count": 86,
     "metadata": {},
     "output_type": "execute_result"
    }
   ],
   "source": [
    "SeqIO.write(final_train_set_toxins, 'train-toxins.fasta', 'fasta')\n",
    "SeqIO.write(final_train_set_nontoxins, 'train-nontoxins.fasta', 'fasta')\n",
    "SeqIO.write(final_test_set_toxins, 'test-toxins.fasta', 'fasta')\n",
    "SeqIO.write(final_test_set_nontoxins, 'test-nontoxins.fasta', 'fasta')"
   ]
  },
  {
   "cell_type": "markdown",
   "id": "da09e9d6-675b-4f32-aa92-7638ac590485",
   "metadata": {},
   "source": [
    "# Old split method.\n",
    "#### NOTE: this method of splitting has a bug: notice that seq_neg_cnt is initialized to clustered_seqs_pos as well, which makes this algorithm falsely report that the train and test sets are perfectly balanced. However, even then, this method by pure luck seems to generate a very close to optimal answer when just checking the assignments. Going to leave it be."
   ]
  },
  {
   "cell_type": "code",
   "execution_count": 37,
   "id": "95c5a2d3-9a25-48ce-8200-67d8284e2271",
   "metadata": {},
   "outputs": [
    {
     "name": "stdout",
     "output_type": "stream",
     "text": [
      "Train Set Size: 369691\n",
      "Train Positives: 184336\n",
      "Train Negatives: 184336\n",
      "\n",
      "\n",
      "Test Set Size: 41077\n",
      "Test Positives: 21048\n",
      "Test Negatives: 21048\n",
      "\n",
      "\n",
      "Train / Test Proportion: 0.8999995131071554\n",
      "Train Percent Pos: 0.5\n",
      "Test Percent Pos: 0.5\n"
     ]
    }
   ],
   "source": [
    "train_set = []\n",
    "train_set_pos = 0\n",
    "train_set_neg = 0\n",
    "\n",
    "test_set = []\n",
    "test_set_pos = 0\n",
    "test_set_neg = 0\n",
    "\n",
    "target_train_test_prcnt = 0.9\n",
    "target_train_pos = 0.5\n",
    "target_test_pos = 0.5\n",
    "\n",
    "for k in clustered_seqs_keys_sorted:\n",
    "    seq_set = clustered_seqs[k]\n",
    "    seq_total_cnt = clustered_seqs_total[k]\n",
    "    seq_pos_cnt = clustered_seqs_pos[k]\n",
    "    seq_neg_cnt = clustered_seqs_pos[k] # should be clustered_seqs_neg but surprisingly this works pretty well without it\n",
    "        \n",
    "    train_prcnt_w_seq = (len(train_set) + seq_total_cnt) / (len(train_set) + seq_total_cnt + len(test_set))\n",
    "    train_prcnt_pos_w_seq = (train_set_pos + seq_pos_cnt) / (train_set_pos + seq_pos_cnt + train_set_neg + seq_neg_cnt)\n",
    "    if_train_loss = (train_prcnt_w_seq - target_train_test_prcnt) ** 2 + (train_prcnt_pos_w_seq - target_train_pos) ** 2\n",
    "    \n",
    "    test_prcnt_w_seq = (len(test_set) + seq_total_cnt) / (len(test_set) + seq_total_cnt + len(train_set))\n",
    "    test_prcnt_pos_w_seq = (test_set_pos + seq_pos_cnt) / (test_set_pos + seq_pos_cnt + test_set_neg + seq_neg_cnt)\n",
    "    if_test_loss = (test_prcnt_w_seq - (1 - target_train_test_prcnt)) ** 2 + (test_prcnt_pos_w_seq - target_test_pos) ** 2\n",
    "    \n",
    "    if if_test_loss < if_train_loss:\n",
    "        test_set += seq_set\n",
    "        test_set_pos += seq_pos_cnt\n",
    "        test_set_neg += seq_neg_cnt\n",
    "    else:\n",
    "        train_set += seq_set\n",
    "        train_set_pos += seq_pos_cnt\n",
    "        train_set_neg += seq_neg_cnt\n",
    "\n",
    "print(f\"Train Set Size: {len(train_set)}\\nTrain Positives: {train_set_pos}\\nTrain Negatives: {train_set_neg}\\n\\n\")\n",
    "print(f\"Test Set Size: {len(test_set)}\\nTest Positives: {test_set_pos}\\nTest Negatives: {test_set_neg}\\n\\n\")\n",
    "print(f\"Train / Test Proportion: {len(train_set)/(len(train_set) + len(test_set))}\")\n",
    "print(f\"Train Percent Pos: {train_set_pos / (train_set_pos + train_set_neg)}\")\n",
    "print(f\"Test Percent Pos: {test_set_pos / (test_set_pos + test_set_neg)}\")"
   ]
  },
  {
   "cell_type": "code",
   "execution_count": 38,
   "id": "f0585f44-285b-40e6-9e37-20d9685602c9",
   "metadata": {},
   "outputs": [],
   "source": [
    "train_set_toxins = [x for x in train_set if x.id[:3] == 'tox']\n",
    "train_set_nontoxins = [x for x in train_set if x.id[:3] == 'non']\n",
    "test_set_toxins = [x for x in test_set if x.id[:3] == 'tox']\n",
    "test_set_nontoxins = [x for x in test_set if x.id[:3] == 'non']"
   ]
  },
  {
   "cell_type": "code",
   "execution_count": 39,
   "id": "0430a6ee-6c4d-497b-851c-43230c795bc5",
   "metadata": {},
   "outputs": [
    {
     "name": "stdout",
     "output_type": "stream",
     "text": [
      "184336\n",
      "185355\n",
      "21048\n",
      "20029\n"
     ]
    }
   ],
   "source": [
    "print(len(train_set_toxins))\n",
    "print(len(train_set_nontoxins))\n",
    "print(len(test_set_toxins))\n",
    "print(len(test_set_nontoxins))"
   ]
  },
  {
   "cell_type": "code",
   "execution_count": 73,
   "id": "6e8501b4-e3b3-4143-ad43-208e0cc9df4a",
   "metadata": {},
   "outputs": [
    {
     "data": {
      "text/plain": [
       "20029"
      ]
     },
     "execution_count": 73,
     "metadata": {},
     "output_type": "execute_result"
    }
   ],
   "source": [
    "SeqIO.write(train_set_toxins, 'train-toxins.fasta', 'fasta')\n",
    "SeqIO.write(train_set_nontoxins, 'train-nontoxins.fasta', 'fasta')\n",
    "SeqIO.write(test_set_toxins, 'test-toxins.fasta', 'fasta')\n",
    "SeqIO.write(test_set_nontoxins, 'test-nontoxins.fasta', 'fasta')"
   ]
  },
  {
   "cell_type": "code",
   "execution_count": null,
   "id": "958c51d0-8dce-4a18-b17f-b8fc46d1e4fa",
   "metadata": {},
   "outputs": [],
   "source": []
  }
 ],
 "metadata": {
  "kernelspec": {
   "display_name": "Python 3 (ipykernel)",
   "language": "python",
   "name": "python3"
  },
  "language_info": {
   "codemirror_mode": {
    "name": "ipython",
    "version": 3
   },
   "file_extension": ".py",
   "mimetype": "text/x-python",
   "name": "python",
   "nbconvert_exporter": "python",
   "pygments_lexer": "ipython3",
   "version": "3.9.12"
  }
 },
 "nbformat": 4,
 "nbformat_minor": 5
}
