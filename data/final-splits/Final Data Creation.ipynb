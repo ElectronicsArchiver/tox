{
 "cells": [
  {
   "cell_type": "code",
   "execution_count": 1,
   "metadata": {},
   "outputs": [],
   "source": [
    "from Bio import SeqIO\n",
    "from Bio.Seq import Seq\n",
    "from Bio.SeqRecord import SeqRecord"
   ]
  },
  {
   "cell_type": "code",
   "execution_count": 2,
   "metadata": {},
   "outputs": [],
   "source": [
    "from matplotlib import pyplot as plt"
   ]
  },
  {
   "cell_type": "code",
   "execution_count": 3,
   "metadata": {},
   "outputs": [],
   "source": [
    "import pandas as pd"
   ]
  },
  {
   "cell_type": "code",
   "execution_count": 6,
   "metadata": {},
   "outputs": [],
   "source": [
    "# create one csv file for train\n",
    "train_seqs = []\n",
    "train_lens = []\n",
    "\n",
    "seqs = SeqIO.parse(open('./train-nontoxins.fasta'), 'fasta')\n",
    "for fasta in seqs:\n",
    "    seq = Seq(str(fasta.seq).upper())\n",
    "    train_lens.append(len(fasta.seq))\n",
    "    train_seqs.append(SeqRecord(seq, id=fasta.id, description=fasta.description))\n",
    "\n",
    "seqs = SeqIO.parse(open('./train-toxins.fasta'), 'fasta')\n",
    "for fasta in seqs:\n",
    "    seq = Seq(str(fasta.seq).upper())\n",
    "    train_lens.append(len(fasta.seq))\n",
    "    train_seqs.append(SeqRecord(seq, id=fasta.id, description=fasta.description))\n",
    "\n",
    "# with open(\"train.fasta\", \"w\") as output_handle:\n",
    "#     SeqIO.write(train_seqs, output_handle, \"fasta\")\n",
    "# with open(\"train1002.fasta\", \"w\") as output_handle:\n",
    "#     SeqIO.write(train_seqs1002, output_handle, \"fasta\")\n",
    "\n",
    "train_examples = []\n",
    "for fasta in train_seqs:\n",
    "    molId = fasta.id\n",
    "    seq = str(fasta.seq)\n",
    "    label = 0 if fasta.description.startswith('nontox') else 1\n",
    "    train_examples.append([molId, seq, label])\n",
    "\n",
    "train_set = pd.DataFrame(train_examples, columns=['id', 'sequence', 'label'])"
   ]
  },
  {
   "cell_type": "code",
   "execution_count": 7,
   "metadata": {},
   "outputs": [],
   "source": [
    "train_set.to_csv('../../model/ToxIBTL/newData/train.csv')"
   ]
  },
  {
   "cell_type": "code",
   "execution_count": 8,
   "metadata": {},
   "outputs": [],
   "source": [
    "# create one csv file for test\n",
    "test_seqs = []\n",
    "test_lens = []\n",
    "\n",
    "seqs = SeqIO.parse(open('./test-nontoxins.fasta'), 'fasta')\n",
    "for fasta in seqs:\n",
    "    seq = Seq(str(fasta.seq).upper())\n",
    "    test_lens.append(len(fasta.seq))\n",
    "    test_seqs.append(SeqRecord(seq, id=fasta.id, description=fasta.description))\n",
    "\n",
    "seqs = SeqIO.parse(open('./test-toxins.fasta'), 'fasta')\n",
    "for fasta in seqs:\n",
    "    seq = Seq(str(fasta.seq).upper())\n",
    "    test_lens.append(len(fasta.seq))\n",
    "    test_seqs.append(SeqRecord(seq, id=fasta.id, description=fasta.description))\n",
    "\n",
    "# with open(\"test.fasta\", \"w\") as output_handle:\n",
    "#     SeqIO.write(test_seqs, output_handle, \"fasta\")\n",
    "# with open(\"test1002.fasta\", \"w\") as output_handle:\n",
    "#     SeqIO.write(test_seqs1002, output_handle, \"fasta\")\n",
    "\n",
    "test_examples = []\n",
    "for fasta in test_seqs:\n",
    "    label = 0 if fasta.description.startswith('nontox') else 1\n",
    "    molId = fasta.id\n",
    "    seq = str(fasta.seq)\n",
    "    test_examples.append([molId, seq, label])\n",
    "\n",
    "test_set = pd.DataFrame(test_examples, columns=['id', 'sequence', 'label'])"
   ]
  },
  {
   "cell_type": "code",
   "execution_count": 9,
   "metadata": {},
   "outputs": [],
   "source": [
    "test_set.to_csv('../../model/ToxIBTL/newData/test.csv')"
   ]
  },
  {
   "cell_type": "markdown",
   "metadata": {},
   "source": [
    "## Analyze data"
   ]
  },
  {
   "cell_type": "code",
   "execution_count": 10,
   "metadata": {
    "scrolled": true
   },
   "outputs": [
    {
     "data": {
      "image/png": "[encoded data removed]",
      "text/plain": [
       "<Figure size 432x288 with 1 Axes>"
      ]
     },
     "metadata": {
      "needs_background": "light"
     },
     "output_type": "display_data"
    }
   ],
   "source": [
    "plt.hist(train_lens)\n",
    "plt.show()"
   ]
  },
  {
   "cell_type": "code",
   "execution_count": 11,
   "metadata": {},
   "outputs": [
    {
     "data": {
      "image/png": "[encoded data removed]",
      "text/plain": [
       "<Figure size 432x288 with 1 Axes>"
      ]
     },
     "metadata": {
      "needs_background": "light"
     },
     "output_type": "display_data"
    }
   ],
   "source": [
    "plt.hist(test_lens)\n",
    "plt.show()"
   ]
  },
  {
   "cell_type": "code",
   "execution_count": 35,
   "metadata": {},
   "outputs": [],
   "source": [
    "seqs = SeqIO.parse(open('../../model/ToxIBTL/originalData/protein_train.fa'), 'fasta')\n",
    "lens = []\n",
    "for fasta in seqs:\n",
    "    lens.append(len(fasta.seq))"
   ]
  },
  {
   "cell_type": "code",
   "execution_count": 39,
   "metadata": {},
   "outputs": [
    {
     "data": {
      "image/png": "[encoded data removed]",
      "text/plain": [
       "<Figure size 432x288 with 1 Axes>"
      ]
     },
     "metadata": {
      "needs_background": "light"
     },
     "output_type": "display_data"
    }
   ],
   "source": [
    "plt.hist(lens)\n",
    "plt.show()"
   ]
  },
  {
   "cell_type": "code",
   "execution_count": null,
   "metadata": {},
   "outputs": [],
   "source": []
  }
 ],
 "metadata": {
  "kernelspec": {
   "display_name": "tox",
   "language": "python",
   "name": "tox"
  },
  "language_info": {
   "codemirror_mode": {
    "name": "ipython",
    "version": 3
   },
   "file_extension": ".py",
   "mimetype": "text/x-python",
   "name": "python",
   "nbconvert_exporter": "python",
   "pygments_lexer": "ipython3",
   "version": "3.9.12"
  }
 },
 "nbformat": 4,
 "nbformat_minor": 4
}
