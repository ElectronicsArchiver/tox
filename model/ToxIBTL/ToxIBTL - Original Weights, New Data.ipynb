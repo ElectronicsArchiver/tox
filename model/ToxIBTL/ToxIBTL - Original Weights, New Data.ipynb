{
 "cells": [
  {
   "cell_type": "code",
   "execution_count": 108,
   "metadata": {},
   "outputs": [],
   "source": [
    "import numpy as np\n",
    "import pandas as pd\n",
    "import torch\n",
    "import torch.nn as nn\n",
    "import torch.nn.functional as f\n",
    "import torch.optim as opt\n",
    "from torch.utils.data import DataLoader,TensorDataset\n",
    "from torch.nn.utils.rnn import pad_packed_sequence,pack_padded_sequence\n",
    "from torch.nn import TransformerEncoder, TransformerEncoderLayer\n",
    "from sklearn import metrics\n",
    "from sklearn.model_selection import train_test_split\n",
    "import scipy.io as sio\n",
    "device = torch.device(\"cuda:0\" if torch.cuda.is_available() else \"cpu\")"
   ]
  },
  {
   "cell_type": "code",
   "execution_count": 109,
   "metadata": {},
   "outputs": [],
   "source": [
    "blosum62 = {\n",
    "        'A': [4, -1, -2, -2, 0,  -1, -1, 0, -2,  -1, -1, -1, -1, -2, -1, 1,  0,  -3, -2, 0],  # A\n",
    "        'R': [-1, 5,  0, -2, -3, 1,  0,  -2, 0,  -3, -2, 2,  -1, -3, -2, -1, -1, -3, -2, -3], # R\n",
    "        'N': [-2, 0,  6,  1,  -3, 0,  0,  0,  1,  -3, -3, 0,  -2, -3, -2, 1,  0,  -4, -2, -3], # N\n",
    "        'D': [-2, -2, 1,  6,  -3, 0,  2,  -1, -1, -3, -4, -1, -3, -3, -1, 0,  -1, -4, -3, -3], # D\n",
    "        'C': [0,  -3, -3, -3, 9,  -3, -4, -3, -3, -1, -1, -3, -1, -2, -3, -1, -1, -2, -2, -1], # C\n",
    "        'Q': [-1, 1,  0,  0,  -3, 5,  2,  -2, 0,  -3, -2, 1,  0,  -3, -1, 0,  -1, -2, -1, -2], # Q\n",
    "        'E': [-1, 0,  0,  2,  -4, 2,  5,  -2, 0,  -3, -3, 1,  -2, -3, -1, 0,  -1, -3, -2, -2], # E\n",
    "        'G': [0,  -2, 0,  -1, -3, -2, -2, 6,  -2, -4, -4, -2, -3, -3, -2, 0,  -2, -2, -3, -3], # G\n",
    "        'H': [-2, 0,  1,  -1, -3, 0,  0,  -2, 8,  -3, -3, -1, -2, -1, -2, -1, -2, -2, 2,  -3], # H\n",
    "        'I': [-1, -3, -3, -3, -1, -3, -3, -4, -3, 4,  2,  -3, 1,  0,  -3, -2, -1, -3, -1, 3],  # I\n",
    "        'L': [-1, -2, -3, -4, -1, -2, -3, -4, -3, 2,  4,  -2, 2,  0,  -3, -2, -1, -2, -1, 1],  # L\n",
    "        'K': [-1, 2,  0,  -1, -3, 1,  1,  -2, -1, -3, -2, 5,  -1, -3, -1, 0,  -1, -3, -2, -2], # K\n",
    "        'M': [-1, -1, -2, -3, -1, 0,  -2, -3, -2, 1,  2,  -1, 5,  0,  -2, -1, -1, -1, -1, 1],  # M\n",
    "        'F': [-2, -3, -3, -3, -2, -3, -3, -3, -1, 0,  0,  -3, 0,  6,  -4, -2, -2, 1,  3,  -1], # F\n",
    "        'P': [-1, -2, -2, -1, -3, -1, -1, -2, -2, -3, -3, -1, -2, -4, 7,  -1, -1, -4, -3, -2], # P\n",
    "        'S': [1,  -1, 1,  0,  -1, 0,  0,  0,  -1, -2, -2, 0,  -1, -2, -1, 4,  1,  -3, -2, -2], # S\n",
    "        'T': [0,  -1, 0,  -1, -1, -1, -1, -2, -2, -1, -1, -1, -1, -2, -1, 1,  5,  -2, -2, 0],  # T\n",
    "        'W': [-3, -3, -4, -4, -2, -2, -3, -2, -2, -3, -2, -3, -1, 1,  -4, -3, -2, 11, 2,  -3], # W\n",
    "        'Y': [-2, -2, -2, -3, -2, -1, -2, -3, 2,  -1, -1, -2, -1, 3,  -3, -2, -2, 2,  7,  -1], # Y\n",
    "        'V': [0,  -3, -3, -3, -1, -2, -2, -3, -3, 3,  1,  -2, 1,  -1, -2, -2, 0,  -3, -1, 4],  # V\n",
    "        '-': [0,  0,  0,  0,  0,  0,  0,  0,  0,  0,  0,  0,  0,  0,  0,  0,  0,  0,  0,  0],  # -\n",
    "    }\n",
    "\n",
    "def normalization(dataset):\n",
    "    min = dataset.min(axis=0)\n",
    "    max = dataset.max(axis=0)\n",
    "    dataset = (dataset - min) / (max - min)\n",
    "    return dataset\n",
    "\n",
    "def get_blosum62(seq):\n",
    "    blosum_list = []\n",
    "    for i in seq:\n",
    "        if i in blosum62:\n",
    "            blosum_list.append(blosum62[i])\n",
    "        else:\n",
    "            blosum_list.append(blosum62['-'])\n",
    "    blosum = np.array(blosum_list)\n",
    "#     blosum = normalization(blosum)  # why did they get ride of normalization?\n",
    "    feature = np.zeros((1002,20))\n",
    "    idx = blosum.shape[0]\n",
    "    feature[0:idx,:] = blosum\n",
    "    return feature\n",
    "\n",
    "\n",
    "def make_tensor(path):\n",
    "    data = pd.read_csv(path)\n",
    "    sequences = data['sequence'].values\n",
    "    labels = data['label'].values\n",
    "    evolution = torch.zeros(len(sequences),1002,20)\n",
    "    lengths = []\n",
    "    for i in range(len(sequences)):\n",
    "        lengths.append((len(sequences[i])))\n",
    "        temp = get_blosum62(sequences[i])\n",
    "        evolution[i,:,:] = torch.Tensor(temp)\n",
    "\n",
    "    return evolution, torch.Tensor(lengths), torch.Tensor(labels) "
   ]
  },
  {
   "cell_type": "code",
   "execution_count": 110,
   "metadata": {},
   "outputs": [],
   "source": [
    "class dvib(nn.Module):\n",
    "    def __init__(self,k,out_channels, hidden_size):\n",
    "        super(dvib, self).__init__()\n",
    "        \n",
    "        self.conv = torch.nn.Conv2d(in_channels=1,\n",
    "                            out_channels = out_channels,\n",
    "                            kernel_size = (1,20),\n",
    "                            stride=(1,1),\n",
    "                            padding=(0,0),\n",
    "                            )\n",
    "        \n",
    "        self.rnn = torch.nn.GRU(input_size = out_channels,  \n",
    "                                hidden_size = hidden_size,\n",
    "                                num_layers = 2,\n",
    "                                bidirectional = True,\n",
    "                                batch_first = True,\n",
    "                                dropout = 0.2\n",
    "                              )\n",
    "        \n",
    "        self.fc1 = nn.Linear(hidden_size*4, hidden_size*4)\n",
    "#         self.fc2 = nn.Linear(1024,1024)\n",
    "        self.enc_mean = nn.Linear(hidden_size*4+578,k)\n",
    "        self.enc_std = nn.Linear(hidden_size*4+578,k)\n",
    "        self.dec = nn.Linear(k, 2)\n",
    "        \n",
    "        self.drop_layer = torch.nn.Dropout(0.5)\n",
    "        \n",
    "        nn.init.xavier_uniform_(self.fc1.weight)\n",
    "        nn.init.constant_(self.fc1.bias, 0.0)\n",
    "#         nn.init.xavier_uniform_(self.fc2.weight)\n",
    "#         nn.init.constant_(self.fc2.bias, 0.0)\n",
    "        nn.init.xavier_uniform_(self.enc_mean.weight)\n",
    "        nn.init.constant_(self.enc_mean.bias, 0.0)\n",
    "        nn.init.xavier_uniform_(self.enc_std.weight)\n",
    "        nn.init.constant_(self.enc_std.bias, 0.0)\n",
    "        nn.init.xavier_uniform_(self.dec.weight)\n",
    "        nn.init.constant_(self.dec.bias, 0.0)\n",
    "   \n",
    "        \n",
    "        \n",
    "    def cnn_gru(self,x,lens):\n",
    "        x = x.unsqueeze(1)\n",
    "#         print(x.shape)\n",
    "        x = self.conv(x)\n",
    "#         print(x.shape)   \n",
    "        x = torch.nn.ReLU()(x)\n",
    "#         print(x.shape,type(x))\n",
    "        x = x.squeeze(3)\n",
    "#         x = x.view(x.size(0),-1)\n",
    "        x = x.permute(0,2,1)\n",
    "#         print(x.shape)\n",
    "#         print(type(lens))\n",
    "        gru_input = pack_padded_sequence(x,lens,batch_first=True)\n",
    "        output, hidden = self.rnn(gru_input)\n",
    "#         print(hidden.shape)\n",
    "        output_all = torch.cat([hidden[-1],hidden[-2],hidden[-3],hidden[-4]],dim=1)\n",
    "#         print(\"output_all.shape:\",output_all.shape)    \n",
    "        return output_all\n",
    "    \n",
    "        \n",
    "    def forward(self, pssm, lengths, FEGS): \n",
    "        cnn_vectors = self.cnn_gru(pssm, lengths)\n",
    "        feature_vec = torch.cat([cnn_vectors,FEGS], dim = 1)\n",
    "      \n",
    "        enc_mean, enc_std = self.enc_mean(feature_vec), f.softplus(self.enc_std(feature_vec)-5)\n",
    "        eps = torch.randn_like(enc_std)\n",
    "        latent = enc_mean + enc_std*eps\n",
    "        \n",
    "        outputs = f.sigmoid(self.dec(latent))\n",
    "#         print(outputs.shape)\n",
    "\n",
    "        return outputs,enc_mean, enc_std,latent"
   ]
  },
  {
   "cell_type": "code",
   "execution_count": 34,
   "metadata": {},
   "outputs": [],
   "source": [
    "# initialize model object\n",
    "device = torch.device('cpu')\n",
    "out_channels = 128\n",
    "hidden_size = 512\n",
    "beta = 2#0，1，3，4，5，6\n",
    "k = 1024\n",
    "model = dvib(k, out_channels, hidden_size).to(device)"
   ]
  },
  {
   "cell_type": "code",
   "execution_count": null,
   "metadata": {},
   "outputs": [],
   "source": [
    "class DBUnpickler(pickle.Unpickler):\n",
    "\n",
    "    def __init__(self, file):\n",
    "        super().__init__(file)\n",
    "\n",
    "    def persistent_load(self, pid):\n",
    "        # This method is invoked whenever a persistent ID is encountered.\n",
    "        # Here, pid is the tuple returned by DBPickler.\n",
    "        lib, className, file, device, unknown = pid\n",
    "        return className()"
   ]
  },
  {
   "cell_type": "code",
   "execution_count": null,
   "metadata": {},
   "outputs": [],
   "source": [
    "with open('../Model/archive/data.pkl', 'rb') as file:\n",
    "    pretrainedModel = DBUnpickler(file).load()"
   ]
  },
  {
   "cell_type": "code",
   "execution_count": 56,
   "metadata": {},
   "outputs": [],
   "source": [
    "# initialize model weights with weights from ToxIBTL paper\n",
    "for param, weights in zip(model.parameters(), pretrainedModel['model'].values()):\n",
    "    param.data = weights"
   ]
  },
  {
   "cell_type": "code",
   "execution_count": 102,
   "metadata": {},
   "outputs": [
    {
     "name": "stdout",
     "output_type": "stream",
     "text": [
      "4107\n"
     ]
    }
   ],
   "source": [
    "# retrieve FEGS embeddings for test set\n",
    "test_fegs = []\n",
    "for i in range(4108):\n",
    "    test_data = sio.loadmat('../data/testBatches/testBatch' + str(i) + '.mat')['mat']\n",
    "    if (len(test_data) != 10):\n",
    "        print(i)\n",
    "    test_fegs.append(test_data)\n",
    "    \n",
    "test_FEGS = torch.Tensor(normalization(np.vstack(test_fegs)))"
   ]
  },
  {
   "cell_type": "code",
   "execution_count": 104,
   "metadata": {},
   "outputs": [],
   "source": [
    "# note: takes a hot second to run, try to run ONCE\n",
    "test_path = '../data/test1002.csv'\n",
    "test_pssm, test_len, test_label = make_tensor(test_path)"
   ]
  },
  {
   "cell_type": "code",
   "execution_count": 106,
   "metadata": {},
   "outputs": [],
   "source": [
    "test_data = DataLoader(TensorDataset(test_pssm, test_len, test_FEGS, test_label), batch_size=100)"
   ]
  },
  {
   "cell_type": "code",
   "execution_count": 113,
   "metadata": {},
   "outputs": [
    {
     "name": "stderr",
     "output_type": "stream",
     "text": [
      "/Applications/PyMOL.app/Contents/envs/tox/lib/python3.9/site-packages/torch/nn/functional.py:1944: UserWarning: nn.functional.sigmoid is deprecated. Use torch.sigmoid instead.\n",
      "  warnings.warn(\"nn.functional.sigmoid is deprecated. Use torch.sigmoid instead.\")\n"
     ]
    },
    {
     "name": "stdout",
     "output_type": "stream",
     "text": [
      "\n",
      "Test: Accuracy:20029/41077 (48.7596%) f1:(0.0000%) mcc:(0.0000%)\n",
      "\n"
     ]
    }
   ],
   "source": [
    "# evaluate model\n",
    "correct = 0\n",
    "y_pre = []\n",
    "y_test = []\n",
    "with torch.no_grad():\n",
    "    for batch_idx, (sequences, lengths,FEGS, labels) in enumerate(test_data):\n",
    "        print(batch_idx + ' of ' + len(test_data))\n",
    "        seq_lengths, perm_idx = lengths.sort(dim=0,descending=True)\n",
    "        seq_tensor = sequences[perm_idx].to(device)\n",
    "        FEGS_tensor = FEGS[perm_idx].to(device)\n",
    "        label = labels[perm_idx].long().to(device)\n",
    "#                     seq_lengths = seq_lengths.to(device)\n",
    "        y_test.extend(label.cpu().detach().numpy())\n",
    "\n",
    "\n",
    "        y_pred, end_means, enc_stds,latent = model(seq_tensor,seq_lengths,FEGS_tensor)\n",
    "        y_pre.extend(y_pred.argmax(dim=1).cpu().detach().numpy())\n",
    "\n",
    "#             pred = outputs.argmax(dim=1)\n",
    "#             print(output.shape,label.shape)\n",
    "        _, pred = torch.max(y_pred, 1) \n",
    "\n",
    "        correct += pred.eq(label).sum().item()\n",
    "#             print(output,label.data)\n",
    "#             correct += (output == label.data).sum()\n",
    "\n",
    "    print('\\nTest: Accuracy:{}/{} ({:.4f}%) f1:({:.4f}%) mcc:({:.4f}%)\\n'.format(\n",
    "        correct, len(test_data.dataset),\n",
    "        100. * correct / len(test_data.dataset),\n",
    "        metrics.f1_score(y_test,y_pre),\n",
    "        metrics.matthews_corrcoef(y_test,y_pre)\n",
    "    ))"
   ]
  },
  {
   "cell_type": "code",
   "execution_count": null,
   "metadata": {},
   "outputs": [],
   "source": []
  }
 ],
 "metadata": {
  "kernelspec": {
   "display_name": "tox",
   "language": "python",
   "name": "tox"
  },
  "language_info": {
   "codemirror_mode": {
    "name": "ipython",
    "version": 3
   },
   "file_extension": ".py",
   "mimetype": "text/x-python",
   "name": "python",
   "nbconvert_exporter": "python",
   "pygments_lexer": "ipython3",
   "version": "3.9.12"
  }
 },
 "nbformat": 4,
 "nbformat_minor": 4
}
