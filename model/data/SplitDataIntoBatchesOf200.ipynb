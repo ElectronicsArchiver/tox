{
 "cells": [
  {
   "cell_type": "code",
   "execution_count": 16,
   "metadata": {},
   "outputs": [],
   "source": [
    "from Bio import SeqIO\n",
    "from Bio.SeqRecord import SeqRecord\n",
    "import math\n",
    "from collections import defaultdict"
   ]
  },
  {
   "cell_type": "code",
   "execution_count": 30,
   "metadata": {},
   "outputs": [],
   "source": [
    "testSeqs = SeqIO.parse(open('test.fasta'), 'fasta')\n",
    "batches = defaultdict(list)\n",
    "for i, fasta in enumerate(testSeqs):\n",
    "    batchNum = math.floor(i / 10)\n",
    "    record = SeqRecord(fasta.seq, id=fasta.id, description=fasta.description)\n",
    "    batches[batchNum].append(record)"
   ]
  },
  {
   "cell_type": "code",
   "execution_count": 31,
   "metadata": {},
   "outputs": [],
   "source": [
    "for batch, records in batches.items():\n",
    "    outFile = './testBatches/testBatch' + str(batch) + '.fasta'\n",
    "    with open(outFile, \"w\") as f:\n",
    "        SeqIO.write(records, f, \"fasta\")"
   ]
  },
  {
   "cell_type": "code",
   "execution_count": 32,
   "metadata": {},
   "outputs": [],
   "source": [
    "trainSeqs = SeqIO.parse(open('train.fasta'), 'fasta')\n",
    "batches = defaultdict(list)\n",
    "for i, fasta in enumerate(trainSeqs):\n",
    "    batchNum = math.floor(i / 10)\n",
    "    record = SeqRecord(fasta.seq, id=fasta.id, description=fasta.description)\n",
    "    batches[batchNum].append(record)"
   ]
  },
  {
   "cell_type": "code",
   "execution_count": 33,
   "metadata": {},
   "outputs": [],
   "source": [
    "for batch, records in batches.items():\n",
    "    outFile = './trainBatches/trainBatch' + str(batch) + '.fasta'\n",
    "    with open(outFile, \"w\") as f:\n",
    "        SeqIO.write(records, f, \"fasta\")"
   ]
  },
  {
   "cell_type": "code",
   "execution_count": null,
   "metadata": {},
   "outputs": [],
   "source": []
  }
 ],
 "metadata": {
  "kernelspec": {
   "display_name": "Python 3 (ipykernel)",
   "language": "python",
   "name": "python3"
  },
  "language_info": {
   "codemirror_mode": {
    "name": "ipython",
    "version": 3
   },
   "file_extension": ".py",
   "mimetype": "text/x-python",
   "name": "python",
   "nbconvert_exporter": "python",
   "pygments_lexer": "ipython3",
   "version": "3.9.12"
  }
 },
 "nbformat": 4,
 "nbformat_minor": 4
}
