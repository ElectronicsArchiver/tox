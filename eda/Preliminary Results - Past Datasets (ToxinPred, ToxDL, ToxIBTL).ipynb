{
 "cells": [
  {
   "cell_type": "code",
   "execution_count": 1,
   "metadata": {},
   "outputs": [],
   "source": [
    "from Bio import SeqIO\n",
    "from Bio.Seq import Seq\n",
    "from Bio.SeqRecord import SeqRecord"
   ]
  },
  {
   "cell_type": "markdown",
   "metadata": {},
   "source": [
    "## ToxIBTL Dataset Analysis"
   ]
  },
  {
   "cell_type": "code",
   "execution_count": 2,
   "metadata": {
    "scrolled": true
   },
   "outputs": [],
   "source": [
    "# read in protein training data\n",
    "toxibtlProteinTrainPosSeqs = set()\n",
    "toxibtlProteinTrainNegSeqs = set()\n",
    "\n",
    "toxibtlProteinTrainPosRepeats = []\n",
    "toxibtlProteinTrainNegRepeats = []\n",
    "\n",
    "toxibtlProteinTrainSeqs = SeqIO.parse(open('../data/toxibtl/protein/train.fa'), 'fasta')\n",
    "for fasta in toxibtlProteinTrainSeqs:\n",
    "    _, isPos = fasta.description.split('\\t')\n",
    "    seq = str(fasta.seq)\n",
    "    if isPos == '0':\n",
    "        if seq in toxibtlProteinTrainNegSeqs:\n",
    "            toxibtlProteinTrainNegRepeats.append(seq)\n",
    "        else:\n",
    "            toxibtlProteinTrainNegSeqs.add(seq)\n",
    "    else:\n",
    "        if seq in toxibtlProteinTrainPosSeqs:\n",
    "            toxibtlProteinTrainPosRepeats.append(seq)\n",
    "        else:\n",
    "            toxibtlProteinTrainPosSeqs.add(seq)"
   ]
  },
  {
   "cell_type": "code",
   "execution_count": 3,
   "metadata": {},
   "outputs": [
    {
     "name": "stdout",
     "output_type": "stream",
     "text": [
      "4331\n",
      "5519\n"
     ]
    }
   ],
   "source": [
    "print(len(toxibtlProteinTrainPosSeqs))\n",
    "print(len(toxibtlProteinTrainNegSeqs))"
   ]
  },
  {
   "cell_type": "code",
   "execution_count": 4,
   "metadata": {},
   "outputs": [
    {
     "name": "stdout",
     "output_type": "stream",
     "text": [
      "82\n",
      "152\n"
     ]
    }
   ],
   "source": [
    "print(len(toxibtlProteinTrainPosRepeats))\n",
    "print(len(toxibtlProteinTrainNegRepeats))"
   ]
  },
  {
   "cell_type": "code",
   "execution_count": 5,
   "metadata": {},
   "outputs": [],
   "source": [
    "# read in protein test data\n",
    "toxibtlProteinTestPosSeqs = set()\n",
    "toxibtlProteinTestNegSeqs = set()\n",
    "\n",
    "toxibtlProteinTestPosRepeats = []\n",
    "toxibtlProteinTestNegRepeats = []\n",
    "\n",
    "toxibtlProteinTestSeqs = SeqIO.parse(open('../data/toxibtl/protein/test.fa'), 'fasta')\n",
    "for fasta in toxibtlProteinTestSeqs:\n",
    "    _, isPos = fasta.description.split('\\t')\n",
    "    seq = str(fasta.seq)\n",
    "    if isPos == '0':\n",
    "        if seq in toxibtlProteinTestNegSeqs:\n",
    "            toxibtlProteinTestNegRepeats.append(seq)\n",
    "        else:\n",
    "            toxibtlProteinTestNegSeqs.add(seq)\n",
    "    else:\n",
    "        if seq in toxibtlProteinTestPosSeqs:\n",
    "            toxibtlProteinTestPosRepeats.append(seq)\n",
    "        else:\n",
    "            toxibtlProteinTestPosSeqs.add(seq)"
   ]
  },
  {
   "cell_type": "code",
   "execution_count": 6,
   "metadata": {},
   "outputs": [
    {
     "name": "stdout",
     "output_type": "stream",
     "text": [
      "59\n",
      "670\n"
     ]
    }
   ],
   "source": [
    "print(len(toxibtlProteinTestPosSeqs))\n",
    "print(len(toxibtlProteinTestNegSeqs))"
   ]
  },
  {
   "cell_type": "code",
   "execution_count": 7,
   "metadata": {},
   "outputs": [
    {
     "name": "stdout",
     "output_type": "stream",
     "text": [
      "0\n",
      "0\n"
     ]
    }
   ],
   "source": [
    "print(len(toxibtlProteinTestPosRepeats))\n",
    "print(len(toxibtlProteinTestNegRepeats))"
   ]
  },
  {
   "cell_type": "code",
   "execution_count": 8,
   "metadata": {},
   "outputs": [],
   "source": [
    "# read in peptide data\n",
    "toxibtlPeptidePosSeqs = set()\n",
    "toxibtlPeptideNegSeqs = set()\n",
    "\n",
    "toxibtlPeptidePosRepeats = []\n",
    "toxibtlPeptideNegRepeats = []\n",
    "\n",
    "toxibtlPeptideSeqs = SeqIO.parse(open('../data/toxibtl/peptide/peptide.fasta'), 'fasta')\n",
    "for fasta in toxibtlPeptideSeqs:\n",
    "    isPos, _ = fasta.description.split(' ')\n",
    "    seq = str(fasta.seq)\n",
    "    if isPos == '|non-toxin':\n",
    "        if seq in toxibtlPeptideNegSeqs or seq in toxibtlProteinTrainNegSeqs or seq in toxibtlProteinTestNegSeqs:\n",
    "            toxibtlPeptideNegRepeats.append(seq)\n",
    "        else:\n",
    "            toxibtlPeptideNegSeqs.add(seq)\n",
    "    else:\n",
    "        if seq in toxibtlPeptidePosSeqs or seq in toxibtlProteinTrainPosSeqs or seq in toxibtlProteinTestPosSeqs:\n",
    "            toxibtlPeptidePosRepeats.append(seq)\n",
    "        else:\n",
    "            toxibtlPeptidePosSeqs.add(seq)"
   ]
  },
  {
   "cell_type": "code",
   "execution_count": 9,
   "metadata": {},
   "outputs": [
    {
     "name": "stdout",
     "output_type": "stream",
     "text": [
      "1303\n",
      "1841\n"
     ]
    }
   ],
   "source": [
    "print(len(toxibtlPeptidePosSeqs))\n",
    "print(len(toxibtlPeptideNegSeqs))"
   ]
  },
  {
   "cell_type": "code",
   "execution_count": 10,
   "metadata": {},
   "outputs": [
    {
     "name": "stdout",
     "output_type": "stream",
     "text": [
      "629\n",
      "91\n"
     ]
    }
   ],
   "source": [
    "print(len(toxibtlPeptidePosRepeats))\n",
    "print(len(toxibtlPeptideNegRepeats))"
   ]
  },
  {
   "cell_type": "markdown",
   "metadata": {},
   "source": [
    "The following conclusions can be drawn:\n",
    "* There are repeat sequences in the protein train set. This may affect training of model weights.\n",
    "* There data points in the peptide dataset that are in the protein dataset. Given that Wei et al do not provide the actual train-test split they used, it's possible that the test set they used had data points that were used to train the model. This prevents a proper evaluation of the model."
   ]
  },
  {
   "cell_type": "markdown",
   "metadata": {},
   "source": [
    "## ToxinPred Dataset Analysis"
   ]
  },
  {
   "cell_type": "code",
   "execution_count": 11,
   "metadata": {},
   "outputs": [],
   "source": [
    "toxibtlPosSeqs = toxibtlProteinTrainPosSeqs.union(toxibtlProteinTestPosSeqs).union(toxibtlPeptidePosSeqs)\n",
    "toxibtlNegSeqs = toxibtlProteinTrainNegSeqs.union(toxibtlProteinTestNegSeqs).union(toxibtlPeptideNegSeqs)"
   ]
  },
  {
   "cell_type": "code",
   "execution_count": 12,
   "metadata": {},
   "outputs": [
    {
     "name": "stdout",
     "output_type": "stream",
     "text": [
      "5693\n",
      "8030\n"
     ]
    }
   ],
   "source": [
    "# sanity check:\n",
    "print(len(toxibtlPosSeqs))\n",
    "print(len(toxibtlNegSeqs))"
   ]
  },
  {
   "cell_type": "code",
   "execution_count": 13,
   "metadata": {},
   "outputs": [],
   "source": [
    "# read in train data\n",
    "toxinpredTrainPosSeqs1 = []\n",
    "toxinpredTrainPosSeqs2 = []\n",
    "toxinpredTrainNegSeqs1 = []\n",
    "toxinpredTrainNegSeqs2 = []\n",
    "\n",
    "# positive ex\n",
    "with open('../data/toxinpred/toxinpred-main-pos-1.txt') as f:\n",
    "    lines = f.read().splitlines()\n",
    "    toxinpredTrainPosSeqs1.extend(lines)\n",
    "with open('../data/toxinpred/toxinpred-main-pos-2.txt') as f:\n",
    "    lines = f.read().splitlines()\n",
    "    toxinpredTrainPosSeqs2.extend(lines)\n",
    "    \n",
    "with open('../data/toxinpred/toxinpred-main-neg-1.txt') as f:\n",
    "    lines = f.read().splitlines()\n",
    "    toxinpredTrainNegSeqs1.extend(lines)\n",
    "with open('../data/toxinpred/toxinpred-main-neg-2.txt') as f:\n",
    "    lines = f.read().splitlines()\n",
    "    toxinpredTrainNegSeqs2.extend(lines)"
   ]
  },
  {
   "cell_type": "code",
   "execution_count": 14,
   "metadata": {},
   "outputs": [],
   "source": [
    "toxinpredTrainPosSeqs = set(toxinpredTrainPosSeqs1 + toxinpredTrainPosSeqs2)\n",
    "toxinpredTrainNegSeqs = set(toxinpredTrainNegSeqs1 + toxinpredTrainNegSeqs2)"
   ]
  },
  {
   "cell_type": "code",
   "execution_count": 15,
   "metadata": {},
   "outputs": [
    {
     "name": "stdout",
     "output_type": "stream",
     "text": [
      "1805\n",
      "16043\n"
     ]
    }
   ],
   "source": [
    "print(len(toxinpredTrainPosSeqs))\n",
    "print(len(toxinpredTrainNegSeqs))"
   ]
  },
  {
   "cell_type": "code",
   "execution_count": 16,
   "metadata": {},
   "outputs": [],
   "source": [
    "posTrainNotInIBTL = []\n",
    "for seq in toxinpredTrainPosSeqs:\n",
    "    if seq not in toxibtlPosSeqs:\n",
    "        posTrainNotInIBTL.append(seq)\n",
    "        \n",
    "negTrainNotInIBTL = []\n",
    "for seq in toxinpredTrainNegSeqs:\n",
    "    if seq not in toxibtlNegSeqs:\n",
    "        negTrainNotInIBTL.append(seq)"
   ]
  },
  {
   "cell_type": "code",
   "execution_count": 17,
   "metadata": {},
   "outputs": [
    {
     "name": "stdout",
     "output_type": "stream",
     "text": [
      "987\n",
      "14968\n"
     ]
    }
   ],
   "source": [
    "print(len(posTrainNotInIBTL))\n",
    "print(len(negTrainNotInIBTL))"
   ]
  },
  {
   "cell_type": "code",
   "execution_count": 18,
   "metadata": {},
   "outputs": [
    {
     "name": "stdout",
     "output_type": "stream",
     "text": [
      "0\n",
      "0\n",
      "0\n",
      "0\n"
     ]
    }
   ],
   "source": [
    "print(len(toxinpredTrainPosSeqs1) - len(set(toxinpredTrainPosSeqs1)))\n",
    "print(len(toxinpredTrainPosSeqs2) - len(set(toxinpredTrainPosSeqs2)))\n",
    "print(len(toxinpredTrainNegSeqs1) - len(set(toxinpredTrainNegSeqs1)))\n",
    "print(len(toxinpredTrainNegSeqs2) - len(set(toxinpredTrainNegSeqs2)))"
   ]
  },
  {
   "cell_type": "code",
   "execution_count": 19,
   "metadata": {},
   "outputs": [],
   "source": [
    "# read in test data\n",
    "toxinpredTestPosSeqs1 = []\n",
    "toxinpredTestPosSeqs2 = []\n",
    "toxinpredTestNegSeqs1 = []\n",
    "toxinpredTestNegSeqs2 = []\n",
    "\n",
    "toxinpredTestPosRepeatSeqs = set()\n",
    "toxinpredTestNegRepeatSeqs = set()\n",
    "\n",
    "with open('../data/toxinpred/toxinpred-ind-pos-1.txt') as f:\n",
    "    lines = f.read().splitlines()\n",
    "    toxinpredTestPosSeqs1.extend(lines)\n",
    "with open('../data/toxinpred/toxinpred-ind-pos-2.txt') as f:\n",
    "    lines = f.read().splitlines()\n",
    "    toxinpredTestPosSeqs2.extend(lines)\n",
    "    \n",
    "    \n",
    "with open('../data/toxinpred/toxinpred-ind-neg-1.txt') as f:\n",
    "    lines = f.read().splitlines()\n",
    "    toxinpredTestNegSeqs1.extend(lines)\n",
    "with open('../data/toxinpred/toxinpred-ind-neg-2.txt') as f:\n",
    "    lines = f.read().splitlines()\n",
    "    toxinpredTestNegSeqs2.extend(lines)"
   ]
  },
  {
   "cell_type": "code",
   "execution_count": 20,
   "metadata": {},
   "outputs": [],
   "source": [
    "toxinpredTestPosSeqs = set(toxinpredTestPosSeqs1 + toxinpredTestPosSeqs2)\n",
    "toxinpredTestNegSeqs = set(toxinpredTestNegSeqs1 + toxinpredTestNegSeqs2)"
   ]
  },
  {
   "cell_type": "code",
   "execution_count": 21,
   "metadata": {},
   "outputs": [
    {
     "name": "stdout",
     "output_type": "stream",
     "text": [
      "303\n",
      "1298\n"
     ]
    }
   ],
   "source": [
    "print(len(toxinpredTestPosSeqs))\n",
    "print(len(toxinpredTestNegSeqs))"
   ]
  },
  {
   "cell_type": "code",
   "execution_count": 22,
   "metadata": {},
   "outputs": [],
   "source": [
    "posTestNotInIBTL = set()\n",
    "for seq in set(toxinpredTestPosSeqs):\n",
    "    if seq not in toxibtlPosSeqs:\n",
    "        posTestNotInIBTL.add(seq)\n",
    "        \n",
    "negTestNotInIBTL = set()\n",
    "for seq in set(toxinpredTestNegSeqs):\n",
    "    if seq not in toxibtlNegSeqs:\n",
    "        negTestNotInIBTL.add(seq)"
   ]
  },
  {
   "cell_type": "code",
   "execution_count": 23,
   "metadata": {},
   "outputs": [
    {
     "name": "stdout",
     "output_type": "stream",
     "text": [
      "57\n",
      "1214\n"
     ]
    }
   ],
   "source": [
    "print(len(posTestNotInIBTL))\n",
    "print(len(negTestNotInIBTL))"
   ]
  },
  {
   "cell_type": "code",
   "execution_count": 24,
   "metadata": {},
   "outputs": [
    {
     "name": "stdout",
     "output_type": "stream",
     "text": [
      "0\n",
      "0\n",
      "0\n",
      "0\n"
     ]
    }
   ],
   "source": [
    "print(len(toxinpredTestPosSeqs1) - len(set(toxinpredTestPosSeqs1)))\n",
    "print(len(toxinpredTestPosSeqs2) - len(set(toxinpredTestPosSeqs2)))\n",
    "print(len(toxinpredTestNegSeqs1) - len(set(toxinpredTestNegSeqs1)))\n",
    "print(len(toxinpredTestNegSeqs2) - len(set(toxinpredTestNegSeqs2)))"
   ]
  },
  {
   "cell_type": "code",
   "execution_count": 25,
   "metadata": {},
   "outputs": [],
   "source": [
    "# check overlap in train / test split\n",
    "toxinpredPosOverlaps1 = set()\n",
    "for seq in toxinpredTestPosSeqs1:\n",
    "    if seq in toxinpredTrainPosSeqs1:\n",
    "        toxinpredPosOverlaps1.add(seq)\n",
    "\n",
    "toxinpredPosOverlaps2 = set()\n",
    "for seq in toxinpredTestPosSeqs2:\n",
    "    if seq in toxinpredTrainPosSeqs2:\n",
    "        toxinpredPosOverlaps2.add(seq)\n",
    "        \n",
    "toxinpredNegOverlaps1 = set()\n",
    "for seq in toxinpredTestNegSeqs1:\n",
    "    if seq in toxinpredTrainNegSeqs1:\n",
    "        toxinpredNegOverlaps1.add(seq)\n",
    "        \n",
    "toxinpredNegOverlaps2 = set()\n",
    "for seq in toxinpredTestNegSeqs2:\n",
    "    if seq in toxinpredTrainNegSeqs2:\n",
    "        toxinpredNegOverlaps2.add(seq)"
   ]
  },
  {
   "cell_type": "code",
   "execution_count": 26,
   "metadata": {},
   "outputs": [
    {
     "name": "stdout",
     "output_type": "stream",
     "text": [
      "0\n",
      "0\n",
      "0\n",
      "0\n"
     ]
    }
   ],
   "source": [
    "print(len(toxinpredPosOverlaps1))\n",
    "print(len(toxinpredPosOverlaps2))\n",
    "print(len(toxinpredNegOverlaps1))\n",
    "print(len(toxinpredNegOverlaps2))"
   ]
  },
  {
   "cell_type": "markdown",
   "metadata": {},
   "source": [
    "From the above, we can conclude the following:\n",
    "* The ToxinPred dataset contains training examples that were not found in the ToxIBTL dataset."
   ]
  },
  {
   "cell_type": "markdown",
   "metadata": {},
   "source": [
    "## ToxDL Dataset Analysis"
   ]
  },
  {
   "cell_type": "code",
   "execution_count": 27,
   "metadata": {},
   "outputs": [],
   "source": [
    "toxinpredPosSeqs = toxinpredTrainPosSeqs.union(toxinpredTestPosSeqs)\n",
    "toxinpredNegSeqs = toxinpredTrainNegSeqs.union(toxinpredTestNegSeqs)"
   ]
  },
  {
   "cell_type": "code",
   "execution_count": 28,
   "metadata": {},
   "outputs": [
    {
     "name": "stdout",
     "output_type": "stream",
     "text": [
      "2108\n",
      "17331\n"
     ]
    }
   ],
   "source": [
    "# sanity check:\n",
    "print(len(toxinpredPosSeqs))\n",
    "print(len(toxinpredNegSeqs))"
   ]
  },
  {
   "cell_type": "code",
   "execution_count": 29,
   "metadata": {},
   "outputs": [],
   "source": [
    "# read in train & val data\n",
    "toxdlTrainPosSeqs = set()\n",
    "toxdlTrainNegSeqs = set()\n",
    "\n",
    "toxdlTrainPosRepeats = set()\n",
    "toxdlTrainNegRepeats = set()\n",
    "\n",
    "toxdlTrainValFiles = ['../data/toxdl/train.fa', '../data/toxdl/valid.fa']\n",
    "for file in toxdlTrainValFiles:\n",
    "    toxdlSeqs = SeqIO.parse(open(file), 'fasta')\n",
    "    for fasta in toxdlSeqs:\n",
    "        _, isPos = fasta.description.split('\\t')\n",
    "        seq = str(fasta.seq)\n",
    "        if isPos == '0':\n",
    "            if seq in toxdlTrainNegSeqs:\n",
    "                toxdlTrainNegRepeats.add(seq)\n",
    "            toxdlTrainNegSeqs.add(seq)\n",
    "        else:\n",
    "            if seq in toxdlTrainPosSeqs:\n",
    "                toxdlTrainPosRepeats.add(seq)\n",
    "            toxdlTrainPosSeqs.add(seq)"
   ]
  },
  {
   "cell_type": "code",
   "execution_count": 30,
   "metadata": {},
   "outputs": [
    {
     "name": "stdout",
     "output_type": "stream",
     "text": [
      "4356\n",
      "5796\n"
     ]
    }
   ],
   "source": [
    "print(len(toxdlTrainPosSeqs))\n",
    "print(len(toxdlTrainNegSeqs))"
   ]
  },
  {
   "cell_type": "code",
   "execution_count": 31,
   "metadata": {},
   "outputs": [
    {
     "name": "stdout",
     "output_type": "stream",
     "text": [
      "69\n",
      "85\n"
     ]
    }
   ],
   "source": [
    "print(len(toxdlTrainPosRepeats))\n",
    "print(len(toxdlTrainNegRepeats))"
   ]
  },
  {
   "cell_type": "code",
   "execution_count": 32,
   "metadata": {},
   "outputs": [],
   "source": [
    "# read in test data\n",
    "toxdlTestPosSeqs = set()\n",
    "toxdlTestNegSeqs = set()\n",
    "\n",
    "toxdlTestPosRepeats = set()\n",
    "toxdlTestNegRepeats = set()\n",
    "\n",
    "toxdlTestFiles = ['../data/toxdl/bacteria1.fa', '../data/toxdl/test.fa']\n",
    "for file in toxdlTestFiles:\n",
    "    toxdlSeqs = SeqIO.parse(open(file), 'fasta')\n",
    "    for fasta in toxdlSeqs:\n",
    "        _, isPos = fasta.description.split('\\t')\n",
    "        seq = str(fasta.seq)\n",
    "        if isPos == '0':\n",
    "            if seq in toxdlTestNegSeqs:\n",
    "                toxdlTestNegRepeats.add(seq)\n",
    "            toxdlTestNegSeqs.add(seq)\n",
    "        else:\n",
    "            if seq in toxdlTestPosSeqs:\n",
    "                toxdlTestPosRepeats.add(seq)\n",
    "            toxdlTestPosSeqs.add(seq)"
   ]
  },
  {
   "cell_type": "code",
   "execution_count": 33,
   "metadata": {},
   "outputs": [
    {
     "name": "stdout",
     "output_type": "stream",
     "text": [
      "239\n",
      "1047\n"
     ]
    }
   ],
   "source": [
    "print(len(toxdlTestPosSeqs))\n",
    "print(len(toxdlTestNegSeqs))"
   ]
  },
  {
   "cell_type": "code",
   "execution_count": 34,
   "metadata": {},
   "outputs": [
    {
     "name": "stdout",
     "output_type": "stream",
     "text": [
      "0\n",
      "5\n"
     ]
    }
   ],
   "source": [
    "print(len(toxdlTestPosRepeats))\n",
    "print(len(toxdlTestNegRepeats))"
   ]
  },
  {
   "cell_type": "code",
   "execution_count": 35,
   "metadata": {},
   "outputs": [],
   "source": [
    "toxdlPosOverlaps = []\n",
    "toxdlPosNotInPrev = set()\n",
    "for seq in toxdlTestPosSeqs:\n",
    "    if seq not in toxibtlPosSeqs and seq not in toxinpredPosSeqs:\n",
    "        toxdlPosNotInPrev.add(seq)\n",
    "    if seq in toxdlTrainPosSeqs:\n",
    "        toxdlPosOverlaps.append(seq)\n",
    "        \n",
    "toxdlNegOverlaps = []\n",
    "toxdlNegNotInPrev = set()\n",
    "for seq in toxdlTestNegSeqs:\n",
    "    if seq not in toxibtlNegSeqs and seq not in toxinpredNegSeqs:\n",
    "        toxdlNegNotInPrev.add(seq)\n",
    "    if seq in toxdlTrainNegSeqs:\n",
    "        toxdlNegOverlaps.append(seq)"
   ]
  },
  {
   "cell_type": "code",
   "execution_count": 36,
   "metadata": {},
   "outputs": [
    {
     "name": "stdout",
     "output_type": "stream",
     "text": [
      "0\n",
      "0\n"
     ]
    }
   ],
   "source": [
    "print(len(toxdlPosOverlaps))\n",
    "print(len(toxdlNegOverlaps))"
   ]
  },
  {
   "cell_type": "code",
   "execution_count": 37,
   "metadata": {},
   "outputs": [
    {
     "name": "stdout",
     "output_type": "stream",
     "text": [
      "180\n",
      "377\n"
     ]
    }
   ],
   "source": [
    "print(len(toxdlPosNotInPrev))\n",
    "print(len(toxdlNegNotInPrev))"
   ]
  },
  {
   "cell_type": "markdown",
   "metadata": {},
   "source": [
    "From the above code, we can conclude that\n",
    "* There are data points in the ToxDL dataset that are not in either the ToxIBTL or ToxinPred datasets.\n",
    "* There are some repeat data points in the training dataset, which could affect training"
   ]
  },
  {
   "cell_type": "markdown",
   "metadata": {},
   "source": [
    "## Combine datasets and write to new file"
   ]
  },
  {
   "cell_type": "code",
   "execution_count": 38,
   "metadata": {},
   "outputs": [],
   "source": [
    "toxdlPosSeqs = toxdlTrainPosSeqs.union(toxdlTestPosSeqs)\n",
    "toxdlNegSeqs = toxdlTrainNegSeqs.union(toxdlTestNegSeqs)"
   ]
  },
  {
   "cell_type": "code",
   "execution_count": 39,
   "metadata": {},
   "outputs": [
    {
     "name": "stdout",
     "output_type": "stream",
     "text": [
      "6843\n"
     ]
    }
   ],
   "source": [
    "print(len(toxdlNegSeqs))"
   ]
  },
  {
   "cell_type": "code",
   "execution_count": 104,
   "metadata": {},
   "outputs": [
    {
     "name": "stdout",
     "output_type": "stream",
     "text": [
      "6942\n",
      "24857\n"
     ]
    }
   ],
   "source": [
    "posSeqs = set(toxibtlPosSeqs.union(toxinpredPosSeqs).union(toxdlPosSeqs))\n",
    "negSeqs = set(toxibtlNegSeqs.union(toxinpredNegSeqs).union(toxdlNegSeqs))\n",
    "posSeqs = [SeqRecord(Seq(seq), id=str(i)) for i, seq in enumerate(posSeqs)]\n",
    "negSeqs = [SeqRecord(Seq(seq), id=str(i)) for i, seq in enumerate(negSeqs)]\n",
    "\n",
    "print(len(posSeqs))\n",
    "print(len(negSeqs))\n",
    "\n",
    "# with open(\"../cdhit/input/posSeqs.fasta\", \"w\") as f:\n",
    "#     SeqIO.write(posSeqs, f, \"fasta\")\n",
    "# with open(\"../cdhit/input/negSeqs.fasta\", \"w\") as f:\n",
    "#     SeqIO.write(negSeqs, f, \"fasta\")"
   ]
  },
  {
   "cell_type": "code",
   "execution_count": null,
   "metadata": {},
   "outputs": [],
   "source": []
  }
 ],
 "metadata": {
  "kernelspec": {
   "display_name": "tox",
   "language": "python",
   "name": "tox"
  },
  "language_info": {
   "codemirror_mode": {
    "name": "ipython",
    "version": 3
   },
   "file_extension": ".py",
   "mimetype": "text/x-python",
   "name": "python",
   "nbconvert_exporter": "python",
   "pygments_lexer": "ipython3",
   "version": "3.9.12"
  }
 },
 "nbformat": 4,
 "nbformat_minor": 2
}
